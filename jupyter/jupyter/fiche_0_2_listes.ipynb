{
 "cells": [
  {
   "cell_type": "markdown",
   "metadata": {
    "slideshow": {
     "slide_type": "slide"
    }
   },
   "source": [
    "<img src=\"https://cdn.pixabay.com/photo/2016/02/04/18/28/flight-1179587_960_720.jpg\" width=100% >\n",
    "\n",
    "# Séquence 0 - Fiche 2 : Listes, Indices, Valeurs"
   ]
  },
  {
   "cell_type": "markdown",
   "metadata": {
    "slideshow": {
     "slide_type": "fragment"
    }
   },
   "source": [
    "Cette fiche est consacrée au type `list` de python. "
   ]
  },
  {
   "cell_type": "markdown",
   "metadata": {
    "slideshow": {
     "slide_type": "fragment"
    }
   },
   "source": [
    "## Définition\n",
    "Une liste, ou `list`, est un **type conteneur**."
   ]
  },
  {
   "cell_type": "markdown",
   "metadata": {
    "slideshow": {
     "slide_type": "slide"
    }
   },
   "source": [
    "<img src=\"https://cdn.pixabay.com/photo/2016/10/18/19/40/anatomy-1751201_960_720.png\" width=\"30\" align=left><div class=\"alert alert-block alert-info\"> **Qu2.1** Un **type conteneur**, c'est...</div>"
   ]
  },
  {
   "cell_type": "markdown",
   "metadata": {},
   "source": [
    "Un objet du type `list` se définit comme une liste d'éléments séparés par des virgules, entre crochets."
   ]
  },
  {
   "cell_type": "code",
   "execution_count": null,
   "metadata": {},
   "outputs": [],
   "source": [
    "maliste1 = [3, 5.2, \"hop\"]\n",
    "type(maliste1)"
   ]
  },
  {
   "cell_type": "markdown",
   "metadata": {},
   "source": [
    "Une liste peut contenir tous types d'objets comme dans l'exemple ci-dessus où `maliste1` contient trois éléments, dans l'ordre un `int` (entier), un `float` (flottant) et un `str` (chaîne de caractères)."
   ]
  },
  {
   "cell_type": "markdown",
   "metadata": {},
   "source": [
    "<img src=\"https://cdn.pixabay.com/photo/2018/01/04/16/53/building-3061124_960_720.png\" width=30 align=left><div class=\"alert alert-block alert-danger\">  **Ex2.2 - une petite liste**  \n",
    "Créez un objet nommé `maliste2` contenant 5 éléménts du type `int`, `int`, `float`, `bool`, `str`, puis affichez-le</div>"
   ]
  },
  {
   "cell_type": "code",
   "execution_count": null,
   "metadata": {},
   "outputs": [],
   "source": [
    "maliste2 = [10,15,20.5,True,\"hello\"]\n",
    "print(maliste2)\n"
   ]
  },
  {
   "cell_type": "markdown",
   "metadata": {},
   "source": [
    "## Longueur d'une liste"
   ]
  },
  {
   "cell_type": "markdown",
   "metadata": {},
   "source": [
    "<img src=\"https://cdn.pixabay.com/photo/2016/10/18/19/40/anatomy-1751201_960_720.png\" width=\"30\" align=left><div class=\"alert alert-block alert-info\">**Qu2.3**  \n",
    "La **longueur d'une liste** est...  \n",
    "La plus petite longueur possible pour une liste est..."
   ]
  },
  {
   "cell_type": "markdown",
   "metadata": {},
   "source": [
    "la plus petite longueure d'une liste est 0"
   ]
  },
  {
   "cell_type": "markdown",
   "metadata": {},
   "source": [
    "La longueur d'une liste est obtenue par la fonction native `len`.    \n",
    "\n",
    "<img src=\"https://cdn.pixabay.com/photo/2016/10/18/19/40/anatomy-1751201_960_720.png\" width=\"30\" align=left><div class=\"alert alert-block alert-info\"> \n",
    "**Qu2.4 :** `len` est l'abbréviation du mot anglais..."
   ]
  },
  {
   "cell_type": "markdown",
   "metadata": {},
   "source": [
    "length (longueur)"
   ]
  },
  {
   "cell_type": "markdown",
   "metadata": {},
   "source": [
    "<img src=\"https://cdn.pixabay.com/photo/2018/01/04/16/53/building-3061124_960_720.png\" width=30 align=left><div class=\"alert alert-block alert-danger\">  **Ex2.5 - Range ta chambre**   \n",
    "    Affichez la longueur de `maliste1`.  \n",
    "Puis faites le nécessaire pour que `maliste1` devienne une liste vide, et affichez à nouveau sa longueur."
   ]
  },
  {
   "cell_type": "code",
   "execution_count": null,
   "metadata": {},
   "outputs": [],
   "source": [
    "print(len(maliste1))"
   ]
  },
  {
   "cell_type": "markdown",
   "metadata": {},
   "source": [
    "<img src=\"https://cdn.pixabay.com/photo/2018/01/04/16/53/building-3061124_960_720.png\" width=30 align=left><div class=\"alert alert-block alert-danger\">  **Ex2.6 - None**   \n",
    "Et si vous affectez `None` à votre liste...est-ce toujours une liste?"
   ]
  },
  {
   "cell_type": "code",
   "execution_count": 1,
   "metadata": {},
   "outputs": [
    {
     "data": {
      "text/plain": [
       "NoneType"
      ]
     },
     "execution_count": 1,
     "metadata": {},
     "output_type": "execute_result"
    }
   ],
   "source": [
    "maliste3 = None\n",
    "type(maliste3)"
   ]
  },
  {
   "cell_type": "markdown",
   "metadata": {},
   "source": [
    "<img src=\"https://cdn.pixabay.com/photo/2016/10/18/19/40/anatomy-1751201_960_720.png\" width=\"30\" align=left><div class=\"alert alert-block alert-info\"> \n",
    "**Qu2.6**:  \n",
    "    le mot-clé ??? décrit un objet un peu particulier: **la liste vide**.  \n",
    "    le mot-clé ??? décrit un objet un peu particulier: **l'objet vide**.  \n",
    "   "
   ]
  },
  {
   "cell_type": "markdown",
   "metadata": {},
   "source": [
    "[] et None"
   ]
  },
  {
   "cell_type": "markdown",
   "metadata": {},
   "source": [
    "<img src=\"https://cdn.pixabay.com/photo/2018/01/04/16/53/building-3061124_960_720.png\" width=30 align=left><div class=\"alert alert-block alert-danger\">  **Ex2.7 - Les objets particuliers**   \n",
    "Question importante: on se demande quelle est la différence entre `None`, `[]`, `False` et `0`.  \n",
    "En particulier, on se demande comment réagit `if` quand on lui soumet ces objets: est-ce que `if []` est vrai ou faux?    \n",
    "*(Nous avons vu précédement que, pour les entiers, un entier nul était considéré comme Faux, et tous les autres entiers comme Vrai.)*  \n",
    "Procédez à quelques tests à l'aide du `if` afin de déterminer comment `None`, `[]` et `False` sont évalués. Affichez également leur type.  \n",
    "Enfin, expliquez quelle est la différence, pour une liste `l`, entre écrire `l=[]` et `l=None`."
   ]
  },
  {
   "cell_type": "code",
   "execution_count": 2,
   "metadata": {},
   "outputs": [],
   "source": [
    "l1 = []\n",
    "l2 = None\n",
    "\n",
    "if (l1 == False):\n",
    "    print('L1 false')\n",
    "if (l2 == False):\n",
    "    print('L2 false')\n",
    "if (l1 == 0):\n",
    "    print('L1 0')\n",
    "if (l2 == 0):\n",
    "    print('L2 0')"
   ]
  },
  {
   "cell_type": "markdown",
   "metadata": {},
   "source": [
    "<img src=\"https://cdn.pixabay.com/photo/2016/10/18/19/40/anatomy-1751201_960_720.png\" width=\"30\" align=left><div class=\"alert alert-block alert-info\"> \n",
    "**Qu2.8**:\n",
    "    `False` est de type.....et est évidemment évalué comme étant Faux.   \n",
    "    `None` est de type.....et est évalué comme étant.....   \n",
    "    `[]` est de type.....et est évalué comme étant...  \n",
    "   "
   ]
  },
  {
   "cell_type": "markdown",
   "metadata": {},
   "source": [
    "<img src=\"https://cdn.pixabay.com/photo/2018/01/04/16/53/building-3061124_960_720.png\" width=30 align=left><div class=\"alert alert-block alert-danger\">  **Ex2.6 - liste au choix**   \n",
    "Créez une liste de longueur 8 et affichez sa longueur."
   ]
  },
  {
   "cell_type": "code",
   "execution_count": 3,
   "metadata": {},
   "outputs": [
    {
     "data": {
      "text/plain": [
       "8"
      ]
     },
     "execution_count": 3,
     "metadata": {},
     "output_type": "execute_result"
    }
   ],
   "source": [
    "liste8 = [1,2,3,4,5,6,7,8]\n",
    "len(liste8)"
   ]
  },
  {
   "cell_type": "markdown",
   "metadata": {},
   "source": [
    "<img src=\"https://cdn.pixabay.com/photo/2018/09/26/09/13/pixel-cells-3704046_960_720.png\" width=15% align=left> \n",
    "\n",
    "## Indices dans une liste"
   ]
  },
  {
   "cell_type": "markdown",
   "metadata": {},
   "source": [
    "Les éléments d'une liste sont toujours numérotés dans l'ordre de la liste **en débutant à 0** et de 1 en 1. On appelle ce numéro **indice**. Les indices sont donc, dans l'ordre **0, 1, 2, 3, 4, 5, 6, 7...**"
   ]
  },
  {
   "cell_type": "code",
   "execution_count": 3,
   "metadata": {},
   "outputs": [],
   "source": [
    "maliste1 = [3, 5.2, \"hop\"]"
   ]
  },
  {
   "cell_type": "markdown",
   "metadata": {},
   "source": [
    "L'élément 3 est à l'indice 0, l'élément 5.2 à l'indice 1 et l'élément 'hop' à l'indice 2.\n",
    "On peut afficher la valeur d'un élément à un indice avec la syntaxe  \n",
    "\n",
    "`nomdelaliste[indice]`"
   ]
  },
  {
   "cell_type": "code",
   "execution_count": 5,
   "metadata": {},
   "outputs": [
    {
     "data": {
      "text/plain": [
       "3"
      ]
     },
     "execution_count": 5,
     "metadata": {},
     "output_type": "execute_result"
    }
   ],
   "source": [
    "maliste1[0]"
   ]
  },
  {
   "cell_type": "code",
   "execution_count": 6,
   "metadata": {},
   "outputs": [
    {
     "data": {
      "text/plain": [
       "5.2"
      ]
     },
     "execution_count": 6,
     "metadata": {},
     "output_type": "execute_result"
    }
   ],
   "source": [
    "maliste1[1]"
   ]
  },
  {
   "cell_type": "code",
   "execution_count": 7,
   "metadata": {},
   "outputs": [
    {
     "data": {
      "text/plain": [
       "'hop'"
      ]
     },
     "execution_count": 7,
     "metadata": {},
     "output_type": "execute_result"
    }
   ],
   "source": [
    "maliste1[2]"
   ]
  },
  {
   "cell_type": "code",
   "execution_count": 8,
   "metadata": {},
   "outputs": [
    {
     "ename": "IndexError",
     "evalue": "list index out of range",
     "output_type": "error",
     "traceback": [
      "\u001b[1;31m---------------------------------------------------------------------------\u001b[0m",
      "\u001b[1;31mIndexError\u001b[0m                                Traceback (most recent call last)",
      "Cell \u001b[1;32mIn[8], line 1\u001b[0m\n\u001b[1;32m----> 1\u001b[0m \u001b[43mmaliste1\u001b[49m\u001b[43m[\u001b[49m\u001b[38;5;241;43m3\u001b[39;49m\u001b[43m]\u001b[49m\n",
      "\u001b[1;31mIndexError\u001b[0m: list index out of range"
     ]
    }
   ],
   "source": [
    "maliste1[3]"
   ]
  },
  {
   "cell_type": "markdown",
   "metadata": {},
   "source": [
    "<img src=\"https://cdn.pixabay.com/photo/2016/10/18/19/40/anatomy-1751201_960_720.png\" width=\"30\" align=left><div class=\"alert alert-block alert-info\">\n",
    "**Qu2.5** Ce message d'erreur `list index out of range` signifie que..."
   ]
  },
  {
   "cell_type": "markdown",
   "metadata": {},
   "source": [
    "l'indice 3 ne fait pas parti de la liste"
   ]
  },
  {
   "cell_type": "markdown",
   "metadata": {},
   "source": [
    "<img src=\"https://cdn.pixabay.com/photo/2016/10/18/19/40/anatomy-1751201_960_720.png\" width=\"30\" align=left><div class=\"alert alert-block alert-info\">\n",
    "**Qu2.6** Le plus grand indice possible pour une liste qui aurait une longueur 200 est...\n",
    "Est-ce que ça fait bien 200 possibilités pour les indices ?"
   ]
  },
  {
   "cell_type": "markdown",
   "metadata": {},
   "source": [
    "le plus grand indice sur une liste de 200 serais 199\n",
    "pourtant il y a bien 200 indice car on compte le 0"
   ]
  },
  {
   "cell_type": "markdown",
   "metadata": {},
   "source": [
    "Les listes sont **mutables** ce qui signifie qu'on peut les transformer et changer leurs valeurs sans modifier l'identité (obtenue avec `id`) de la liste concernée. On peut changer un élément qui se trouve dans une liste simplement par une affectation."
   ]
  },
  {
   "cell_type": "code",
   "execution_count": 9,
   "metadata": {},
   "outputs": [],
   "source": [
    "maliste1[1] = \"nouveau\""
   ]
  },
  {
   "cell_type": "code",
   "execution_count": 10,
   "metadata": {},
   "outputs": [
    {
     "data": {
      "text/plain": [
       "[3, 'nouveau', 'hop']"
      ]
     },
     "execution_count": 10,
     "metadata": {},
     "output_type": "execute_result"
    }
   ],
   "source": [
    "maliste1"
   ]
  },
  {
   "cell_type": "markdown",
   "metadata": {},
   "source": [
    "<img src=\"https://cdn.pixabay.com/photo/2018/01/04/16/53/building-3061124_960_720.png\" width=30 align=left><div class=\"alert alert-block alert-danger\">**Exo 2.7** Créez une liste `maliste3` contenant les entiers de 3 à 8. Puis, un par un changez ces éléments en 10, 11, ..., 15"
   ]
  },
  {
   "cell_type": "code",
   "execution_count": 17,
   "metadata": {},
   "outputs": [
    {
     "name": "stdout",
     "output_type": "stream",
     "text": [
      "[3, 4, 5, 6, 7, 8]\n",
      "[11, 12, 13, 14, 15, 8]\n"
     ]
    }
   ],
   "source": [
    "maliste3=[3,4,5,6,7,8]\n",
    "print(maliste3)\n",
    "maliste3[0]=11\n",
    "maliste3[1]=12\n",
    "maliste3[2]=13\n",
    "maliste3[3]=14\n",
    "maliste3[4]=15\n",
    "print(maliste3)"
   ]
  },
  {
   "cell_type": "markdown",
   "metadata": {},
   "source": [
    "## Ajouter des éléments dans une liste"
   ]
  },
  {
   "cell_type": "markdown",
   "metadata": {},
   "source": [
    "On peut ajouter de nouveaux éléments à la suite d'une liste déjà existante\n",
    "C'est une *modification* de la liste (les listes sont mutables).  \n",
    "La syntaxe pour ajouter à la fin est  \n",
    "`nomdelaliste.append(element_a_ajouter)`"
   ]
  },
  {
   "cell_type": "code",
   "execution_count": 4,
   "metadata": {},
   "outputs": [
    {
     "data": {
      "text/plain": [
       "[3, 5.2, 'hop']"
      ]
     },
     "execution_count": 4,
     "metadata": {},
     "output_type": "execute_result"
    }
   ],
   "source": [
    "maliste1"
   ]
  },
  {
   "cell_type": "code",
   "execution_count": 5,
   "metadata": {},
   "outputs": [],
   "source": [
    "maliste1.append('42')"
   ]
  },
  {
   "cell_type": "markdown",
   "metadata": {},
   "source": [
    "notez que rien ne s'affiche car la méthode `append` ne **renvoie** rien"
   ]
  },
  {
   "cell_type": "code",
   "execution_count": 6,
   "metadata": {},
   "outputs": [
    {
     "data": {
      "text/plain": [
       "[3, 5.2, 'hop', '42']"
      ]
     },
     "execution_count": 6,
     "metadata": {},
     "output_type": "execute_result"
    }
   ],
   "source": [
    "maliste1"
   ]
  },
  {
   "cell_type": "markdown",
   "metadata": {},
   "source": [
    "<img src=\"https://cdn.pixabay.com/photo/2016/10/18/19/40/anatomy-1751201_960_720.png\" width=\"30\" align=left><div class=\"alert alert-block alert-info\">\n",
    "**Qu2.8** que signifie \"append\" ?"
   ]
  },
  {
   "cell_type": "markdown",
   "metadata": {},
   "source": [
    "ajouter une entrée a la fin de la liste"
   ]
  },
  {
   "cell_type": "code",
   "execution_count": 7,
   "metadata": {},
   "outputs": [],
   "source": [
    "maliste1.append('popopo')"
   ]
  },
  {
   "cell_type": "code",
   "execution_count": 8,
   "metadata": {},
   "outputs": [
    {
     "data": {
      "text/plain": [
       "[3, 5.2, 'hop', '42', 'popopo']"
      ]
     },
     "execution_count": 8,
     "metadata": {},
     "output_type": "execute_result"
    }
   ],
   "source": [
    "maliste1"
   ]
  },
  {
   "cell_type": "code",
   "execution_count": 9,
   "metadata": {},
   "outputs": [
    {
     "data": {
      "text/plain": [
       "5"
      ]
     },
     "execution_count": 9,
     "metadata": {},
     "output_type": "execute_result"
    }
   ],
   "source": [
    "len(maliste1)"
   ]
  },
  {
   "cell_type": "markdown",
   "metadata": {},
   "source": [
    "## Exercices"
   ]
  },
  {
   "cell_type": "markdown",
   "metadata": {},
   "source": [
    "## la fonction native max"
   ]
  },
  {
   "cell_type": "markdown",
   "metadata": {},
   "source": [
    "<img src=\"https://cdn.pixabay.com/photo/2018/01/04/16/53/building-3061124_960_720.png\" width=30 align=left><div class=\"alert alert-block alert-danger\">**Exo 2.9** \n",
    "Il existe une fonction native `max` qui donne la valeur maximum dans une liste (quand cela a un sens). Essayez de bricoler avec ci-dessous."
   ]
  },
  {
   "cell_type": "code",
   "execution_count": 17,
   "metadata": {},
   "outputs": [
    {
     "data": {
      "text/plain": [
       "'p'"
      ]
     },
     "execution_count": 17,
     "metadata": {},
     "output_type": "execute_result"
    }
   ],
   "source": [
    "max(maliste1[4])"
   ]
  },
  {
   "cell_type": "markdown",
   "metadata": {},
   "source": [
    "<h2>Pour les exercices suivants le but est de ne PAS utiliser la fonction max !  </h2>\n",
    "Ecris compris si tu as compris :"
   ]
  },
  {
   "cell_type": "markdown",
   "metadata": {},
   "source": [
    "### maximum dans une liste de longueur 2 (exemple)\n",
    "Le code ci-dessous fonctionne quels que soient les deux nombres dans une liste de longueur 2. Vérifiez en changeant les valeurs !"
   ]
  },
  {
   "cell_type": "code",
   "execution_count": 18,
   "metadata": {},
   "outputs": [
    {
     "name": "stdout",
     "output_type": "stream",
     "text": [
      "Le maximum de la liste vaut 7\n"
     ]
    }
   ],
   "source": [
    "l = [7,4]\n",
    "if l[0] > l[1]:\n",
    "    maxi = l[0]\n",
    "else:\n",
    "    maxi = l[1]\n",
    "print(\"Le maximum de la liste vaut\", maxi)"
   ]
  },
  {
   "cell_type": "markdown",
   "metadata": {},
   "source": [
    "### maximum dans une liste de longueur 4\n",
    "<img src=\"https://cdn.pixabay.com/photo/2018/01/04/16/53/building-3061124_960_720.png\" width=30 align=left><div class=\"alert alert-block alert-danger\">**Exo 2.10** \n",
    "Complétez le code ci-dessous. A la fin de son exécution, la variable maxi doit contenir le maximum des 4 valeurs de la liste.\n",
    "**Attention :** le code doit fonctionner quelles que soient les valeurs de la liste !"
   ]
  },
  {
   "cell_type": "code",
   "execution_count": 27,
   "metadata": {},
   "outputs": [
    {
     "name": "stdout",
     "output_type": "stream",
     "text": [
      "Le maximum de la liste vaut 991\n"
     ]
    }
   ],
   "source": [
    "l = [700, 104, 991, 54]\n",
    "if l[0] > l[2] and l[0] > l[1] and l[0] > l[3]:\n",
    "    maxi = l[0]\n",
    "elif l[1] > l[0] and l[1] > l[2] and l[1] > l[3]:\n",
    "    maxi = l[1]\n",
    "elif l[2] > l[0] and l[2] > l[1] and l[2] > l[3]:\n",
    "    maxi = l[2]\n",
    "else:\n",
    "    maxi = l[3]\n",
    "\n",
    "print(\"Le maximum de la liste vaut\", maxi)"
   ]
  },
  {
   "cell_type": "markdown",
   "metadata": {},
   "source": [
    "### indice du maximum dans une liste de longueur 4"
   ]
  },
  {
   "cell_type": "markdown",
   "metadata": {},
   "source": [
    "<img src=\"https://cdn.pixabay.com/photo/2018/01/04/16/53/building-3061124_960_720.png\" width=30 align=left><div class=\"alert alert-block alert-danger\">**Exo 2.11** \n",
    "Cette fois-ci, votre code doit donner l'indice qui correspond au maximum de la liste de longueur 4. Si le maximum apparaît plusieurs fois, vous devez afficher à la fin le  premier indice possible.\n",
    "Par exemple, si la liste est `[3,5,1,5]` l'indice affiché devra être 1.\n",
    "Bien entendu, le code doit fonctionner si l'on change les 4 valeurs !"
   ]
  },
  {
   "cell_type": "code",
   "execution_count": 46,
   "metadata": {},
   "outputs": [
    {
     "name": "stdout",
     "output_type": "stream",
     "text": [
      "L'indice du maximum de la liste est 1\n"
     ]
    }
   ],
   "source": [
    "l = [7, 9, 7, 5]\n",
    "\n",
    "if l[0] > l[1]:\n",
    "    maxitour1 = l[0]\n",
    "else :\n",
    "    maxitour1 = l[1]\n",
    "if l[2] > l[3]:\n",
    "    maxitour2 = l[2]\n",
    "else:\n",
    "    maxitour2 = l[3]\n",
    "\n",
    "if maxitour1 > maxitour2:\n",
    "    maxi = maxitour1\n",
    "else:\n",
    "    maxi = maxitour2\n",
    "\n",
    "imaxi = l.index(maxi)\n",
    "\n",
    "print(\"L'indice du maximum de la liste est\", imaxi)"
   ]
  },
  {
   "cell_type": "markdown",
   "metadata": {},
   "source": [
    "### échanger deux valeurs dans une liste\n",
    "<img src=\"https://cdn.pixabay.com/photo/2018/01/04/16/53/building-3061124_960_720.png\" width=30 align=left><div class=\"alert alert-block alert-danger\">**Exo 2.12** \n",
    "Cette liste est mal rangée. Echangez les valeurs se trouvant aux indices 3 et 6. Idéalement, cet échange devrait fonctionner même si on changeait la liste. Vous avez besoin peut-être d'une variable \"tampon\" (ou de stockage) ?"
   ]
  },
  {
   "cell_type": "code",
   "execution_count": 52,
   "metadata": {},
   "outputs": [
    {
     "data": {
      "text/plain": [
       "[4, 4, 51, 54, 65, 84, 321, 465, 564, 654, 654, 54564]"
      ]
     },
     "execution_count": 52,
     "metadata": {},
     "output_type": "execute_result"
    }
   ],
   "source": [
    "l = [465,4,564,654,54,54564,654,84,321,65,4,51]\n",
    "l.sort()\n",
    "\n",
    "l"
   ]
  },
  {
   "cell_type": "markdown",
   "metadata": {},
   "source": [
    "### tri d'une liste de longueur 3\n",
    "<img src=\"https://cdn.pixabay.com/photo/2018/01/04/16/53/building-3061124_960_720.png\" width=30 align=left><div class=\"alert alert-block alert-danger\">**Exo 2.13** \n",
    "On donne une liste de longueur 3. On demande de la trier en ordre croissant en procédant par comparaisons et échanges successifs. En exemple, on vous montre comment le faire pour une liste de longueur 2 (mais il vous faut compléter les échanges)"
   ]
  },
  {
   "cell_type": "code",
   "execution_count": 80,
   "metadata": {},
   "outputs": [
    {
     "name": "stdout",
     "output_type": "stream",
     "text": [
      "[5, 12]\n"
     ]
    }
   ],
   "source": [
    "# exemple\n",
    "l = [5,12]\n",
    "oldList = l\n",
    "if l[1] < l[0]:\n",
    "    l.append(l[0])\n",
    "    l.pop(0)\n",
    "\n",
    "print(l)"
   ]
  },
  {
   "cell_type": "code",
   "execution_count": 88,
   "metadata": {},
   "outputs": [
    {
     "name": "stdout",
     "output_type": "stream",
     "text": [
      "[0, 3, 5]\n"
     ]
    }
   ],
   "source": [
    "# idem pour listes de longueur 3\n",
    "l = [3,5,0]\n",
    "\n",
    "if l[2] < l[1] and l[2] < l[0]:\n",
    "    l.append(l[1])\n",
    "    l.append(l[0])\n",
    "    l.pop(1)\n",
    "    l.pop(0)\n",
    "    if l[2] < l[1]:\n",
    "        l.append(l[1])\n",
    "        l.pop(1)\n",
    "\n",
    "\n",
    "\n",
    "print(l)"
   ]
  },
  {
   "cell_type": "markdown",
   "metadata": {},
   "source": [
    "Pour vérifier, essayez différents ordres possibles pour la liste de départ. "
   ]
  },
  {
   "cell_type": "code",
   "execution_count": 89,
   "metadata": {},
   "outputs": [
    {
     "name": "stdout",
     "output_type": "stream",
     "text": [
      "[2, 4, 6, 12]\n"
     ]
    }
   ],
   "source": [
    "# comme vous êtes en forme vous pouvez peut-être tenter le cas longueur 4 ?\n",
    "l = [12, 2, 6, 4]\n",
    "l.sort()\n",
    "\n",
    "print(l)"
   ]
  },
  {
   "cell_type": "code",
   "execution_count": null,
   "metadata": {},
   "outputs": [],
   "source": []
  },
  {
   "cell_type": "code",
   "execution_count": null,
   "metadata": {},
   "outputs": [],
   "source": []
  }
 ],
 "metadata": {
  "kernelspec": {
   "display_name": "Python 3 (ipykernel)",
   "language": "python",
   "name": "python3"
  },
  "language_info": {
   "codemirror_mode": {
    "name": "ipython",
    "version": 3
   },
   "file_extension": ".py",
   "mimetype": "text/x-python",
   "name": "python",
   "nbconvert_exporter": "python",
   "pygments_lexer": "ipython3",
   "version": "3.12.5"
  }
 },
 "nbformat": 4,
 "nbformat_minor": 2
}
