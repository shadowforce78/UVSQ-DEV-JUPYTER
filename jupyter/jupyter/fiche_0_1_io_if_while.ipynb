{
 "cells": [
  {
   "cell_type": "markdown",
   "metadata": {},
   "source": [
    "<img src=\"https://cdn.pixabay.com/photo/2020/06/12/20/33/decision-5291766_960_720.jpg\" align=right width=\"400\">  \n",
    "\n",
    "# Séquence 0 / Fiche 1 - Python : entrées/sorties, structures conditionnelles, boucles  \n",
    "Bienvenue sur le Jupyter du **Cours d'initiation au développement du DUT INFO/Vélizy**.\n",
    "\n",
    "Dans cette fiche, nous allons aborder:\n",
    " * les entrées-sorties en python: jouer avec le chaînes de caractères et découvrir `input`\n",
    " * les structures conditionnelles: `if`, `else`, `elif` \n",
    " * un certain type de boucles: `while`\n",
    "\n",
    "Dans les séquences de travail, vous rencontrerez certains logos :\n",
    " * <img src=\"https://cdn.pixabay.com/photo/2018/01/04/16/53/building-3061124_960_720.png\" width=30 align=left><div class=\"alert alert-block alert-danger\"> indique un exercice à réaliser  </div>\n",
    " * <img src=\"https://cdn.pixabay.com/photo/2016/10/18/19/40/anatomy-1751201_960_720.png\" width=\"30\" align=left> <div class=\"alert alert-block alert-info\">indique un point important qui nécessite une réponse de votre part et sera ensuite demandé lors du bilan de la séquence</div>"
   ]
  },
  {
   "cell_type": "markdown",
   "metadata": {},
   "source": [
    "## Entrées/sorties\n",
    "On appelle entrées/sorties l'ensemble des flux qui transitent vers l'écran (sorties) ou depuis le clavier (entrées). Ces entrées/sorties (**input/output** ou **io** en anglais) vous permettent de communiquer avec votre machine.  \n",
    "\n",
    "Dans la séquence précédente, nous avons manipulé `print` sans en expliquer le fonctionnement en détail.\n",
    "\n",
    "### `print` pour les nuls\n",
    "Dans sa version de base, `print` permet d'afficher du texte, des valeurs de variables."
   ]
  },
  {
   "cell_type": "code",
   "execution_count": 1,
   "metadata": {
    "scrolled": true
   },
   "outputs": [
    {
     "name": "stdout",
     "output_type": "stream",
     "text": [
      "du texte\n",
      "des variables\n"
     ]
    }
   ],
   "source": [
    "print(\"du texte\")\n",
    "a,b = \"variables\", \"des\" # saviez-vous qu'on peut affecter simultanément plusieurs variables ?\n",
    "print(b,a)"
   ]
  },
  {
   "cell_type": "markdown",
   "metadata": {},
   "source": [
    "On peut aussi mêler texte et variables, de la façon suivante :"
   ]
  },
  {
   "cell_type": "code",
   "execution_count": 2,
   "metadata": {
    "scrolled": true
   },
   "outputs": [
    {
     "name": "stdout",
     "output_type": "stream",
     "text": [
      "il est exactement 12 heures et 8 minutes\n"
     ]
    }
   ],
   "source": [
    "h = 12\n",
    "m = 8\n",
    "print(\"il est exactement\",h,\"heures et\",m,\"minutes\")"
   ]
  },
  {
   "cell_type": "markdown",
   "metadata": {},
   "source": [
    "<img src=\"https://cdn.pixabay.com/photo/2018/01/04/16/53/building-3061124_960_720.png\" width=30 align=left>  <div class=\"alert alert-block alert-danger\">**Ex1 - Restez zen**  \n",
    "Initialisez 3 variables `x`, `y` et `z` avec des valeurs quelconques et affichez quelque chose comme `coordonnées du point A(12,17,-5)` en utilisant les valeurs des trois variables comme coordonnées.</div>"
   ]
  },
  {
   "cell_type": "code",
   "execution_count": 14,
   "metadata": {
    "scrolled": true
   },
   "outputs": [
    {
     "name": "stdout",
     "output_type": "stream",
     "text": [
      "Les coordonnées du point A( 15 , 24 , 69 )\n"
     ]
    }
   ],
   "source": [
    "x,y,z = 15,24,69\n",
    "print('Les coordonnées du point A(',x,',',y,',',z,')')"
   ]
  },
  {
   "cell_type": "markdown",
   "metadata": {
    "scrolled": true
   },
   "source": [
    "Après cet exercice, vous devez avoir compris que cette notation qui mélange texte et variables est extrêmement pénible et met parfois des espaces là où on n'en voudrait pas.\n",
    "Il nous faut un autre moyen de réaliser ce genre d'affichages...  \n",
    "\n",
    "### Formatage des chaînes de caractères\n",
    "Pour se simplifier la vie lors de l'affichage, on va utiliser le **formatage des chaînes de caractères**, qui permet de mêler facilement texte et variables, et de modifier le format des variables. "
   ]
  },
  {
   "cell_type": "markdown",
   "metadata": {},
   "source": [
    "<img src=\"https://cdn.pixabay.com/photo/2016/10/18/19/40/anatomy-1751201_960_720.png\" width=\"30\" align=left> <div class=\"alert alert-block alert-info\">**IMPORTANT** : Le **format**, c'est la façon de représenter une valeur.  \n",
    "    Par exemple, l'entier `12` peut être affiché sous forme de flottant `12.0` ou d'hexadécimal `0xC`.</div>"
   ]
  },
  {
   "cell_type": "markdown",
   "metadata": {},
   "source": [
    "Voici la façon de procéder pour mêler texte et variables :"
   ]
  },
  {
   "cell_type": "code",
   "execution_count": 15,
   "metadata": {
    "scrolled": true
   },
   "outputs": [
    {
     "name": "stdout",
     "output_type": "stream",
     "text": [
      "il a mangé 2 beignets\n"
     ]
    }
   ],
   "source": [
    "b = 2\n",
    "s = f\"il a mangé {b} beignets\"\n",
    "print(s)"
   ]
  },
  {
   "cell_type": "code",
   "execution_count": 16,
   "metadata": {
    "scrolled": true
   },
   "outputs": [
    {
     "name": "stdout",
     "output_type": "stream",
     "text": [
      "C'est quand même 1 petit peu + simple, non?\n"
     ]
    }
   ],
   "source": [
    "q = \"quand\"\n",
    "p = \"+\"\n",
    "u = 1\n",
    "print(f\"C'est {q} même {u} petit peu {p} simple, non?\")"
   ]
  },
  {
   "cell_type": "markdown",
   "metadata": {},
   "source": [
    "Le préfixe `f` en amont d'une chaîne indique qu'on va formater la chaîne.  \n",
    "On peut, dans les accolades et à côté de l'identifiant de la variable utilisée, ajouter des instructions de formatage :"
   ]
  },
  {
   "cell_type": "code",
   "execution_count": 17,
   "metadata": {
    "scrolled": true
   },
   "outputs": [
    {
     "name": "stdout",
     "output_type": "stream",
     "text": [
      "Ce truc coûte 12€ mais on va plutôt afficher 12.00€.\n"
     ]
    }
   ],
   "source": [
    "pr = 12\n",
    "print(f\"Ce truc coûte {pr}€ mais on va plutôt afficher {pr:.2f}€.\")"
   ]
  },
  {
   "cell_type": "code",
   "execution_count": 18,
   "metadata": {
    "scrolled": true
   },
   "outputs": [
    {
     "name": "stdout",
     "output_type": "stream",
     "text": [
      "On peut plus généralement écrire des expressions comme 723 mais elles sont  évaluées et seul le résultat final apparaît\n"
     ]
    }
   ],
   "source": [
    "print(f\"On peut plus généralement écrire des expressions comme {345 + 54*7} mais elles sont  évaluées \\\n",
    "et seul le résultat final apparaît\")"
   ]
  },
  {
   "cell_type": "markdown",
   "metadata": {},
   "source": [
    "<img src=\"https://cdn.pixabay.com/photo/2018/01/04/16/53/building-3061124_960_720.png\" width=30 align=left>  <div class=\"alert alert-block alert-danger\">**Ex1 bis - Restez encore zen**  \n",
    "Initialisez 3 variables `x`, `y` et `z` avec des valeurs quelconques et affichez quelque chose comme `coordonnées du point A(12,17,-5)` en utilisant les valeurs des trois variables comme coordonnées, en utilisant le formattage !</div>"
   ]
  },
  {
   "cell_type": "code",
   "execution_count": 19,
   "metadata": {},
   "outputs": [
    {
     "name": "stdout",
     "output_type": "stream",
     "text": [
      "Les coordonnées du point A(15,24,69)\n"
     ]
    }
   ],
   "source": [
    "x,y,z = 15,24,69\n",
    "print(f'Les coordonnées du point A({x},{y},{z})')"
   ]
  },
  {
   "cell_type": "markdown",
   "metadata": {},
   "source": [
    "## Concaténation des chaînes de caractère\n"
   ]
  },
  {
   "cell_type": "markdown",
   "metadata": {
    "scrolled": true
   },
   "source": [
    "<img src=\"https://cdn.pixabay.com/photo/2018/01/04/16/53/building-3061124_960_720.png\" width=30 align=left>  <div class=\"alert alert-block alert-danger\">**Ex2.0**  \n",
    "Testez les instructions suivantes et comprenez leur fonctionnement."
   ]
  },
  {
   "cell_type": "code",
   "execution_count": 20,
   "metadata": {},
   "outputs": [
    {
     "name": "stdout",
     "output_type": "stream",
     "text": [
      "salutça va ?\n",
      "salut ça va ?\n",
      "salutsalutsalutsalutsalutsalutsalutsalutsalutsalut\n",
      "hophophophophop\n",
      "une ligne\n",
      "une ligne\n",
      "une ligne\n",
      "une ligne\n",
      "une ligne\n",
      "\n"
     ]
    }
   ],
   "source": [
    "s1 = \"salut\"\n",
    "s2 = \"ça va ?\"\n",
    "print(s1 + s2)\n",
    "print(s1 + \" \" + s2)\n",
    "print(s1 * 10)\n",
    "print(\"hop\"*5)\n",
    "print(\"une ligne\\n\" * 5)"
   ]
  },
  {
   "cell_type": "markdown",
   "metadata": {},
   "source": [
    "<img src=\"https://cdn.pixabay.com/photo/2018/01/04/16/53/building-3061124_960_720.png\" width=30 align=left>  <div class=\"alert alert-block alert-danger\">**Ex2.1 - Dou-bi-dou-bi-dou-waaa**  \n",
    "1) Êtes-vous capable d'afficher en un seul print...  \n",
    "    ... 5 fois la variable `a` à la suite (sur une ligne)"
   ]
  },
  {
   "cell_type": "code",
   "execution_count": 27,
   "metadata": {
    "scrolled": true
   },
   "outputs": [
    {
     "name": "stdout",
     "output_type": "stream",
     "text": [
      "doubidoubidoubidoubidoubi\n"
     ]
    }
   ],
   "source": [
    "a = \"doubi\"\n",
    "print(a*5)\n",
    "#complétez"
   ]
  },
  {
   "cell_type": "markdown",
   "metadata": {},
   "source": [
    "<img src=\"https://cdn.pixabay.com/photo/2018/01/04/16/53/building-3061124_960_720.png\"\n",
    "width=30 align=left>  <div class=\"alert alert-block alert-danger\">**Ex2.1 suite**  \n",
    "2) Êtes-vous capable d'afficher  en un seul print...  \n",
    "    ... 5 fois la variable `a` à la suite (sur une ligne) MAIS avec des espaces"
   ]
  },
  {
   "cell_type": "code",
   "execution_count": 26,
   "metadata": {},
   "outputs": [
    {
     "name": "stdout",
     "output_type": "stream",
     "text": [
      "douba douba douba douba douba \n"
     ]
    }
   ],
   "source": [
    "b = \"douba\"\n",
    "print((b+\" \")*5)"
   ]
  },
  {
   "cell_type": "markdown",
   "metadata": {},
   "source": [
    "<img src=\"https://cdn.pixabay.com/photo/2018/01/04/16/53/building-3061124_960_720.png\"\n",
    "width=30 align=left>  <div class=\"alert alert-block alert-danger\">**Ex2.1 suite**  \n",
    "2) Êtes-vous capable d'afficher  en un seul print...  \n",
    "    ... 5 fois la variable `a` à la suite (sur une ligne) suivie de `b` (sur une seule ligne)"
   ]
  },
  {
   "cell_type": "code",
   "execution_count": 29,
   "metadata": {},
   "outputs": [
    {
     "name": "stdout",
     "output_type": "stream",
     "text": [
      "doubidoubidoubidoubidoubi douba douba douba douba douba \n"
     ]
    }
   ],
   "source": [
    "a = \"doubi\"\n",
    "b = \"douba\"\n",
    "print(a*5 +\" \"+ (b+\" \")*5)"
   ]
  },
  {
   "cell_type": "markdown",
   "metadata": {},
   "source": [
    "<img src=\"https://cdn.pixabay.com/photo/2018/01/04/16/53/building-3061124_960_720.png\"\n",
    "width=30 align=left>  <div class=\"alert alert-block alert-danger\">**Ex2.1 suite**  \n",
    "2) Êtes-vous capable d'afficher  en un seul print...  \n",
    "    ... 5 fois la variable `a` à la suite (sur une ligne) suivie de `b` et ce, sur 5 lignes de suite !!!"
   ]
  },
  {
   "cell_type": "code",
   "execution_count": 32,
   "metadata": {},
   "outputs": [
    {
     "name": "stdout",
     "output_type": "stream",
     "text": [
      "doubidoubidoubidoubidoubi\n",
      "douba\n",
      "douba\n",
      "douba\n",
      "douba\n",
      "douba\n",
      "\n"
     ]
    }
   ],
   "source": [
    "a = \"doubi\"\n",
    "b = \"douba\"\n",
    "print((a*5) + '\\n' + ((b+\"\\n\")*5))"
   ]
  },
  {
   "cell_type": "markdown",
   "metadata": {},
   "source": [
    "<img src=\"https://cdn.pixabay.com/photo/2016/10/18/19/40/anatomy-1751201_960_720.png\" width=\"30\" align=left> <div class=\"alert alert-block alert-info\">**TRES IMPORTANT** : ce procédé de formatage des *strings* se nomme *f-strings*. Il a été introduit à partir de python 3.7. Si vous disposez d'une version antérieure, vous devez utiliser le procédé qui prévalait alors et qui différe sensiblement, voir [ici](https://docs.python.org/fr/3.5/tutorial/inputoutput.html#).</div>"
   ]
  },
  {
   "cell_type": "markdown",
   "metadata": {},
   "source": [
    "### `input`\n",
    "Lors de vos interactions avec votre programme, vous pouvez avoir besoin de demander à l'utilisateur de saisir une donnée ou une réponse. La fonction qui permet cela s'appelle `input` et s'utilise ainsi :"
   ]
  },
  {
   "cell_type": "code",
   "execution_count": 33,
   "metadata": {
    "scrolled": true
   },
   "outputs": [
    {
     "name": "stdout",
     "output_type": "stream",
     "text": [
      "tu as tapé 'aaa' !\n"
     ]
    }
   ],
   "source": [
    "a = input(\"tape un truc: \")\n",
    "print(f\"tu as tapé '{a}' !\")"
   ]
  },
  {
   "cell_type": "markdown",
   "metadata": {},
   "source": [
    "<img src=\"https://cdn.pixabay.com/photo/2018/01/04/16/53/building-3061124_960_720.png\" width=30 align=left>  <div class=\"alert alert-block alert-danger\">**Ex2.2 - Quel est son type?**  \n",
    "Pouvez-vous afficher le type de la variable `a`, et vérifier ce qu'il advient quand on saisit des données entières, décimales, texte... ?</div>"
   ]
  },
  {
   "cell_type": "code",
   "execution_count": 53,
   "metadata": {
    "scrolled": true
   },
   "outputs": [
    {
     "ename": "TypeError",
     "evalue": "'str' object is not callable",
     "output_type": "error",
     "traceback": [
      "\u001b[1;31m---------------------------------------------------------------------------\u001b[0m",
      "\u001b[1;31mTypeError\u001b[0m                                 Traceback (most recent call last)",
      "Cell \u001b[1;32mIn[53], line 2\u001b[0m\n\u001b[0;32m      1\u001b[0m a \u001b[38;5;241m=\u001b[39m \u001b[38;5;28minput\u001b[39m(\u001b[38;5;124m\"\u001b[39m\u001b[38;5;124mtape un truc: \u001b[39m\u001b[38;5;124m\"\u001b[39m)\n\u001b[1;32m----> 2\u001b[0m \u001b[38;5;28mprint\u001b[39m(\u001b[38;5;28;43mtype\u001b[39;49m\u001b[43m(\u001b[49m\u001b[43ma\u001b[49m\u001b[43m)\u001b[49m)\n",
      "\u001b[1;31mTypeError\u001b[0m: 'str' object is not callable"
     ]
    }
   ],
   "source": [
    "a = input(\"tape un truc: \")\n",
    "print(type(a))"
   ]
  },
  {
   "cell_type": "markdown",
   "metadata": {},
   "source": [
    "<img src=\"https://cdn.pixabay.com/photo/2016/10/18/19/40/anatomy-1751201_960_720.png\" width=\"30\" align=left> <div class=\"alert alert-block alert-info\">**IMPORTANT** : Depuis la version 3 de python, `input` renvoie toujours la valeur qui a été saisie en la convertissant sous forme de `????`</div>"
   ]
  },
  {
   "cell_type": "markdown",
   "metadata": {},
   "source": [
    "Par conséquent, lorsqu'on souhaite récupérer une valeur numérique, il est nécessaire de la convertir. Dans la fiche précédente, nous avons entrevu le mécanisme de **conversion implicite**, lorsque qu'on additionne deux valeurs ayant des types différents, par exemple.  \n",
    "Voici comment procéder pour déclencher une **conversion explicite**, déclenchée délibérément :"
   ]
  },
  {
   "cell_type": "code",
   "execution_count": 57,
   "metadata": {
    "scrolled": true
   },
   "outputs": [
    {
     "name": "stdout",
     "output_type": "stream",
     "text": [
      "votre nombre est 15 et le suivant est 16\n"
     ]
    }
   ],
   "source": [
    "n = int(input(\"Un nombre ?\"))\n",
    "print(f\"votre nombre est {n} et le suivant est {n+1}\") # si n est bien converti en entier, l'addition doit fonctionner"
   ]
  },
  {
   "cell_type": "markdown",
   "metadata": {},
   "source": [
    "<img src=\"https://cdn.pixabay.com/photo/2016/10/18/19/40/anatomy-1751201_960_720.png\" width=\"30\" align=left> <div class=\"alert alert-block alert-info\">**IMPORTANT** : Pour déclencher une **conversion explicite**, il suffit d'appeler le **constructeur** de la classe concernée: `int`, `float`, `str`...  \n",
    "Exemple : `float(12)` convertit l'entier 12 en flottant.</div>"
   ]
  },
  {
   "cell_type": "markdown",
   "metadata": {},
   "source": [
    "<img src=\"https://cdn.pixabay.com/photo/2018/01/04/16/53/building-3061124_960_720.png\" width=30 align=left>  <div class=\"alert alert-block alert-danger\">**Ex2.3 - Moyenne**  \n",
    "Ecrivez un programme qui affiche la moyenne des trois entiers saisis.  \n",
    "La saisie de `1`, `1` et `2` produit bien `1.33333` ?</div>"
   ]
  },
  {
   "cell_type": "code",
   "execution_count": 61,
   "metadata": {
    "scrolled": true
   },
   "outputs": [
    {
     "name": "stdout",
     "output_type": "stream",
     "text": [
      "1.3333333333333333\n"
     ]
    }
   ],
   "source": [
    "a=int(input(\"\"))\n",
    "b=int(input(\"\"))\n",
    "c=int(input(\"\"))\n",
    "moyenne=float((a+b+c)/3)\n",
    "print(moyenne)\n"
   ]
  },
  {
   "cell_type": "markdown",
   "metadata": {},
   "source": [
    "## Structures conditionnelles\n",
    "Jusqu'ici, nous avons écrit des petits programmes qui se déroulent systématiquement de la même manière. L'introduction d'un mécanisme **conditionnel** est indispensable en programmation, afin de pouvoir faire bifurquer son programme en fonction des situations rencontrées.  \n",
    "En python, la structure conditionnelle utilise les mots-clés `if`, `elif` et `else`.\n",
    "### Condition unique\n",
    "On peut utiliser `if` seul afin de n'exécuter un morceau de programme que si la condition exigée est respectée. "
   ]
  },
  {
   "cell_type": "code",
   "execution_count": 63,
   "metadata": {
    "scrolled": true
   },
   "outputs": [
    {
     "name": "stdout",
     "output_type": "stream",
     "text": [
      "C'est malin...\n",
      "J'avais dit un positif!\n",
      "Votre nombre est -4.\n"
     ]
    }
   ],
   "source": [
    "n = int(input(\"Tapez un positif:\"))\n",
    "if n<0 :\n",
    "    print(\"C'est malin...\") # cette instruction est dans le if\n",
    "    print(\"J'avais dit un positif!\") # celle-ci également\n",
    "print(f\"Votre nombre est {n}.\") # mais pas celle-ci"
   ]
  },
  {
   "cell_type": "markdown",
   "metadata": {},
   "source": [
    "<img src=\"https://cdn.pixabay.com/photo/2016/10/18/19/40/anatomy-1751201_960_720.png\" width=\"30\" align=left> <div class=\"alert alert-block alert-info\">**IMPORTANT** : L'instruction `if` permet d'exprimer une condition.  \n",
    "Elle doit être suivie d'une expression et de `:`.  \n",
    "Les instructions qui seront exécutées si la condition est vraie doivent **absolument** être **indentées**.</div>"
   ]
  },
  {
   "cell_type": "markdown",
   "metadata": {},
   "source": [
    "On peut utiliser les **expressions** et les **opérateurs logiques** vus dans la séquence précédente:"
   ]
  },
  {
   "cell_type": "code",
   "execution_count": 64,
   "metadata": {
    "scrolled": true
   },
   "outputs": [
    {
     "name": "stdout",
     "output_type": "stream",
     "text": [
      "C'est malin...\n",
      "J'avais dit un chiffre!\n",
      "Vous avez tapé 88.\n"
     ]
    }
   ],
   "source": [
    "n = int(input(\"Tapez un chiffre, cette fois:\"))\n",
    "if not(0<=n<=9) : # si n n'est pas un chiffre\n",
    "    print(\"C'est malin...\")\n",
    "    print(\"J'avais dit un chiffre!\")\n",
    "print(f\"Vous avez tapé {n}.\")"
   ]
  },
  {
   "cell_type": "markdown",
   "metadata": {},
   "source": [
    "<img src=\"https://cdn.pixabay.com/photo/2018/01/04/16/53/building-3061124_960_720.png\" width=30 align=left><div class=\"alert alert-block alert-danger\"><b>Ex3.1</b> Ecrivez un programme qui demande deux entiers `a` et `b`, et affiche `youpi` si la somme des deux variables est positive.  \n",
    "**Ex3.2** Modifiez votre programme afin qu'il affiche `youpi` si `a` est pair et si `b` vaut 5 ou 12. **Testez avec `a=3` et `b=12` !**</div>\n"
   ]
  },
  {
   "cell_type": "code",
   "execution_count": 66,
   "metadata": {
    "scrolled": true
   },
   "outputs": [
    {
     "name": "stdout",
     "output_type": "stream",
     "text": [
      "Pas Youpi\n"
     ]
    }
   ],
   "source": [
    "a = int(input(\"Entrer un premier nombre\"))\n",
    "b = int(input(\"Entrer un deuxieme nombre\"))\n",
    "\n",
    "if (a+b >= 0):\n",
    "    print('Youpi')\n",
    "else:\n",
    "    print('Pas Youpi')"
   ]
  },
  {
   "cell_type": "code",
   "execution_count": 69,
   "metadata": {},
   "outputs": [
    {
     "name": "stdout",
     "output_type": "stream",
     "text": [
      "Pas Youpi\n"
     ]
    }
   ],
   "source": [
    "a = int(input(\"Entrer un premier nombre\"))\n",
    "b = int(input(\"Entrer un deuxieme nombre\"))\n",
    "\n",
    "if ((a % 2)==0 and(b == 5 or b == 12)):\n",
    "    print('Youpi')\n",
    "else:\n",
    "    print('Pas Youpi')"
   ]
  },
  {
   "cell_type": "markdown",
   "metadata": {},
   "source": [
    "### Conditions multiples et alternatives\n",
    "Lorsqu'on souhaite tester plusieurs alternatives dans une structure conditionnelle, on utilise `elif` qui est un raccourci de *else if* et qui signifie *sinon si*. Ce *sinon* signifie bien que la condition concernée ne sera testée que si la précédente s'est avérée fausse.  \n",
    "**On peut utiliser autant de `elif` qu'on le souhaite**."
   ]
  },
  {
   "cell_type": "code",
   "execution_count": 70,
   "metadata": {
    "scrolled": true
   },
   "outputs": [
    {
     "name": "stdout",
     "output_type": "stream",
     "text": [
      "Ca me semble raisonnable.\n",
      "Allez, pause. Un café sans sucre pour moi.\n"
     ]
    }
   ],
   "source": [
    "rep = input(\"On fait une petite pause? (o/n)\")\n",
    "if rep==\"o\":\n",
    "    print(\"Ca me semble raisonnable.\")\n",
    "elif rep==\"n\": # ne sera exécuté que si la condition précédente était fausse\n",
    "    print(\"J'en vois qui tournent de l'oeil.\")\n",
    "print(\"Allez, pause. Un café sans sucre pour moi.\")"
   ]
  },
  {
   "cell_type": "markdown",
   "metadata": {},
   "source": [
    "Dans une structure conditionnelle, on peut aussi prévoir un cas si toutes les conditions précédentes ont échouées: `else` (*sinon*).  \n",
    "**On ne peut utiliser qu'un seul `else`, obligatoirement en dernière position de la structure conditionnelle.**"
   ]
  },
  {
   "cell_type": "code",
   "execution_count": 71,
   "metadata": {
    "scrolled": true
   },
   "outputs": [
    {
     "name": "stdout",
     "output_type": "stream",
     "text": [
      "J'en vois qui tournent de l'oeil.\n",
      "Allez, pause. Un café sans sucre pour moi.\n"
     ]
    }
   ],
   "source": [
    "rep = input(\"On fait une petite pause? (o/n)\")\n",
    "if rep==\"o\":\n",
    "    print(\"Ca me semble raisonnable.\")\n",
    "elif rep==\"n\": \n",
    "    print(\"J'en vois qui tournent de l'oeil.\")\n",
    "else: # sera exécuté si toutes les conditions précédentes sont fausses\n",
    "    print(\"Réponse inintelligible, la fatigue certainement.\")\n",
    "print(\"Allez, pause. Un café sans sucre pour moi.\")"
   ]
  },
  {
   "cell_type": "markdown",
   "metadata": {},
   "source": [
    "<img src=\"https://cdn.pixabay.com/photo/2016/10/18/19/40/anatomy-1751201_960_720.png\" width=\"30\" align=left> <div class=\"alert alert-block alert-info\">**IMPORTANT** : L'instruction `if` est éventuellement suivie :\n",
    " * d'un ou plusieurs `elif`\n",
    " * d'un unique `else`, en dernière position  \n",
    "    \n",
    "qui permettent d'exprimer plusieurs alternatives.</div>"
   ]
  },
  {
   "cell_type": "markdown",
   "metadata": {},
   "source": [
    "<img src=\"https://cdn.pixabay.com/photo/2018/01/04/16/53/building-3061124_960_720.png\" width=30 align=left><div class=\"alert alert-block alert-danger\">**Ex3.3** Ecrivez un programme qui demande 2 entiers `a` et `b`, et affiche le plus grand d'entre eux.  \n",
    "    \n",
    "**Ex3.4** Modifiez votre programme afin qu'il demande 3 entiers `a`, `b`, et `c`, et affiche le plus grand d'entre eux.  \n",
    "Vous allez écrire ce programme de deux façons différentes, qui ont chacune leur avantage:\n",
    " * avec des conditions utilisant les opérateurs logiques et exprimant directement *a est le plus grand des trois*, *b est le plus grand des trois*...\n",
    " * en n'utilisant que des inégalités simples (`a>b`) et en imbriquant plusieurs `if` les uns dans les autres\n",
    "</div>"
   ]
  },
  {
   "cell_type": "code",
   "execution_count": 72,
   "metadata": {
    "scrolled": true
   },
   "outputs": [
    {
     "name": "stdout",
     "output_type": "stream",
     "text": [
      "595\n"
     ]
    }
   ],
   "source": [
    "a = int(input(\"Entrer un premier nombre\"))\n",
    "b = int(input(\"Entrer un deuxieme nombre\"))\n",
    "\n",
    "if (a>b):\n",
    "    print(a)\n",
    "else:\n",
    "    print(b)"
   ]
  },
  {
   "cell_type": "code",
   "execution_count": 75,
   "metadata": {
    "scrolled": true
   },
   "outputs": [
    {
     "name": "stdout",
     "output_type": "stream",
     "text": [
      "3\n"
     ]
    }
   ],
   "source": [
    "a = int(input(\"Entrer un premier nombre\"))\n",
    "b = int(input(\"Entrer un deuxieme nombre\"))\n",
    "c = int(input(\"Entrer un deuxieme nombre\"))\n",
    "\n",
    "if (a>b):\n",
    "    if (a>c):\n",
    "        print(a)\n",
    "    else:\n",
    "        print(c)\n",
    "elif (b>c):\n",
    "    if (b>a):\n",
    "        print(b)\n",
    "    else:\n",
    "        print(a)\n",
    "else:\n",
    "    print(c)"
   ]
  },
  {
   "cell_type": "markdown",
   "metadata": {},
   "source": [
    "<img src=\"https://cdn.pixabay.com/photo/2018/01/04/16/53/building-3061124_960_720.png\" width=30 align=left><div class=\"alert alert-block alert-danger\">**Ex3.5** Ecrivez un programme qui demande 3 entiers et affiche `positifs ou nuls` s'ils sont tous positifs ou nuls, `négatifs` s'ils sont tous négatifs, et `signes différents` sinon.  \n",
    "Vous allez écrire ce programme de deux façons différentes:\n",
    " * comme vous le souhaitez\n",
    " * en utilisant deux compteurs `posnul` et `neg` que vous augmenterez à chaque fois que vous détectez une variable positive ou nulle, ou une variable négative. Ensuite, vous n'aurez plus qu'à lire ces compteurs pour savoir quoi afficher.</div>"
   ]
  },
  {
   "cell_type": "code",
   "execution_count": 78,
   "metadata": {
    "scrolled": true
   },
   "outputs": [
    {
     "name": "stdout",
     "output_type": "stream",
     "text": [
      "signes différents\n"
     ]
    }
   ],
   "source": [
    "a = int(input(\"Entrer un premier nombre\"))\n",
    "b = int(input(\"Entrer un deuxieme nombre\"))\n",
    "c = int(input(\"Entrer un deuxieme nombre\"))\n",
    "\n",
    "if (a>=0 and b>=0 and c>=0):\n",
    "    print('positifs ou nuls')\n",
    "elif (a<0 and b<0 and c<0):\n",
    "    print('négatifs')\n",
    "else:\n",
    "    print('signes différents')"
   ]
  },
  {
   "cell_type": "code",
   "execution_count": 97,
   "metadata": {
    "scrolled": true
   },
   "outputs": [
    {
     "name": "stdout",
     "output_type": "stream",
     "text": [
      "signes différents\n"
     ]
    }
   ],
   "source": [
    "a = int(input(\"Entrer un premier nombre\"))\n",
    "b = int(input(\"Entrer un deuxieme nombre\"))\n",
    "c = int(input(\"Entrer un deuxieme nombre\"))\n",
    "\n",
    "posnul = 0\n",
    "neg = 0\n",
    "\n",
    "if (a>=0):\n",
    "    posnul +=1\n",
    "elif (a<0):\n",
    "    neg+=1\n",
    "if(b>=0):\n",
    "    posnul +=1\n",
    "elif(b<0):\n",
    "    neg+=1\n",
    "if (c>=0):\n",
    "    posnul+=1\n",
    "elif(c<0):\n",
    "    neg+=1\n",
    "\n",
    "if (posnul == 3):\n",
    "    print('positifs ou nuls')\n",
    "elif (neg == 3):\n",
    "    print('négatifs')\n",
    "else:\n",
    "    print('signes différents')"
   ]
  },
  {
   "cell_type": "markdown",
   "metadata": {},
   "source": [
    "## Boucles `while`\n",
    "Dans un programme, on a souvent besoin d'effectuer des actions de façon répétée. On a alors intérêt à utiliser des boucles.  \n",
    "\n",
    "*Si par exemple on vous demande d'afficher tous les entiers de 1 à 1000, vous êtes bien embêtés sans les boucles.*  \n",
    "\n",
    "Python propose deux types de boucles, `while` et `for`, qui sont très différentes. Nous expliquons ici le `while`...  \n",
    "*While* signifie *tant que*. Concrètement, `while` va être associé à une condition (comme `if`) et se répéter tant que cette condition est vraie."
   ]
  },
  {
   "cell_type": "code",
   "execution_count": 98,
   "metadata": {
    "scrolled": false
   },
   "outputs": [
    {
     "name": "stdout",
     "output_type": "stream",
     "text": [
      "Allez on bosse.\n"
     ]
    }
   ],
   "source": [
    "rep = input(\"Besoin de faire une pause? (o/n)\")\n",
    "while rep!=\"n\":\n",
    "    rep = input(\"Sérieusement, vraiment besoin d'une pause? (o/n)\")\n",
    "print(\"Allez on bosse.\")"
   ]
  },
  {
   "cell_type": "markdown",
   "metadata": {},
   "source": [
    "<img src=\"https://cdn.pixabay.com/photo/2018/01/04/16/53/building-3061124_960_720.png\" width=30 align=left><div class=\"alert alert-block alert-danger\">**Premières boucles**  \n",
    "    **Ex4.1** Ecrivez un programme qui affiche tous les entiers de 1 à 100.  \n",
    "**Ex4.2** Modifiez le afin de n'afficher que les multiples de 3 compris entre 1 et 100.  \n",
    "**Ex4.3** Modifiez le afin de n'afficher que les nombres qui sont multiples de 3 ET de 5, compris entre 1 et 100. \n",
    "</div>\n"
   ]
  },
  {
   "cell_type": "code",
   "execution_count": null,
   "metadata": {
    "scrolled": true
   },
   "outputs": [],
   "source": [
    "x = 0\n",
    "while (x<100):\n",
    "    x+=1\n",
    "    print(x)"
   ]
  },
  {
   "cell_type": "code",
   "execution_count": null,
   "metadata": {},
   "outputs": [],
   "source": [
    "x = 0\n",
    "while (x<100):\n",
    "    x+=1\n",
    "    if(x %3 == 0):\n",
    "        print(x)"
   ]
  },
  {
   "cell_type": "code",
   "execution_count": null,
   "metadata": {},
   "outputs": [],
   "source": [
    "x = 0\n",
    "while (x<100):\n",
    "    x+=1\n",
    "    if(x%3==0 and x%5==0):\n",
    "        print(x)"
   ]
  },
  {
   "cell_type": "markdown",
   "metadata": {},
   "source": [
    "<img src=\"https://cdn.pixabay.com/photo/2016/10/18/19/40/anatomy-1751201_960_720.png\" width=\"30\" align=left><img width=\"250\" align=\"right\" src=\"https://cdn.pixabay.com/photo/2015/10/04/11/33/matryoshka-970943_960_720.jpg\"> <div class=\"alert alert-block alert-info\">**IMPORTANT** :Dans l'exercice précédent, vous avez normalement eu l'idée d'intégrer un `if` dans votre `while`.  \n",
    "Comme dans un jeu de poupées russes, on peut **imbriquer** autant de boucles et de structures conditionnelles que nécessaire...sans oublier d'indenter correctement son programme :\n",
    "```\n",
    "    while ... :\n",
    "        if ... :\n",
    "            while ... :```"
   ]
  },
  {
   "cell_type": "markdown",
   "metadata": {},
   "source": [
    "<img src=\"https://cdn.pixabay.com/photo/2018/01/04/16/53/building-3061124_960_720.png\" width=30 align=left><div class=\"alert alert-block alert-danger\"><b>Ex4.4</b> **Niveau \"Novice\"**  \n",
    "    Ecrivez un programme qui demande un entier positif `n`, vérifie qu'il est bien positif et affiche ensuite `n` étoiles : `*****...`\n",
    "</div>\n"
   ]
  },
  {
   "cell_type": "code",
   "execution_count": null,
   "metadata": {
    "scrolled": true
   },
   "outputs": [],
   "source": [
    "n = int(input('Combien d\\'étoiles?'))\n",
    "if(n>=0):\n",
    "    print(\"*\"*n)"
   ]
  },
  {
   "cell_type": "markdown",
   "metadata": {},
   "source": [
    "<img src=\"https://cdn.pixabay.com/photo/2018/01/04/16/53/building-3061124_960_720.png\" width=30 align=left><div class=\"alert alert-block alert-danger\"><b>Ex4.5</b> **Niveau \"Débutant\"**  \n",
    "    On souhaite maintenant demander `n` et `m`, et afficher un rectangle de largeur `n` et de hauteur `m`. Exemple avec `n=5` et `m=3` :\n",
    "```\n",
    "    *****\n",
    "    *****\n",
    "    *****```\n",
    "Vous pouvez (devez!) réutiliser votre programme précédent pour vous aider: vous disposez déjà d'un programme affichant `n` étoiles!\n"
   ]
  },
  {
   "cell_type": "code",
   "execution_count": 117,
   "metadata": {
    "scrolled": true
   },
   "outputs": [
    {
     "name": "stdout",
     "output_type": "stream",
     "text": [
      "***\n",
      "***\n",
      "***\n"
     ]
    }
   ],
   "source": [
    "n = int(input('largeur?'))\n",
    "m = int(input('hauteur?'))\n",
    "if(n>=0 and m >=0):\n",
    "    for i in range (m):\n",
    "        print(\"*\"*n)"
   ]
  },
  {
   "cell_type": "markdown",
   "metadata": {},
   "source": [
    "<img src=\"https://cdn.pixabay.com/photo/2018/01/04/16/53/building-3061124_960_720.png\" width=30 align=left><div class=\"alert alert-block alert-danger\"><b>Ex4.6</b> **Niveau \"Confirmé\"**  \n",
    "    Plus dur, on souhaite maintenant afficher une pyramide (en fait un triangle rectangle) de `n` étoiles, de la façon suivante :\n",
    "```\n",
    "    *\n",
    "    **\n",
    "    ***\n",
    "    ....\n",
    "```\n",
    "</div>\n"
   ]
  },
  {
   "cell_type": "code",
   "execution_count": 4,
   "metadata": {
    "scrolled": true
   },
   "outputs": [
    {
     "name": "stdout",
     "output_type": "stream",
     "text": [
      "*\n",
      "**\n",
      "***\n",
      "****\n",
      "*****\n"
     ]
    }
   ],
   "source": [
    "n = int(input('etages?'))\n",
    "x = 1\n",
    "while x !=n:\n",
    "    print(\"*\"*x)\n",
    "    x+=1\n",
    "print(\"*\"*x)"
   ]
  },
  {
   "cell_type": "markdown",
   "metadata": {},
   "source": [
    "<img src=\"https://cdn.pixabay.com/photo/2018/01/04/16/53/building-3061124_960_720.png\" width=30 align=left><img src=\"https://cdn.pixabay.com/photo/2017/03/12/02/20/triangle-2136288_960_720.jpg\" align=\"right\" width=\"150\"><div class=\"alert alert-block alert-danger\"><b>Ex4.6</b> **Niveau \"émrifnoC\"**  \n",
    "    Facile de modifier ce programme afin que la pyramide ait la pointe en bas, non?\n",
    "</div>\n"
   ]
  },
  {
   "cell_type": "code",
   "execution_count": 5,
   "metadata": {},
   "outputs": [
    {
     "name": "stdout",
     "output_type": "stream",
     "text": [
      "*****\n",
      "****\n",
      "***\n",
      "**\n",
      "*\n",
      "\n"
     ]
    }
   ],
   "source": [
    "n = int(input('etages?'))\n",
    "x = n\n",
    "while x !=0:\n",
    "    print(\"*\"*x)\n",
    "    x-=1\n",
    "print(\"*\"*x)"
   ]
  },
  {
   "cell_type": "markdown",
   "metadata": {},
   "source": [
    "<img src=\"https://cdn.pixabay.com/photo/2018/01/04/16/53/building-3061124_960_720.png\" width=30 align=left><div class=\"alert alert-block alert-danger\"><b>Ex4.7</b> **Niveau \"Expert de la boucle\"**  \n",
    "    Plus compliqué, vous devez maintenant faire en sorte que votre triangle rectangle ait son angle droit en bas à droite :\n",
    "```\n",
    "        *\n",
    "       **\n",
    "      ***\n",
    "     ....\n",
    "   \n",
    "   ******\n",
    "```\n",
    "</div>\n"
   ]
  },
  {
   "cell_type": "code",
   "execution_count": 13,
   "metadata": {
    "scrolled": true
   },
   "outputs": [
    {
     "name": "stdout",
     "output_type": "stream",
     "text": [
      "     *\n",
      "    **\n",
      "   ***\n",
      "  ****\n"
     ]
    }
   ],
   "source": [
    "n = int(input('etages?'))\n",
    "x = 1\n",
    "spaces=n\n",
    "while x !=n:\n",
    "    print((\" \"*spaces)+(\"*\"*x))\n",
    "    spaces-=1\n",
    "    x+=1"
   ]
  },
  {
   "cell_type": "markdown",
   "metadata": {},
   "source": [
    "  **Bravo! Vous êtez parvenu.e au bout de cette feuille.**"
   ]
  },
  {
   "cell_type": "markdown",
   "metadata": {},
   "source": [
    "<img src=\"https://cdn.pixabay.com/photo/2021/04/13/09/50/road-6175186_960_720.jpg\" width=350><div class=\"alert alert-block alert-info\">\n",
    "## __BILAN__\n",
    "Il existe un mécanisme d'**affectation multiple** qui permet...    \n",
    "Le **format**, c'est la façon de...  \n",
    "Selon votre version de python, vous utiliserez les **f-strings** ou **str.format**:...  \n",
    "`input` permet de ... et renvoie...  \n",
    "On peut déclencher une **conversion explicite** à l'aide des... de la façon suivante:...  \n",
    "Les règles à respecter dans les **structures conditionnelles** sont...  \n",
    "Le `while` permet de...  \n",
    "**Imbriquer une boucle** consiste à...\n",
    "</div>"
   ]
  },
  {
   "cell_type": "markdown",
   "metadata": {
    "scrolled": true
   },
   "source": [
    "## Exercices complémentaires sur le mini langage de formattage (optionnel)"
   ]
  },
  {
   "cell_type": "markdown",
   "metadata": {},
   "source": [
    "<img src=\"https://cdn.pixabay.com/photo/2018/01/04/16/53/building-3061124_960_720.png\" width=30 align=left>  <div class=\"alert alert-block alert-danger\">**Ex - Mon beau tableau**  \n",
    "Dans le code suivant, réalisez un bel affichage de chaque nom et score sous forme de tableau, comme suit :``` .\n",
    "jack         5\n",
    "jo\t      17\n",
    "averell\t  0```</div>"
   ]
  },
  {
   "cell_type": "code",
   "execution_count": 15,
   "metadata": {
    "scrolled": false
   },
   "outputs": [
    {
     "name": "stdout",
     "output_type": "stream",
     "text": [
      "jack a 5 de score, jo a 17 de score, averell a 0 de score\n"
     ]
    }
   ],
   "source": [
    "nom1, score1 = \"jack\",5\n",
    "nom2, score2 = \"jo\", 17\n",
    "nom3, score3 = \"averell\", 0\n",
    "\n",
    "print(f\"{nom1} a {score1} de score, {nom2} a {score2} de score, {nom3} a {score3} de score\")"
   ]
  },
  {
   "cell_type": "markdown",
   "metadata": {},
   "source": [
    "<img src=\"https://cdn.pixabay.com/photo/2018/01/04/16/53/building-3061124_960_720.png\" width=30 align=left>  <div class=\"alert alert-block alert-danger\">**Ex - Mon très beau tableau**  \n",
    "Améliorez encore le formatage afin d'aligner les noms à droite (à vous de chercher dans la doc comment procéder) :```  .    \n",
    "    jack\t  5\n",
    "      jo\t 17\n",
    " averell\t  0```</div>"
   ]
  },
  {
   "cell_type": "code",
   "execution_count": 24,
   "metadata": {},
   "outputs": [
    {
     "name": "stdout",
     "output_type": "stream",
     "text": [
      "jack            5\n",
      "jo              17\n",
      "averell         0\n"
     ]
    }
   ],
   "source": [
    "nom1, score1 = \"jack\",5\n",
    "nom2, score2 = \"jo\", 17\n",
    "nom3, score3 = \"averell\", 0\n",
    "\n",
    "print(f\"{nom1:<15} {score1}\\n{nom2:<15} {score2}\\n{nom3:<15} {score3}\")"
   ]
  }
 ],
 "metadata": {
  "kernelspec": {
   "display_name": "Python 3 (ipykernel)",
   "language": "python",
   "name": "python3"
  },
  "language_info": {
   "codemirror_mode": {
    "name": "ipython",
    "version": 3
   },
   "file_extension": ".py",
   "mimetype": "text/x-python",
   "name": "python",
   "nbconvert_exporter": "python",
   "pygments_lexer": "ipython3",
   "version": "3.12.5"
  },
  "toc": {
   "base_numbering": 1,
   "nav_menu": {},
   "number_sections": true,
   "sideBar": true,
   "skip_h1_title": false,
   "title_cell": "Table of Contents",
   "title_sidebar": "Contents",
   "toc_cell": false,
   "toc_position": {},
   "toc_section_display": true,
   "toc_window_display": false
  }
 },
 "nbformat": 4,
 "nbformat_minor": 2
}
