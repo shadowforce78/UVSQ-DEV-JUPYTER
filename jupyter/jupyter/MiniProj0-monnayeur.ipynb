{
 "cells": [
  {
   "cell_type": "markdown",
   "id": "fa7353de",
   "metadata": {},
   "source": [
    "# Séquence 0 - Le monnayeur <img src=\"https://cdn.pixabay.com/photo/2015/06/15/20/21/register-810546_960_720.jpg\" width=350 align=right>\n",
    "L'objectif de cette séquence de travail est d'aboutir à la création d'un monnayeur, capable de connaître l'état d'une caisse (dans un magasin, par exemple) et de rendre la monnaie lors d'un paiement.\n",
    "Pour ce faire, nous allons suivre un cheminement progressif qui nous permettra d'aboutir à un programme efficace et propre.  \n",
    "## Exercice 1 - Remplir la caisse et afficher son contenu\n",
    "Créez une liste `unites`qui contient la liste de toutes les unités de monnaie (euros seulement, pas de centimes d'euro) : 500, 200, 100,... 2, 1\n",
    "\n",
    "**AIDE** : pour cette étape, vous devez savoir manipuler les listes. Si vous n'êtes pas à l'aise avec les listes, prenez le temps de lire la **fiche 2 - listes**.   "
   ]
  },
  {
   "cell_type": "code",
   "execution_count": 50,
   "id": "855ff543",
   "metadata": {},
   "outputs": [],
   "source": [
    "unites = [500,200,100,50,20,10,5,2,1]"
   ]
  },
  {
   "cell_type": "markdown",
   "id": "0fa876fa",
   "metadata": {},
   "source": [
    "Nous souhaitons maintenant afficher touts les unités. Vous allez utiliser `for`. \n",
    "\n",
    "**AIDE** : si vous n'êtes pas à l'aise avec cette instruction, allez consulter la **\"fiche 3 - for range\"**."
   ]
  },
  {
   "cell_type": "code",
   "execution_count": 3,
   "id": "ad250edb",
   "metadata": {},
   "outputs": [
    {
     "name": "stdout",
     "output_type": "stream",
     "text": [
      "500\n",
      "200\n",
      "100\n",
      "50\n",
      "20\n",
      "10\n",
      "5\n",
      "2\n",
      "1\n"
     ]
    }
   ],
   "source": [
    "for i in unites:\n",
    "    print(i)"
   ]
  },
  {
   "cell_type": "markdown",
   "id": "0ea97ec5",
   "metadata": {},
   "source": [
    "Créez maintenant une liste `caisse`qui, pour chacune de ces unités, indique leur effectif dans la caisse: 0 billets de 500€, 3 billets de 200€, ...  \n",
    "\n",
    "Saisissez les effectifs de votre choix, ça n'est pas tous les jours qu'on remplit son compte en banque à sa guise."
   ]
  },
  {
   "cell_type": "code",
   "execution_count": 23,
   "id": "7a2b2d8b",
   "metadata": {},
   "outputs": [],
   "source": [
    "caisse = [1000,12,30,50,100,250,100,50,50]"
   ]
  },
  {
   "cell_type": "markdown",
   "id": "a5622575",
   "metadata": {},
   "source": [
    "Plus compliqué, vous devez maintenant afficher le contenu de la caisse en indiquant le nombre de chaque unité. \n",
    "\n",
    "__*Exemple*__  \n",
    "`0 billets de 500€`  \n",
    "`3 billets de 200€`  \n",
    "...\n",
    "\n",
    "**AIDE** : pour ce faire, vous aurez besoin d'utiliser `range` (consultez la **\"fiche 3 for range\"** si nécessaire)."
   ]
  },
  {
   "cell_type": "code",
   "execution_count": 5,
   "id": "7044b013",
   "metadata": {},
   "outputs": [
    {
     "name": "stdout",
     "output_type": "stream",
     "text": [
      "1000 billets de 500€\n",
      "12 billets de 200€\n",
      "30 billets de 100€\n",
      "50 billets de 50€\n",
      "100 billets de 20€\n",
      "250 billets de 10€\n",
      "100 billets de 5€\n",
      "50 billets de 2€\n",
      "50 billets de 1€\n"
     ]
    }
   ],
   "source": [
    "for i in range(9):\n",
    "    print(f\"{caisse[i]} billets de {unites[i]}€\")"
   ]
  },
  {
   "cell_type": "markdown",
   "id": "bcd5c4ac",
   "metadata": {},
   "source": [
    "Peut-on améliorer notre algorithme et n'afficher que les unités qui sont vraiment dans la caisse?  \n",
    "S'il n'y a pas de billets de 500€, il est inutile d'afficher `0 billets de 500€`, non?  \n",
    "Pour réaliser cela, vous aurez besoin du `if`, dont le fonctionnement est expliqué dans la **\"fiche 1 - if elif else\"**.  \n",
    "\n",
    "Ce serait également joli de gérer le singulier et le pluriel: `1 billet de 500€` et `2 billets de 500€`."
   ]
  },
  {
   "cell_type": "code",
   "execution_count": 6,
   "id": "7a2f08bd",
   "metadata": {},
   "outputs": [
    {
     "name": "stdout",
     "output_type": "stream",
     "text": [
      "1000 billets de 500€\n",
      "12 billets de 200€\n",
      "30 billets de 100€\n",
      "50 billets de 50€\n",
      "100 billets de 20€\n",
      "250 billets de 10€\n",
      "100 billets de 5€\n",
      "50 billets de 2€\n",
      "50 billets de 1€\n"
     ]
    }
   ],
   "source": [
    "for i in range(9):\n",
    "    if (caisse[i] == 0):\n",
    "        pass\n",
    "    else:\n",
    "        print(f\"{caisse[i]} billets de {unites[i]}€\")"
   ]
  },
  {
   "cell_type": "markdown",
   "id": "2e3ef65d",
   "metadata": {},
   "source": [
    "Il serait utile d'afficher également, après cette liste des unités, le montant total contenu dans la caisse..."
   ]
  },
  {
   "cell_type": "code",
   "execution_count": 7,
   "id": "e9713b53",
   "metadata": {},
   "outputs": [
    {
     "name": "stdout",
     "output_type": "stream",
     "text": [
      "1000 billets de 500€\n",
      "12 billets de 200€\n",
      "30 billets de 100€\n",
      "50 billets de 50€\n",
      "100 billets de 20€\n",
      "250 billets de 10€\n",
      "100 billets de 5€\n",
      "50 billets de 2€\n",
      "50 billets de 1€\n",
      "Vous avez un total de 513050€ dans votre compte en banque\n"
     ]
    }
   ],
   "source": [
    "montantTotal = 0\n",
    "for i in range(9):\n",
    "    if (caisse[i] == 0):\n",
    "        pass\n",
    "    else:\n",
    "        montantTotal+=caisse[i]*unites[i]\n",
    "        print(f\"{caisse[i]} billets de {unites[i]}€\")\n",
    "print(f\"Vous avez un total de {montantTotal}€ dans votre compte en banque\")"
   ]
  },
  {
   "cell_type": "markdown",
   "id": "18b94be8",
   "metadata": {},
   "source": [
    "## Exercice 2 - Augmenter le contenu de la caisse d'une unité\n",
    "Vous allez demander à l'utilisateur de taper une des unités de monnaie possible (500, 200, 100...) et augmenter le montant de la caisse de cette unité. Affichez avant et après le contenu et le total de la caisse afin de vérifier.\n",
    "\n",
    "__*Exemple*__  \n",
    "*Avant: la caisse contient 562€*  \n",
    "`Quelle unité souhaitez-vous ajouter?`  \n",
    "`20`  \n",
    "*Après: la caisse contient 582€*"
   ]
  },
  {
   "cell_type": "code",
   "execution_count": 28,
   "id": "57fa918d",
   "metadata": {},
   "outputs": [
    {
     "name": "stdout",
     "output_type": "stream",
     "text": [
      "Vous avez actuellement 513552€\n",
      "Monnaie ajouté\n",
      "Vous avez maintenant 513572€\n"
     ]
    }
   ],
   "source": [
    "print(f\"Vous avez actuellement {montantTotal}€\")\n",
    "somme=int(input(\"Quelle unité souhaitez-vous ajouter?\"))\n",
    "\n",
    "if somme in unites:\n",
    "    print('Monnaie ajouté')\n",
    "    \n",
    "    index = unites.index(somme)\n",
    "    caisse[index] += 1\n",
    "    montantTotal += somme\n",
    "    print(f\"Vous avez maintenant {montantTotal}€\")\n",
    "    \n",
    "else:\n",
    "    print('Erreur monnaie non reconnue')"
   ]
  },
  {
   "cell_type": "markdown",
   "id": "5d3859fd",
   "metadata": {},
   "source": [
    "Êtes-vous capable de modifier votre programme afin que, dans le cas d'une saisie d'unité incorrecte :\n",
    " * un affichage adéquat soit produit\n",
    " * on se rende compte du problème avant la fin du tableau, et on interrompe la boucle immédiatement plutôt que de visiter inutilement tout le tableau\n",
    "\n",
    "**AIDE**: il y a plusieurs façon de faire, mais vous pourriez avoir besoin des booléens (voir **\"fiche 0 - visite guidée\"**) et du `break`(voir **\"fiche 3 - range for\"**)."
   ]
  },
  {
   "cell_type": "code",
   "execution_count": 51,
   "id": "0ac3d968",
   "metadata": {},
   "outputs": [
    {
     "name": "stdout",
     "output_type": "stream",
     "text": [
      "Vous avez actuellement 513572€\n",
      "Erreur monnaie non reconnue\n",
      "Veuillez indiquez une monnaie valable (500,200,100,50,20,10,5,2,1) pour incrémenter votre compte en banque\n"
     ]
    }
   ],
   "source": [
    "print(f\"Vous avez actuellement {montantTotal}€\")\n",
    "somme=int(input(\"Quelle unité souhaitez-vous ajouter?\"))\n",
    "\n",
    "if somme in unites:\n",
    "    print('Monnaie ajouté')\n",
    "    \n",
    "    index = unites.index(somme)\n",
    "    caisse[index] += 1\n",
    "    montantTotal += somme\n",
    "    print(f\"Vous avez maintenant {montantTotal}€\")\n",
    "    \n",
    "else:\n",
    "    print('Erreur monnaie non reconnue')\n",
    "    print('Veuillez indiquez une monnaie valable (500,200,100,50,20,10,5,2,1) pour incrémenter votre compte en banque')"
   ]
  },
  {
   "cell_type": "markdown",
   "id": "7760a55c",
   "metadata": {},
   "source": [
    "## Exercice 3 - Augmenter le contenu de la caisse d'un montant\n",
    "Nous souhaitons maintenant que l'utilisateur tape un montant, plutôt qu'une simple unité.\n",
    "\n",
    "__*Exemple*__  \n",
    "*Avant: la caisse contient 502€*  \n",
    "`Quel montant souhaitez-vous ajouter?`  \n",
    "`12€`  \n",
    "*Après: la caisse contient 514€*\n",
    "\n",
    "**AIDE** : ici, vous aurez certainement besoin du `while` (allez consulter la **\"fiche 1 - io if while\"**) et/ou du modulo (**\"fiche 0 - visite guidée\"**)"
   ]
  },
  {
   "cell_type": "code",
   "execution_count": 52,
   "id": "d254117b",
   "metadata": {},
   "outputs": [
    {
     "name": "stdout",
     "output_type": "stream",
     "text": [
      "500\n",
      "1000\n",
      "1500\n",
      "2000\n",
      "2500\n",
      "3000\n",
      "3500\n",
      "4000\n",
      "4100\n",
      "4150\n",
      "4152\n",
      "4154\n"
     ]
    }
   ],
   "source": [
    "final = int(input('Entrez une valeure a ajouter'))\n",
    "somme_a_atteindre = final\n",
    "somme=0\n",
    "current_index=0\n",
    "\n",
    "\n",
    "while somme != final:\n",
    "    if unites[current_index] > somme_a_atteindre:\n",
    "        current_index+=1\n",
    "    else:\n",
    "        somme_a_atteindre-=unites[current_index]\n",
    "        somme+=unites[current_index]\n",
    "        caisse[current_index]+=1\n",
    "        print(somme)\n",
    "\n"
   ]
  },
  {
   "cell_type": "markdown",
   "id": "280088b0",
   "metadata": {},
   "source": [
    "## Exercice 4 - Diminuer le contenu de la caisse\n",
    "On va maintenant demander à l'utilisateur de taper un montant à **retirer** de la caisse.  \n",
    "**ATTENTION**, il est possible que retirer un montant donné soit impossible:\n",
    " * la caisse ne contient pas suffisamment de liquidités\n",
    " * la caisse ne contient pas les unités permettant le retrait. Exemple avec une caisse contenant uniquement un billet de 100€ dans laquelle on doit retirer 10€.\n",
    "\n",
    "Vous devez donc vous assurer que le retrait est possible et afficher un refus motivé dans le cas contraire. Vous devez surtout veiller à ne pas modifier le contenu de la caisse par erreur."
   ]
  },
  {
   "cell_type": "code",
   "execution_count": 56,
   "id": "516c26fe",
   "metadata": {},
   "outputs": [
    {
     "name": "stdout",
     "output_type": "stream",
     "text": [
      "500\n",
      "[1002, 11, 31, 51, 105, 252, 102, 54, 52]\n",
      "520\n",
      "[1002, 11, 31, 51, 104, 252, 102, 54, 52]\n",
      "521\n",
      "[1002, 11, 31, 51, 104, 252, 102, 54, 51]\n"
     ]
    }
   ],
   "source": [
    "final = int(input('Entrez une valeure a soustraire'))\n",
    "somme_a_atteindre = final\n",
    "somme=0\n",
    "current_index=0\n",
    "\n",
    "\n",
    "while somme != final:\n",
    "    if unites[current_index] > somme_a_atteindre:\n",
    "        current_index+=1\n",
    "    else:\n",
    "        somme_a_atteindre-=unites[current_index]\n",
    "        somme+=unites[current_index]\n",
    "        caisse[current_index]-=1\n",
    "        print(somme)\n",
    "        print(caisse)\n",
    "\n"
   ]
  },
  {
   "cell_type": "markdown",
   "id": "1887228a",
   "metadata": {},
   "source": [
    "## Exercice 5 - Un beau menu\n",
    "Ce serait chouette de reprendre tout les algorithmes écrits précédemment, et de les proposer dans un menu. Un vrai programme, quoi...   \n",
    "Quelque chose comme:```.  \n",
    " 1 - voir le total de la caisse\n",
    " 2 - voir le contenu de la caisse\n",
    " 3 - ajouter un montant\n",
    " 4 - retirer un montant\n",
    " 5 - quitter```"
   ]
  },
  {
   "cell_type": "code",
   "execution_count": 58,
   "id": "fafa6783",
   "metadata": {},
   "outputs": [],
   "source": [
    "unites = [500,200,100,50,20,10,5,2,1]\n",
    "caisse = [0,1,3,6,7,4,4,14,21] #opif\n",
    "\n"
   ]
  },
  {
   "cell_type": "code",
   "execution_count": 69,
   "id": "31e30926",
   "metadata": {},
   "outputs": [
    {
     "name": "stdout",
     "output_type": "stream",
     "text": [
      "1 - Voir le total de la caisse\n",
      "2 - Voir le montant de la caisse\n",
      "3 - Ajouter un montant\n",
      "4 - Retirer un montant\n",
      "5 - Quitter\n",
      "4 billets de 200€\n",
      "2 billets de 100€\n",
      "6 billets de 50€\n",
      "8 billets de 20€\n",
      "3 billets de 10€\n",
      "5 billets de 5€\n",
      "15 billets de 2€\n",
      "21 billets de 1€\n"
     ]
    }
   ],
   "source": [
    "print('1 - Voir le total de la caisse\\n2 - Voir le montant de la caisse\\n3 - Ajouter un montant\\n4 - Retirer un montant\\n5 - Quitter')\n",
    "opp = int(input('Entrez une valeur (1-5) pour effectuer une opperation'))\n",
    "\n",
    "if opp == 1:\n",
    "    montantTotal = 0\n",
    "    for i in range(9):\n",
    "        if (caisse[i] == 0):\n",
    "            pass\n",
    "        else:\n",
    "            montantTotal+=caisse[i]*unites[i]\n",
    "    print(f\"Vous avez un total de {montantTotal}€ dans votre compte en banque\")\n",
    "elif opp == 2 :\n",
    "    for i in range(9):\n",
    "        if (caisse[i] == 0):\n",
    "            pass\n",
    "        else:\n",
    "            print(f\"{caisse[i]} billets de {unites[i]}€\")\n",
    "elif opp == 3: \n",
    "    final = int(input('Entrez une valeure a ajouter'))\n",
    "    somme_a_atteindre = final\n",
    "    somme=0\n",
    "    current_index=0\n",
    "\n",
    "    while somme != final:\n",
    "        if unites[current_index] > somme_a_atteindre:\n",
    "            current_index+=1\n",
    "        else:\n",
    "            somme_a_atteindre-=unites[current_index]\n",
    "            somme+=unites[current_index]\n",
    "            caisse[current_index]+=1\n",
    "elif opp == 4:\n",
    "    final = int(input('Entrez une valeure a soustraire'))\n",
    "    somme_a_atteindre = final\n",
    "    somme=0\n",
    "    current_index=0\n",
    "\n",
    "\n",
    "    while somme != final:\n",
    "        if unites[current_index] > somme_a_atteindre:\n",
    "            current_index+=1\n",
    "        else:\n",
    "            somme_a_atteindre-=unites[current_index]\n",
    "            somme+=unites[current_index]\n",
    "            caisse[current_index]-=1\n",
    "elif opp == 5:\n",
    "    pass"
   ]
  },
  {
   "cell_type": "code",
   "execution_count": null,
   "id": "4846fdd2",
   "metadata": {},
   "outputs": [],
   "source": []
  }
 ],
 "metadata": {
  "kernelspec": {
   "display_name": "Python 3 (ipykernel)",
   "language": "python",
   "name": "python3"
  },
  "language_info": {
   "codemirror_mode": {
    "name": "ipython",
    "version": 3
   },
   "file_extension": ".py",
   "mimetype": "text/x-python",
   "name": "python",
   "nbconvert_exporter": "python",
   "pygments_lexer": "ipython3",
   "version": "3.12.5"
  }
 },
 "nbformat": 4,
 "nbformat_minor": 5
}
