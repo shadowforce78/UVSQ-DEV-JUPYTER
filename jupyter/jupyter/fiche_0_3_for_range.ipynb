{
 "cells": [
  {
   "cell_type": "markdown",
   "metadata": {},
   "source": [
    "<img src=\"https://cdn.pixabay.com/photo/2017/08/21/08/42/pegs-2664512_960_720.jpg\" align=right width=\"400\">  \n",
    "# Séquence 0 / Fiche 3   : la boucle for\n",
    "\n",
    "Très souvent, on désire faire une action pour chaque élément d'une liste.  \n",
    "Par exemple, afficher les carrés des nombres de 1 à 10.  \n",
    "Ceci peut être fait grâce  une boucle `for` ! "
   ]
  },
  {
   "cell_type": "markdown",
   "metadata": {},
   "source": [
    "## syntaxe"
   ]
  },
  {
   "cell_type": "code",
   "execution_count": 1,
   "metadata": {
    "scrolled": true
   },
   "outputs": [
    {
     "name": "stdout",
     "output_type": "stream",
     "text": [
      "1\n",
      "4\n",
      "9\n",
      "16\n",
      "25\n",
      "36\n",
      "49\n",
      "64\n",
      "81\n",
      "100\n"
     ]
    }
   ],
   "source": [
    "l = [1,2,3,4,5,6,7,8,9,10]\n",
    "for x in l:\n",
    "    print(x**2)"
   ]
  },
  {
   "cell_type": "markdown",
   "metadata": {},
   "source": [
    "on peut lire \"pour chaque élément x dans la liste l : il faut afficher x au carré\".  "
   ]
  },
  {
   "cell_type": "markdown",
   "metadata": {},
   "source": [
    "Autre exemple :"
   ]
  },
  {
   "cell_type": "code",
   "execution_count": 2,
   "metadata": {},
   "outputs": [
    {
     "name": "stdout",
     "output_type": "stream",
     "text": [
      "le chat donne la papate\n",
      "le chien donne la papate\n",
      "le pingouin donne la papate\n",
      "le lézard donne la papate\n"
     ]
    }
   ],
   "source": [
    "animaux = [\"chat\", \"chien\", \"pingouin\", \"lézard\"]\n",
    "for animal in animaux:\n",
    "    print(\"le \" + animal + \" donne la papate\")"
   ]
  },
  {
   "cell_type": "markdown",
   "metadata": {},
   "source": [
    "Si vous ne le saviez pas, le + permet de **concaténer** les chaînes de caractères (si vous le saviez, c'est vrai aussi)"
   ]
  },
  {
   "cell_type": "markdown",
   "metadata": {},
   "source": [
    "La syntaxe générale de la boucle `for`est :"
   ]
  },
  {
   "cell_type": "code",
   "execution_count": null,
   "metadata": {},
   "outputs": [],
   "source": [
    "for nom_variable in nom_liste:\n",
    "    bloc_d_instructions"
   ]
  },
  {
   "cell_type": "markdown",
   "metadata": {},
   "source": [
    "<span style=\"color:blue\">**A retenir** : </span>\n",
    "* le bloc d'instruction est **répété** autant de fois qu'il y a d'éléments dans la liste\n",
    "* la variable prend **successivement** toutes les **valeurs** dans la liste\n",
    "* si on oublie les deux points le python est **grognon**\n",
    "* le bloc d'instruction est **indenté**"
   ]
  },
  {
   "cell_type": "markdown",
   "metadata": {},
   "source": [
    "## exercices d'application"
   ]
  },
  {
   "cell_type": "markdown",
   "metadata": {},
   "source": [
    "<img src=\"https://cdn.pixabay.com/photo/2018/01/04/16/53/building-3061124_960_720.png\" width=30 align=left>  <div class=\"alert alert-block alert-danger\">**Ex3.1 - triplez** \n",
    "Pour les entiers pairs de 2 à 10 inclus, affichez à l'aide d'une boucle le triple du nombre puis son opposé. Début :    \n",
    "\n",
    "\n",
    "\n",
    "6  \n",
    "-2  \n",
    "12  \n",
    "-4  \n",
    "etc</div>"
   ]
  },
  {
   "cell_type": "code",
   "execution_count": 3,
   "metadata": {},
   "outputs": [
    {
     "name": "stdout",
     "output_type": "stream",
     "text": [
      "6\n",
      "-2\n",
      "12\n",
      "-4\n",
      "18\n",
      "-6\n",
      "24\n",
      "-8\n",
      "30\n",
      "-10\n"
     ]
    }
   ],
   "source": [
    "l = [2,4,6,8,10]\n",
    "for x in l:\n",
    "    print(x*3)\n",
    "    print(-x)"
   ]
  },
  {
   "cell_type": "markdown",
   "metadata": {},
   "source": [
    "<img src=\"https://cdn.pixabay.com/photo/2018/01/04/16/53/building-3061124_960_720.png\" width=30 align=left>  <div class=\"alert alert-block alert-danger\">**Ex3.2 - sommer sans se fatiguer**  \n",
    "Complétez le code ci-dessous dont le but est de calculer la somme des entiers de 1 à 10  \n",
    "S = 1 + 2 + 3 + .. + 10</div>"
   ]
  },
  {
   "cell_type": "code",
   "execution_count": 7,
   "metadata": {},
   "outputs": [
    {
     "name": "stdout",
     "output_type": "stream",
     "text": [
      "55\n"
     ]
    }
   ],
   "source": [
    "somme = 0\n",
    "for x in range(11):\n",
    "    somme+=x\n",
    "\n",
    "\n",
    "print(somme) #en principe ça fait 55 !"
   ]
  },
  {
   "cell_type": "markdown",
   "metadata": {},
   "source": [
    "<img src=\"https://cdn.pixabay.com/photo/2018/01/04/16/53/building-3061124_960_720.png\" width=30 align=left>  <div class=\"alert alert-block alert-danger\">**Ex3.3 attention au BUG:**  **SAUVEGARDEZ** avant d'exécuter le code suivant car il va jamais s'arrêter... ça va bugger ! Vous risquez de perdre votre travail.\n",
    "Essayez de comprendre pourquoi il ne s'arrête jamais.. et pourquoi il ne faut **jamais** faire ce genre de choses.</div>"
   ]
  },
  {
   "cell_type": "code",
   "execution_count": null,
   "metadata": {},
   "outputs": [],
   "source": [
    "l = [0]\n",
    "for x in l:\n",
    "    l.append(x+1)\n",
    "    print(l)"
   ]
  },
  {
   "cell_type": "markdown",
   "metadata": {},
   "source": [
    "on ajoute des valeurs a l'infini sans que la liste se finisse"
   ]
  },
  {
   "cell_type": "markdown",
   "metadata": {},
   "source": [
    "<img src=\"https://cdn.pixabay.com/photo/2018/01/04/16/53/building-3061124_960_720.png\" width=30 align=left>  <div class=\"alert alert-block alert-danger\">**Ex3.4 - maximum for ever**  \n",
    "Reprendre le calcul du maximum d'une liste, mais cette fois-ci à l'aide d'une boucle `for`et il doit marcher quelle que soit la liste d'entiers non vide !!</div>"
   ]
  },
  {
   "cell_type": "code",
   "execution_count": null,
   "metadata": {},
   "outputs": [],
   "source": [
    "l = [3,5,2,8,6]\n",
    "# a completer\n",
    "\n",
    "print(\"le maximum vaut\", maxi)"
   ]
  },
  {
   "cell_type": "markdown",
   "metadata": {},
   "source": [
    "<img src=\"https://cdn.pixabay.com/photo/2018/01/04/16/53/building-3061124_960_720.png\" width=30 align=left>  <div class=\"alert alert-block alert-danger\">**Ex3.5 - donnez-nous un indice**   \n",
    "même chose avec l'indice du maximum d'une liste (prendre le premier indice possible)"
   ]
  },
  {
   "cell_type": "code",
   "execution_count": null,
   "metadata": {},
   "outputs": [],
   "source": [
    "l = [3,5,2,8,6,4,8,3,4]\n",
    "# a completer\n",
    "\n",
    "print(\"l'indice du maximum vaut\", imaxi)"
   ]
  },
  {
   "cell_type": "markdown",
   "metadata": {},
   "source": [
    "## enchaîner les boucles for"
   ]
  },
  {
   "cell_type": "markdown",
   "metadata": {},
   "source": [
    "Les instructions sont effectuées à la suite, c'est aussi le cas pour les boucles for.  \n",
    "Il faut qu'une boucle soit terminée pour passer à la suite du code.  \n",
    "\n",
    "<img src=\"https://cdn.pixabay.com/photo/2018/01/04/16/53/building-3061124_960_720.png\" width=30 align=left>  <div class=\"alert alert-block alert-danger\">**Ex3.6 - for puis for**  \n",
    "Essayez de prévoir ce qui va s'écrire avant d'exécuter."
   ]
  },
  {
   "cell_type": "code",
   "execution_count": null,
   "metadata": {},
   "outputs": [],
   "source": [
    "for x in ['a', 'b', 'c']:\n",
    "    print(\"boucle 1\")\n",
    "    print(x)\n",
    "print(\"entre les deux boucles\")\n",
    "for y in ['x', 'y', 'z']:\n",
    "    print(\"boucle 2\")\n",
    "    print(y)"
   ]
  },
  {
   "cell_type": "markdown",
   "metadata": {},
   "source": [
    "## boucles imbriquées"
   ]
  },
  {
   "cell_type": "markdown",
   "metadata": {},
   "source": [
    "Si on met une boucle dans le bloc d'instruction d'une autre boucle, c'est ce qu'on appelle des boucles imbriquées.  \n",
    "Dans ce cas la boucle \"extérieure\" va répéter la boucle \"intérieure\" en commençant à chaque fois depuis son début."
   ]
  },
  {
   "cell_type": "code",
   "execution_count": null,
   "metadata": {},
   "outputs": [],
   "source": [
    "for animal in ['koala', 'paresseux', 'maki', 'ouistiti']:\n",
    "    for adjectif in ['mignon', 'malin', 'malicieux']:\n",
    "        print(animal + \" \" + adjectif)"
   ]
  },
  {
   "cell_type": "markdown",
   "metadata": {},
   "source": [
    "<img src=\"https://cdn.pixabay.com/photo/2018/01/04/16/53/building-3061124_960_720.png\" width=30 align=left>  <div class=\"alert alert-block alert-danger\">**Ex3.7 - en son for intérieur**  \n",
    "Essayez de prévoir la différence avec la boucle suivante avant de l'exécuter:</div>"
   ]
  },
  {
   "cell_type": "code",
   "execution_count": null,
   "metadata": {},
   "outputs": [],
   "source": [
    "for adjectif in ['mignon', 'malin', 'malicieux']:\n",
    "    for animal in ['koala', 'paresseux', 'maki', 'ouistiti']:\n",
    "        print(animal + \" \" + adjectif)"
   ]
  },
  {
   "cell_type": "markdown",
   "metadata": {},
   "source": [
    "<img src=\"https://cdn.pixabay.com/photo/2018/01/04/16/53/building-3061124_960_720.png\" width=30 align=left>  <div class=\"alert alert-block alert-danger\">**Ex3.8 - le b-a ba**   \n",
    "Utilisez des boucles imbriquées pour écrire  \n",
    "\n",
    "aa  \n",
    "ab  \n",
    "ba  \n",
    "bb  \n",
    "ca  \n",
    "cb  "
   ]
  },
  {
   "cell_type": "code",
   "execution_count": null,
   "metadata": {},
   "outputs": [],
   "source": []
  },
  {
   "cell_type": "markdown",
   "metadata": {},
   "source": [
    "## dans le bloc ou pas dans le bloc ?\n",
    "Le fait de mettre une instruction dans le bloc d'instruction du for ou de la mettre en dehors, ça change tout ! Comparez les deux codes suivants:"
   ]
  },
  {
   "cell_type": "code",
   "execution_count": null,
   "metadata": {},
   "outputs": [],
   "source": [
    "for animal in ['koala', 'paresseux', 'maki', 'ouistiti']:\n",
    "    print(\"le \" + animal +\" fait la sieste\")\n",
    "    print(\"attendez cinq minutes !\")"
   ]
  },
  {
   "cell_type": "code",
   "execution_count": null,
   "metadata": {},
   "outputs": [],
   "source": [
    "for animal in ['koala', 'paresseux', 'maki', 'ouistiti']:\n",
    "    print(\"le \" + animal +\" fait la sieste\")\n",
    "print(\"attendez cinq minutes !\")"
   ]
  },
  {
   "cell_type": "markdown",
   "metadata": {},
   "source": [
    "Dans la première version, il faut attendre 20 minutes en tout !..."
   ]
  },
  {
   "cell_type": "markdown",
   "metadata": {},
   "source": [
    "<img src=\"https://cdn.pixabay.com/photo/2018/01/04/16/53/building-3061124_960_720.png\" width=30 align=left>  <div class=\"alert alert-block alert-danger\">**Ex3.9 - boucles sucrées**  \n",
    "Boucles à la suite, imbriquées, quelles instructions dedans et dehors de la boucle ? Suivez les instructions pour chaque code. "
   ]
  },
  {
   "cell_type": "code",
   "execution_count": null,
   "metadata": {},
   "outputs": [],
   "source": [
    "#1. créez une liste de vos desserts préférés\n",
    "#2. affichez pour chacun de ces desserts une phrase qui dit que vous les adorez (avec une boucle !!)\n",
    "#3. puis pour chacun de ces desserts une phrase qui dit que vous en voulez encore.\n",
    "desserts = [\"sorbet fraise\"]  #à compléter"
   ]
  },
  {
   "cell_type": "code",
   "execution_count": null,
   "metadata": {},
   "outputs": [],
   "source": []
  },
  {
   "cell_type": "code",
   "execution_count": null,
   "metadata": {},
   "outputs": [],
   "source": [
    "#cette fois-ci, écrivez les deux phrases pour chaque dessert, avant de passer au dessert suivant."
   ]
  },
  {
   "cell_type": "code",
   "execution_count": null,
   "metadata": {},
   "outputs": [],
   "source": []
  },
  {
   "cell_type": "code",
   "execution_count": null,
   "metadata": {},
   "outputs": [],
   "source": [
    "l = [\"a\",\"b\",\"c\"]\n",
    "m = [1,2,3]\n",
    "#écrivez un code utilisant les listes l et m qui affiche:\n",
    "# coucou \n",
    "# a1 \n",
    "# a2\n",
    "# a3\n",
    "# ciao\n",
    "# coucou\n",
    "# b1\n",
    "# b2\n",
    "# b3\n",
    "# ciao\n",
    "# ..."
   ]
  },
  {
   "cell_type": "markdown",
   "metadata": {},
   "source": [
    "## la fonction `range`"
   ]
  },
  {
   "cell_type": "markdown",
   "metadata": {},
   "source": [
    "La fonction native `range` est un peu particulière mais très utile. Elle permet de renvoyer une sorte de liste des entiers de 0 à n-1, ce qui fait n entiers consécutifs en commençant à 0."
   ]
  },
  {
   "cell_type": "code",
   "execution_count": null,
   "metadata": {},
   "outputs": [],
   "source": [
    "for i in range(10):\n",
    "    print(i)"
   ]
  },
  {
   "cell_type": "markdown",
   "metadata": {},
   "source": [
    "Tout se passe comme si on avait écrit \"à la main\" :"
   ]
  },
  {
   "cell_type": "code",
   "execution_count": null,
   "metadata": {},
   "outputs": [],
   "source": [
    "for i in [0,1,2,3,4,5,6,7,8,9]:\n",
    "    print(i)"
   ]
  },
  {
   "cell_type": "markdown",
   "metadata": {},
   "source": [
    "Toutefois il faut se méfier car `range(10)` n'est pas exactement une liste c'est un itérateur ; c'est-à-dire un truc un peu compliqué pour l'instant, mais qui peut être converti en liste."
   ]
  },
  {
   "cell_type": "code",
   "execution_count": null,
   "metadata": {},
   "outputs": [],
   "source": [
    "range(10)"
   ]
  },
  {
   "cell_type": "code",
   "execution_count": null,
   "metadata": {},
   "outputs": [],
   "source": [
    "type(range(10))"
   ]
  },
  {
   "cell_type": "markdown",
   "metadata": {},
   "source": [
    "Comme vous voyez le type de `range(10)` n'est pas `list` mais `range`. Ceci dit on a pas exactement besoin de savoir ce que c'est pour s'en servir. On peut le convertir en liste :"
   ]
  },
  {
   "cell_type": "code",
   "execution_count": null,
   "metadata": {},
   "outputs": [],
   "source": [
    "l = list(range(10))"
   ]
  },
  {
   "cell_type": "code",
   "execution_count": null,
   "metadata": {},
   "outputs": [],
   "source": [
    "print(l)"
   ]
  },
  {
   "cell_type": "code",
   "execution_count": null,
   "metadata": {},
   "outputs": [],
   "source": [
    "type(l)"
   ]
  },
  {
   "cell_type": "markdown",
   "metadata": {},
   "source": [
    "Résumé : `range(n)` où n est un entier est \"une sorte\" de liste des entiers qui va de 0 à n-1. On peut :\n",
    "* l'utiliser dans une boucle pour compter de 0 à n-1\n",
    "* le convertir en liste si on veut"
   ]
  },
  {
   "cell_type": "markdown",
   "metadata": {},
   "source": [
    "<img src=\"https://cdn.pixabay.com/photo/2018/01/04/16/53/building-3061124_960_720.png\" width=30 align=left>  <div class=\"alert alert-block alert-danger\">**Ex3.10 - range un peu !**   \n",
    "Essayez `range` vous-mêmes ci-dessous</div>"
   ]
  },
  {
   "cell_type": "code",
   "execution_count": null,
   "metadata": {},
   "outputs": [],
   "source": [
    "#créez une liste des entiers de 0 à 12 (12 exclus)\n",
    "\n",
    "maliste ="
   ]
  },
  {
   "cell_type": "code",
   "execution_count": null,
   "metadata": {},
   "outputs": [],
   "source": [
    "#créez une liste des entiers de 0 à 20 (20 inclus)\n",
    "\n",
    "    "
   ]
  },
  {
   "cell_type": "code",
   "execution_count": null,
   "metadata": {},
   "outputs": [],
   "source": [
    "#affichez, à l'aide d'une boucle for, les phrases \"hello0\", \"hello1\", ...pour les entiers de 0 à 5 (exclus)\n",
    "\n"
   ]
  },
  {
   "cell_type": "markdown",
   "metadata": {},
   "source": [
    "<img src=\"https://cdn.pixabay.com/photo/2018/01/04/16/53/building-3061124_960_720.png\" width=30 align=left>  <div class=\"alert alert-block alert-danger\">**Ex3.11 - des paramètres à géométrie variable**   \n",
    "On peut appeler `range` avec 1 ou 2  ou 3 paramètres. Essayez vous-même de comprendre à quoi ils servent :"
   ]
  },
  {
   "cell_type": "code",
   "execution_count": null,
   "metadata": {},
   "outputs": [],
   "source": [
    "list(range(12))"
   ]
  },
  {
   "cell_type": "code",
   "execution_count": null,
   "metadata": {},
   "outputs": [],
   "source": [
    "list(range(2,12))"
   ]
  },
  {
   "cell_type": "code",
   "execution_count": null,
   "metadata": {},
   "outputs": [],
   "source": [
    "list(range(12,2))"
   ]
  },
  {
   "cell_type": "code",
   "execution_count": null,
   "metadata": {},
   "outputs": [],
   "source": [
    "list(range(2,12,1))"
   ]
  },
  {
   "cell_type": "code",
   "execution_count": null,
   "metadata": {},
   "outputs": [],
   "source": [
    "list(range(2,12,2))"
   ]
  },
  {
   "cell_type": "code",
   "execution_count": null,
   "metadata": {},
   "outputs": [],
   "source": [
    "list(range(1,12,5))"
   ]
  },
  {
   "cell_type": "code",
   "execution_count": null,
   "metadata": {},
   "outputs": [],
   "source": [
    "list(range(2,12,5))"
   ]
  },
  {
   "cell_type": "code",
   "execution_count": null,
   "metadata": {},
   "outputs": [],
   "source": [
    "list(range(1,12,-1))"
   ]
  },
  {
   "cell_type": "code",
   "execution_count": null,
   "metadata": {},
   "outputs": [],
   "source": [
    "list(range(10,2,-1))"
   ]
  },
  {
   "cell_type": "markdown",
   "metadata": {},
   "source": [
    "<img src=\"https://cdn.pixabay.com/photo/2016/10/18/19/40/anatomy-1751201_960_720.png\" width=\"30\" align=left> <div class=\"alert alert-block alert-info\">**Qu3.12**\n",
    "Quand on appelle `range(a,b)` \n",
    "* le premier paramètre, `a`, représente :\n",
    "* le second paramètre, `b`, représente :  </div>"
   ]
  },
  {
   "cell_type": "code",
   "execution_count": null,
   "metadata": {},
   "outputs": [],
   "source": []
  },
  {
   "cell_type": "markdown",
   "metadata": {},
   "source": [
    "<img src=\"https://cdn.pixabay.com/photo/2016/10/18/19/40/anatomy-1751201_960_720.png\" width=\"30\" align=left> <div class=\"alert alert-block alert-info\">**Qu3.13**\n",
    "Quand on appelle `range(a,b,c)` \n",
    "* le premier paramètre, `a`, représente :\n",
    "* le deuxième paramètre, `b`, représente :  \n",
    "* le troisième paramètre, `c`, représente :  </div>"
   ]
  },
  {
   "cell_type": "code",
   "execution_count": null,
   "metadata": {},
   "outputs": [],
   "source": []
  },
  {
   "cell_type": "markdown",
   "metadata": {},
   "source": [
    "<img src=\"https://cdn.pixabay.com/photo/2018/01/04/16/53/building-3061124_960_720.png\" width=30 align=left>  <div class=\"alert alert-block alert-danger\">**Ex3.14** applications sur `range`</div>"
   ]
  },
  {
   "cell_type": "code",
   "execution_count": null,
   "metadata": {},
   "outputs": [],
   "source": [
    "#creéz les listes suivantes \n",
    "# entiers de 1 à 100 (100 inclus)\n",
    "\n"
   ]
  },
  {
   "cell_type": "code",
   "execution_count": null,
   "metadata": {},
   "outputs": [],
   "source": [
    "# entiers de 50 à 60 (60 exclus)\n",
    "\n",
    "\n"
   ]
  },
  {
   "cell_type": "code",
   "execution_count": null,
   "metadata": {},
   "outputs": [],
   "source": [
    "#entiers de -100 à 100 (100 inclus)\n",
    "\n"
   ]
  },
  {
   "cell_type": "code",
   "execution_count": null,
   "metadata": {},
   "outputs": [],
   "source": [
    "#entiers de 30 à 130 (inclus) de 2 en 2\n",
    "\n"
   ]
  },
  {
   "cell_type": "code",
   "execution_count": null,
   "metadata": {},
   "outputs": [],
   "source": [
    "#entiers de 100 à 50 (inclus) de -2 en -2\n",
    "\n",
    "    "
   ]
  },
  {
   "cell_type": "code",
   "execution_count": null,
   "metadata": {},
   "outputs": [],
   "source": [
    "#avec une boucle for faire des print des entiers de -100 à 100 (exclus) de 5 en 5\n",
    "\n",
    "\n"
   ]
  },
  {
   "cell_type": "code",
   "execution_count": null,
   "metadata": {},
   "outputs": [],
   "source": []
  }
 ],
 "metadata": {
  "kernelspec": {
   "display_name": "Python 3 (ipykernel)",
   "language": "python",
   "name": "python3"
  },
  "language_info": {
   "codemirror_mode": {
    "name": "ipython",
    "version": 3
   },
   "file_extension": ".py",
   "mimetype": "text/x-python",
   "name": "python",
   "nbconvert_exporter": "python",
   "pygments_lexer": "ipython3",
   "version": "3.12.5"
  }
 },
 "nbformat": 4,
 "nbformat_minor": 2
}
