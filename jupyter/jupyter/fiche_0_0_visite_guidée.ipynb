{
 "cells": [
  {
   "cell_type": "markdown",
   "metadata": {},
   "source": [
    "<img src=\"https://cdn.pixabay.com/photo/2015/04/29/20/55/concrete-746114_1280.jpg\" align=right width=\"400\">  \n",
    "\n",
    "# Séquence 0 / Fiche 0 - Fondations de python : identifiants, objets, opérateurs \n",
    "\n",
    "Bienvenue sur le Jupyter du **Cours d'initiation au développement du DUT INFO/Vélizy**.\n",
    "\n",
    "Dans cette fiche, nous allons revoir certains concepts que vous connaissez probablement déjà en python, mais de façon plus formelle. Les notions de cette fiche sont à comprendre en profondeur et connaître par coeur\n",
    "\n",
    "Dans les séquences de travail, vous rencontrerez certains logos :\n",
    " * <img src=\"https://cdn.pixabay.com/photo/2018/01/04/16/53/building-3061124_960_720.png\" width=30 align=left><div class=\"alert alert-block alert-danger\"> indique un exercice à réaliser  </div>\n",
    " * <img src=\"https://cdn.pixabay.com/photo/2016/10/18/19/40/anatomy-1751201_960_720.png\" width=\"30\" align=left> <div class=\"alert alert-block alert-info\">indique un point important qui nécessite une attention particulière ou bien une réponse de votre part</div>"
   ]
  },
  {
   "cell_type": "code",
   "execution_count": 100,
   "metadata": {
    "scrolled": false
   },
   "outputs": [
    {
     "name": "stdout",
     "output_type": "stream",
     "text": [
      "Hello\n"
     ]
    }
   ],
   "source": [
    "print(\"Hello\") # print permet d'afficher quelque chose à l'écran\n",
    "#essayez de modifier le texte et ré-exécuter"
   ]
  },
  {
   "cell_type": "markdown",
   "metadata": {},
   "source": [
    "<img src=\"https://cdn.pixabay.com/photo/2016/10/18/19/40/anatomy-1751201_960_720.png\" width=\"30\" align=left><div class=\"alert alert-block alert-info\">**TRES IMPORTANT** : [la documentation officielle de python](https://docs.python.org/fr/3/) (cliquez !) en français vous aidera énormément, prenez l'habitude de la consulter afin de connaître la vérité !  \n",
    "**ATTENTION**, veillez bien à ce que la version de la doc python (en haut à gauche) corresponde à celle que vous utilisez.</div>"
   ]
  },
  {
   "cell_type": "code",
   "execution_count": 101,
   "metadata": {
    "scrolled": false
   },
   "outputs": [
    {
     "name": "stdout",
     "output_type": "stream",
     "text": [
      "Vous travaillez actuellement sur la version python 3.12.5 (tags/v3.12.5:ff3bc82, Aug  6 2024, 20:45:27) [MSC v.1940 64 bit (AMD64)]\n"
     ]
    }
   ],
   "source": [
    "#exécutez cette cellule !\n",
    "import sys\n",
    "print(\"Vous travaillez actuellement sur la version python\",sys.version)"
   ]
  },
  {
   "cell_type": "markdown",
   "metadata": {},
   "source": [
    "<img src=\"https://cdn.pixabay.com/photo/2016/10/18/19/40/anatomy-1751201_960_720.png\" width=\"30\" align=left><div class=\"alert alert-block alert-info\">Vous êtes ici dans un dans un notebook *jupyter*, c'est une façon parmi d'autres d'utiliser python.</div>"
   ]
  },
  {
   "cell_type": "markdown",
   "metadata": {},
   "source": [
    "## Les objets\n",
    "\n",
    "https://docs.python.org/fr/3/reference/datamodel.html\n",
    "\n",
    "\n",
    "En python, toutes les \"valeurs\" que vous utilisez comme 2, -3.4 ou \"bonjour\" sont stockées dans la mémoire, et cette zone de mémoire contenant une valeur est appelée un **objet**. \n",
    "Toutes les **données** sont stockées dans des objets. Plus généralement, d'autres concepts que vous allez manipuler, comme les fonctions ou les classes sont des objets.\n",
    "\n",
    "Un objet est \"quelque chose\" qui a une valeur, et que vous pouvez manipuler : récupérer la valeur, savoir de quel type de valeur il s'agit, éventuellement la changer, etc, tout comme les objets du monde réel -- mais il s'agit ici d'objets informatiques. Un objet n'est pas une généralité (comme le concept de table) mais un objet bien précis (comme votre table de salon).\n",
    "\n",
    "Chaque objet est stocké dans une zone de la mémoire qui lui est attribuée et possède les caractéristiques suivantes :\n",
    "* un identifiant (c'est un numéro qui répertorie l'objet dans la mémoire)\n",
    "* un type (c'est la nature de l'objet -- un entier, une fonction, une chaîne de caractère-- nous y reviendrons)\n",
    "* une valeur (c'est l'objet proprement dit)\n",
    "\n",
    "\n",
    "Une fois créé, l'identifiant et le type d'un objet ne peut jamais changer. Certains objets peuvent changer de valeurs (on parle d'objets mutables ou modifiables) et d'autres non (objets non mutables ou non modifiables), suivant leur type."
   ]
  },
  {
   "cell_type": "markdown",
   "metadata": {},
   "source": [
    "<img src=\"https://cdn.pixabay.com/photo/2016/10/18/19/40/anatomy-1751201_960_720.png\" width=\"30\" align=left><div class=\"alert alert-block alert-info\">  \n",
    "    \n",
    "**Complétez**  \n",
    "Un **objet** est **...**  \n",
    "Un **identifiant** est **...***    \n",
    "</div>"
   ]
  },
  {
   "cell_type": "markdown",
   "metadata": {},
   "source": [
    "Donner un nom à un objet s'appelle une **affectation** et utilise l'opérateur égal *=*"
   ]
  },
  {
   "cell_type": "code",
   "execution_count": 102,
   "metadata": {},
   "outputs": [],
   "source": [
    "#exécutez cette cellule !\n",
    "#voici quelques valeurs ou objets, auxquels on attribue un identifiant\n",
    "\n",
    "a1 = 12\n",
    "nombre = - 7.4\n",
    "jour = \"mardi\"\n",
    "il_fait_beau = False"
   ]
  },
  {
   "cell_type": "code",
   "execution_count": 103,
   "metadata": {},
   "outputs": [
    {
     "name": "stdout",
     "output_type": "stream",
     "text": [
      "12\n",
      "-74.0\n",
      "j'aime pas le mardi\n"
     ]
    }
   ],
   "source": [
    "#La cellule précédente ayant été exécutée, \n",
    "#les identifiants sont maintenant associés aux objets. Ainsi les lignes suivantes\n",
    "#devraient donner les résultats attendus:\n",
    "print(a1)\n",
    "print(nombre*10)\n",
    "print(\"j'aime pas le \" + jour)"
   ]
  },
  {
   "cell_type": "markdown",
   "metadata": {},
   "source": [
    "<img src=\"https://cdn.pixabay.com/photo/2016/10/18/19/40/anatomy-1751201_960_720.png\" width=\"30\" align=left><div class=\"alert alert-block alert-info\">  \n",
    "    \n",
    "**A retenir**  \n",
    "L'affectation s'écrit  \n",
    "    **Identifiant = objet**  \n",
    "À gauche de l'opérateur égal, il faut un identifiant (un nom à donner).  \n",
    "À droite du signe égal, il faut un objet (ou quelque chose qui désigne un objet).\n",
    "</div>"
   ]
  },
  {
   "cell_type": "code",
   "execution_count": 104,
   "metadata": {},
   "outputs": [],
   "source": [
    "# Regardez l'affectation suivante\n",
    "x = a1"
   ]
  },
  {
   "cell_type": "markdown",
   "metadata": {},
   "source": [
    "<img src=\"https://cdn.pixabay.com/photo/2016/10/18/19/40/anatomy-1751201_960_720.png\" width=\"30\" align=left><div class=\"alert alert-block alert-info\"> \n",
    "x et a1 sont tous deux des identifiants mais ne jouent pas le même rôle ici.  \n",
    "A droite, l'identifiant a1 est utilisé pour désigner un objet (l'entier 12 dans la mémoire en principe).  \n",
    "A gauche, on donne l'identifiant x comme nouveau nom à l'objet 12 qui a maintenant deux noms, x et a1.  \n",
    "L'affectation ci-dessus peut se lire \"j'associe aussi l'identifiant x à ce qui était déjà désigné par l'identifiant a1\", ou plus simplement \"je nomme x l'objet correspondant au nom a1\". </div>"
   ]
  },
  {
   "cell_type": "code",
   "execution_count": 105,
   "metadata": {},
   "outputs": [
    {
     "name": "stdout",
     "output_type": "stream",
     "text": [
      "12\n"
     ]
    }
   ],
   "source": [
    "print(x)"
   ]
  },
  {
   "cell_type": "code",
   "execution_count": 106,
   "metadata": {},
   "outputs": [
    {
     "data": {
      "text/plain": [
       "True"
      ]
     },
     "execution_count": 106,
     "metadata": {},
     "output_type": "execute_result"
    }
   ],
   "source": [
    "x == a1  # opérateur de comparaison, ne pas confondre = et =="
   ]
  },
  {
   "cell_type": "markdown",
   "metadata": {},
   "source": [
    "## Règles pour les identifiants\n",
    "Un identifiant permet donc d'accéder à une variable/objet. Cet identifiant doit respecter:\n",
    " * des contraintes grammaticales (obligatoires)\n",
    " * des conventions d'écriture (facultatives)\n",
    "\n",
    "Les règles de bon usage de python sont décrites dans des documents officiels nommés PEP. Vous trouverez les contraintes et conventions d'écriture dans la [PEP8](https://openclassrooms.com/fr/courses/4425111-perfectionnez-vous-en-python/4464230-assimilez-les-bonnes-pratiques-de-la-pep-8).\n",
    "\n",
    "Les principales **contraintes grammaticales** pour les identifiants sont :\n",
    " * pas de chiffre en début d'identifiant\n",
    " * pas de symboles de ponctuation, d'espace, d'apostrophe, de guillements, de slash; seul underscore _ autorisé\n",
    "\n",
    "Et les principales **conventions d'écriture** sont :\n",
    " * variables/objets **en minuscules** : truc, et pas Truc ni TRUC\n",
    " * constantes (qui n'existent pas formellement en python) en majuscules : TRUC\n",
    " * des séparations de mots par majuscules ([Camel case](https://fr.wikipedia.org/wiki/Camel_case)) : nbBilles, distVilleDepart ou bien des underscores nb_billes, dist_ville_depart, en faisant un choix cohérent pour tout le programme\n",
    " * des espaces de séparation afin d'alléger la lecture: `a = 2` et pas `a=2`\n",
    " * les accents sont autorisés en python3 mais il vaut mieux les éviter dans les noms d'identifiants\n",
    " "
   ]
  },
  {
   "cell_type": "markdown",
   "metadata": {},
   "source": [
    "### Exercice 0 - identifiants<img src=\"https://cdn.pixabay.com/photo/2018/01/04/16/53/building-3061124_960_720.png\" width=50 align=left>\n",
    "<div class=\"alert alert-block alert-danger\">Corrigez les problèmes ci-dessous</div>\n"
   ]
  },
  {
   "cell_type": "code",
   "execution_count": 107,
   "metadata": {
    "scrolled": true
   },
   "outputs": [],
   "source": [
    "# l'avion= rafale\n",
    "tirebouchon = True\n",
    "malo = \"Bretagne\"\n",
    "étage=2\n",
    "VACANCES = False\n",
    "ça_porteMalheur = 13"
   ]
  },
  {
   "cell_type": "markdown",
   "metadata": {},
   "source": [
    "## Types/classes\n",
    "Chaque valeur/objet possède un type/classe, qui indique ses capacités.\n",
    "Les principaux types/classes natives sont :\n",
    " * `int` : type entier relatif, pas de valeur maximale depuis python3\n",
    " * `float` : nombres décimaux\n",
    " * `str` : chaînes de caractères (lettres, mots, phrases, délimités par des \\' ou des \\\" )\n",
    " * `bool` : booléens (`True` ou `False`)\n",
    " * `list` : listes, ou tableaux (symbolisés par des \\[ \\] )\n",
    " * `dict` : dictionnaires (symbolisés par des \\{ \\} )\n",
    " * `set` : ensembles au sens mathématique\n",
    " * `tuples` : couples, triplets, n-uplets (ex: (5,2) ou (3,9,2) )"
   ]
  },
  {
   "cell_type": "markdown",
   "metadata": {},
   "source": [
    "### Exercice 1 - Types <img src=\"https://cdn.pixabay.com/photo/2018/01/04/16/53/building-3061124_960_720.png\" width=50 align=left>\n",
    "<img src=\"https://cdn.pixabay.com/photo/2018/01/04/16/53/building-3061124_960_720.png\" width=30 align=left><div class=\"alert alert-block alert-danger\"><b>Ex1.0</b> Dans l'exemple ci-dessous, modifiez la valeur de `a` afin d'obtenir un type `float`. </div>\n"
   ]
  },
  {
   "cell_type": "code",
   "execution_count": 108,
   "metadata": {},
   "outputs": [
    {
     "name": "stdout",
     "output_type": "stream",
     "text": [
      "<class 'int'>\n"
     ]
    }
   ],
   "source": [
    "a = 12\n",
    "print(type(a))"
   ]
  },
  {
   "cell_type": "markdown",
   "metadata": {},
   "source": [
    "<img src=\"https://cdn.pixabay.com/photo/2018/01/04/16/53/building-3061124_960_720.png\" width=30 align=left><div class=\"alert alert-block alert-danger\">**Ex1.1** Faites de même afin d'obtenir un type `str` contenant `aujourd'hui`.</div>"
   ]
  },
  {
   "cell_type": "code",
   "execution_count": 109,
   "metadata": {},
   "outputs": [
    {
     "name": "stdout",
     "output_type": "stream",
     "text": [
      "<class 'str'>\n"
     ]
    }
   ],
   "source": [
    "b = \"test\"\n",
    "print(type(b))"
   ]
  },
  {
   "cell_type": "markdown",
   "metadata": {},
   "source": [
    "<img src=\"https://cdn.pixabay.com/photo/2018/01/04/16/53/building-3061124_960_720.png\" width=30 align=left><div class=\"alert alert-block alert-danger\">**Ex1.2** Faites de même afin d'obtenir un type `bool`.</div>"
   ]
  },
  {
   "cell_type": "code",
   "execution_count": 110,
   "metadata": {},
   "outputs": [
    {
     "name": "stdout",
     "output_type": "stream",
     "text": [
      "<class 'bool'>\n"
     ]
    }
   ],
   "source": [
    "c = True\n",
    "print(type(c))"
   ]
  },
  {
   "cell_type": "markdown",
   "metadata": {},
   "source": [
    "<img src=\"https://cdn.pixabay.com/photo/2018/01/04/16/53/building-3061124_960_720.png\" width=30 align=left><div class=\"alert alert-block alert-danger\">**Ex1.3** Faites de même afin d'obtenir un type `list`.</div>"
   ]
  },
  {
   "cell_type": "code",
   "execution_count": 111,
   "metadata": {},
   "outputs": [
    {
     "name": "stdout",
     "output_type": "stream",
     "text": [
      "<class 'list'>\n"
     ]
    }
   ],
   "source": [
    "d = [\"un\", \"deux\"]\n",
    "print(type(d))"
   ]
  },
  {
   "cell_type": "markdown",
   "metadata": {},
   "source": [
    "Pour les autres types, nous verrons ultérieurement comment procéder."
   ]
  },
  {
   "cell_type": "markdown",
   "metadata": {},
   "source": [
    "## Opérateurs numériques\n",
    "Les opérateurs permettent de réaliser des opérations sur les valeurs/objets.  \n",
    "Les **opérateurs numériques** usuels sont : `+ - * / // % **`  \n",
    "Leur comportement dépend des types concernés."
   ]
  },
  {
   "cell_type": "markdown",
   "metadata": {},
   "source": [
    "### Exercices 2 - opérateurs standards<img src=\"https://cdn.pixabay.com/photo/2018/01/04/16/53/building-3061124_960_720.png\" width=50 align=left>  \n",
    "  \n",
    "  \n",
    "<img src=\"https://cdn.pixabay.com/photo/2018/01/04/16/53/building-3061124_960_720.png\" width=30 align=left>  <div class=\"alert alert-block alert-danger\">**Ex2.0 - `+` entre `int`**  \n",
    "Utilisez l'opérateur `+` entre deux `int` et affichez le type du résultat obtenu.</div>"
   ]
  },
  {
   "cell_type": "code",
   "execution_count": 112,
   "metadata": {},
   "outputs": [
    {
     "name": "stdout",
     "output_type": "stream",
     "text": [
      "<class 'int'>\n"
     ]
    }
   ],
   "source": [
    "a = 5 + 3\n",
    "print(type(a))"
   ]
  },
  {
   "cell_type": "markdown",
   "metadata": {},
   "source": [
    "<img src=\"https://cdn.pixabay.com/photo/2018/01/04/16/53/building-3061124_960_720.png\" width=30 align=left>  <div class=\"alert alert-block alert-danger\">**Ex2.1 - `+` entre `float` et `int`**  \n",
    "Utilisez l'opérateur `+` entre un `float`et un `int` et affichez le résultat obtenu, et son type.</div>"
   ]
  },
  {
   "cell_type": "code",
   "execution_count": 113,
   "metadata": {
    "scrolled": true
   },
   "outputs": [
    {
     "name": "stdout",
     "output_type": "stream",
     "text": [
      "c = 7.3 <class 'float'>\n"
     ]
    }
   ],
   "source": [
    "a = 5.3\n",
    "b = 2\n",
    "c = a+b\n",
    "print(\"c =\", c, type(c))"
   ]
  },
  {
   "cell_type": "markdown",
   "metadata": {},
   "source": [
    "<img src=\"https://cdn.pixabay.com/photo/2016/10/18/19/40/anatomy-1751201_960_720.png\" width=\"30\" align=left><div class=\"alert alert-block alert-info\">**IMPORTANT** : lorsqu'on utilise des opérateurs, il existe un mécanisme de conversion implicite qui ????.</div>"
   ]
  },
  {
   "cell_type": "markdown",
   "metadata": {},
   "source": [
    "<img src=\"https://cdn.pixabay.com/photo/2018/01/04/16/53/building-3061124_960_720.png\" width=30 align=left><div class=\"alert alert-block alert-danger\">**Ex2.2 - `+` entre `str`**  \n",
    "Utilisez l'opérateur `+` entre deux `str` et affichez le résultat obtenu, et son type.</div>"
   ]
  },
  {
   "cell_type": "code",
   "execution_count": 114,
   "metadata": {},
   "outputs": [
    {
     "name": "stdout",
     "output_type": "stream",
     "text": [
      "c = HelloWorld <class 'str'>\n"
     ]
    }
   ],
   "source": [
    "a = \"Hello\"\n",
    "b = \"World\"\n",
    "c = a+b\n",
    "print(\"c =\", c, type(c))"
   ]
  },
  {
   "cell_type": "markdown",
   "metadata": {},
   "source": [
    "<img src=\"https://cdn.pixabay.com/photo/2018/01/04/16/53/building-3061124_960_720.png\" width=30 align=left><div class=\"alert alert-block alert-danger\">**Ex2.3 - `+` entre `str` et`int`**  \n",
    "Utilisez l'opérateur `+` entre un `str`et un `int` et affichez le résultat obtenu, et son type.</div>"
   ]
  },
  {
   "cell_type": "code",
   "execution_count": 115,
   "metadata": {},
   "outputs": [
    {
     "ename": "TypeError",
     "evalue": "unsupported operand type(s) for +: 'int' and 'str'",
     "output_type": "error",
     "traceback": [
      "\u001b[1;31m---------------------------------------------------------------------------\u001b[0m",
      "\u001b[1;31mTypeError\u001b[0m                                 Traceback (most recent call last)",
      "Cell \u001b[1;32mIn[115], line 3\u001b[0m\n\u001b[0;32m      1\u001b[0m a \u001b[38;5;241m=\u001b[39m \u001b[38;5;241m10\u001b[39m\n\u001b[0;32m      2\u001b[0m b \u001b[38;5;241m=\u001b[39m \u001b[38;5;124m\"\u001b[39m\u001b[38;5;124mWorld\u001b[39m\u001b[38;5;124m\"\u001b[39m\n\u001b[1;32m----> 3\u001b[0m c \u001b[38;5;241m=\u001b[39m \u001b[43ma\u001b[49m\u001b[38;5;241;43m+\u001b[39;49m\u001b[43mb\u001b[49m\n\u001b[0;32m      4\u001b[0m \u001b[38;5;28mprint\u001b[39m(\u001b[38;5;124m\"\u001b[39m\u001b[38;5;124mc =\u001b[39m\u001b[38;5;124m\"\u001b[39m, c, \u001b[38;5;28mtype\u001b[39m(c))\n",
      "\u001b[1;31mTypeError\u001b[0m: unsupported operand type(s) for +: 'int' and 'str'"
     ]
    }
   ],
   "source": [
    "a = 10\n",
    "b = \"World\"\n",
    "c = a+b\n",
    "print(\"c =\", c, type(c))"
   ]
  },
  {
   "cell_type": "markdown",
   "metadata": {},
   "source": [
    "<img src=\"https://cdn.pixabay.com/photo/2016/10/18/19/40/anatomy-1751201_960_720.png\" width=\"30\" align=left><div class=\"alert alert-block alert-info\">**IMPORTANT** : Pour l'opérateur `+`, nous pouvons en conclure que....???? et que suivant les cas ...</div>"
   ]
  },
  {
   "cell_type": "markdown",
   "metadata": {},
   "source": [
    "On ne peut pas additionner un string et un integer"
   ]
  },
  {
   "cell_type": "markdown",
   "metadata": {},
   "source": [
    "<img src=\"https://cdn.pixabay.com/photo/2018/01/04/16/53/building-3061124_960_720.png\" width=30 align=left><div class=\"alert alert-block alert-danger\">**Ex2.4 - `*` entre`str` et `int`**  \n",
    "Utilisez maintenant l'opérateur `*` entre un `str`et un `int` et affichez le résultat obtenu, et son type.</div>"
   ]
  },
  {
   "cell_type": "code",
   "execution_count": null,
   "metadata": {},
   "outputs": [
    {
     "name": "stdout",
     "output_type": "stream",
     "text": [
      "c = WorldWorldWorldWorldWorldWorldWorldWorldWorldWorld <class 'str'>\n"
     ]
    }
   ],
   "source": [
    "a = 10\n",
    "b = \"World\"\n",
    "c = a*b\n",
    "print(\"c =\", c, type(c))"
   ]
  },
  {
   "cell_type": "markdown",
   "metadata": {},
   "source": [
    "<img src=\"https://cdn.pixabay.com/photo/2018/01/04/16/53/building-3061124_960_720.png\" width=30 align=left><div class=\"alert alert-block alert-danger\">**Ex2.5 - Que font `/` et `//` ?**  \n",
    "Essayez de distinguer les comportements de `/` et `//` :\n",
    " * quelles opérations réalisent-ils ?\n",
    " * à quel(s) type(s) peuvent-ils être associés?\n",
    " </div>"
   ]
  },
  {
   "cell_type": "code",
   "execution_count": null,
   "metadata": {},
   "outputs": [
    {
     "name": "stdout",
     "output_type": "stream",
     "text": [
      "3.7777777777777772 3.0\n"
     ]
    }
   ],
   "source": [
    "a = 10.2\n",
    "b = 2.7\n",
    "c = a/b\n",
    "d = a//b\n",
    "print(c,d)"
   ]
  },
  {
   "cell_type": "markdown",
   "metadata": {},
   "source": [
    "<img src=\"https://cdn.pixabay.com/photo/2016/10/18/19/40/anatomy-1751201_960_720.png\" width=\"30\" align=left> <div class=\"alert alert-block alert-info\">**IMPORTANT** : les opérateurs `/` et `//` réalisent respectivement des opérations de...?????.  \n",
    "    \n",
    "Ils s'appliquent aux valeurs de type...????</div>"
   ]
  },
  {
   "cell_type": "markdown",
   "metadata": {},
   "source": [
    "Ils servent pour diviser des integer et des floats, '/' pour donner la valeur exact et '//' pour donner la valeur arrondie a l'unité"
   ]
  },
  {
   "cell_type": "markdown",
   "metadata": {},
   "source": [
    "<img src=\"https://cdn.pixabay.com/photo/2018/01/04/16/53/building-3061124_960_720.png\" width=30 align=left><div class=\"alert alert-block alert-danger\">**Ex2.6 - Que fait l'opérateur \\*\\* ?**</div>"
   ]
  },
  {
   "cell_type": "code",
   "execution_count": null,
   "metadata": {},
   "outputs": [
    {
     "name": "stdout",
     "output_type": "stream",
     "text": [
      "256\n"
     ]
    }
   ],
   "source": [
    "a = 2\n",
    "b = 8\n",
    "c = a**b\n",
    "print(c)"
   ]
  },
  {
   "cell_type": "markdown",
   "metadata": {},
   "source": [
    "<img src=\"https://cdn.pixabay.com/photo/2016/10/18/19/40/anatomy-1751201_960_720.png\" width=\"30\" align=left><div class=\"alert alert-block alert-info\">**IMPORTANT** : l'opérateur `**` permet de calculer...?????.</div>"
   ]
  },
  {
   "cell_type": "markdown",
   "metadata": {},
   "source": [
    "'**' sert a calculer une puissance"
   ]
  },
  {
   "cell_type": "markdown",
   "metadata": {},
   "source": [
    "### Exercice 3 - modulo <img src=\"https://cdn.pixabay.com/photo/2018/01/04/16/53/building-3061124_960_720.png\" width=50 align=left>\n",
    "L'**opérateur modulo %** permet d'obtenir le reste de la division entière.  \n",
    "\n",
    "<img src=\"https://cdn.pixabay.com/photo/2018/01/04/16/53/building-3061124_960_720.png\" width=30 align=left><div class=\"alert alert-block alert-danger\">**Ex3.0 - Pair ?**  \n",
    "Quel calcul effectuer afin de savoir si `n` est pair ?</div>"
   ]
  },
  {
   "cell_type": "code",
   "execution_count": null,
   "metadata": {},
   "outputs": [
    {
     "name": "stdout",
     "output_type": "stream",
     "text": [
      "Impair\n"
     ]
    }
   ],
   "source": [
    "n = 51\n",
    "if (n % 2 == 0):\n",
    "    print('Pair')\n",
    "else:\n",
    "    print('Impair')"
   ]
  },
  {
   "cell_type": "markdown",
   "metadata": {},
   "source": [
    "<img src=\"https://cdn.pixabay.com/photo/2018/01/04/16/53/building-3061124_960_720.png\" width=30 align=left><div class=\"alert alert-block alert-danger\">**Ex3.1 - Multiple de ?**  \n",
    "8751212 est-il un multiple de 3 ?</div>"
   ]
  },
  {
   "cell_type": "code",
   "execution_count": null,
   "metadata": {},
   "outputs": [
    {
     "name": "stdout",
     "output_type": "stream",
     "text": [
      "Pas Multiple de 3\n"
     ]
    }
   ],
   "source": [
    "n = 2\n",
    "if (n % 3 == 0):\n",
    "    print('Multiple de 3')\n",
    "else:\n",
    "    print('Pas Multiple de 3')"
   ]
  },
  {
   "cell_type": "markdown",
   "metadata": {},
   "source": [
    "<img src=\"https://cdn.pixabay.com/photo/2018/01/04/16/53/building-3061124_960_720.png\" width=30 align=left><div class=\"alert alert-block alert-danger\">**Ex3.2 - Modulogâteau** 🍰🍰🍰🍰🍰  \n",
    "20 parts de gâteaux, 7 invité.e.s, combien de parts de gâteau chacun.e et combien de parts restantes ?</div>"
   ]
  },
  {
   "cell_type": "code",
   "execution_count": null,
   "metadata": {
    "scrolled": true
   },
   "outputs": [
    {
     "name": "stdout",
     "output_type": "stream",
     "text": [
      "Il reste 6 parts de gateau, chaque personne a 2 parts\n"
     ]
    }
   ],
   "source": [
    "partdegateau = 20\n",
    "invite = 7\n",
    "\n",
    "parpersonne = partdegateau//invite\n",
    "reste = partdegateau%invite\n",
    "print('Il reste',reste,\"parts de gateau, chaque personne a\",parpersonne,\"parts\")"
   ]
  },
  {
   "cell_type": "markdown",
   "metadata": {},
   "source": [
    "<img src=\"https://cdn.pixabay.com/photo/2018/01/04/16/53/building-3061124_960_720.png\" width=30 align=left><div class=\"alert alert-block alert-danger\">**Ex3.3 - Modulogâteau en rabe** 🍰🍰🍰🍰🍰    \n",
    "même exercice avec 3972 parts de gateau et 17 invités</div>"
   ]
  },
  {
   "cell_type": "code",
   "execution_count": null,
   "metadata": {},
   "outputs": [
    {
     "name": "stdout",
     "output_type": "stream",
     "text": [
      "Il reste 11 parts de gateau, chaque personne a 233 parts\n"
     ]
    }
   ],
   "source": [
    "partdegateau = 3972\n",
    "invite = 17\n",
    "\n",
    "parpersonne = partdegateau//invite\n",
    "reste = partdegateau%invite\n",
    "print('Il reste',reste,\"parts de gateau, chaque personne a\",parpersonne,\"parts\")"
   ]
  },
  {
   "cell_type": "markdown",
   "metadata": {},
   "source": [
    "## Opérateurs d'affectation\n",
    "Les **opérateurs d'affectation** sont : `= += -= *= /= //* %=`.  \n",
    "\n",
    "Le `=` permet évidemment d'associer une valeur/objet à un identificateur.  \n",
    "Les autres opérateurs d'affectation sont en fait du sucre syntaxique: ils ne sont pas indispensables mais simplifient les écritures.\n",
    "\n",
    "### Exercice 4 - Modifier une valeur<img src=\"https://cdn.pixabay.com/photo/2018/01/04/16/53/building-3061124_960_720.png\" width=50 align=left>  \n",
    "<img src=\"https://cdn.pixabay.com/photo/2018/01/04/16/53/building-3061124_960_720.png\" width=30 align=left><div class=\"alert alert-block alert-danger\">**Ex4.0 - La classique**  \n",
    "Dans le code suivant, en utilisant les opérateurs standards `-` et `/`, effectuez des opérations diminuant `a`de 4 puis réduisant de moitié sa valeur.  </div>"
   ]
  },
  {
   "cell_type": "code",
   "execution_count": null,
   "metadata": {},
   "outputs": [
    {
     "name": "stdout",
     "output_type": "stream",
     "text": [
      "48.0\n"
     ]
    }
   ],
   "source": [
    "a = 100\n",
    "a = a - 4\n",
    "a = a/2\n",
    "print(a)"
   ]
  },
  {
   "cell_type": "markdown",
   "metadata": {},
   "source": [
    "<img src=\"https://cdn.pixabay.com/photo/2018/01/04/16/53/building-3061124_960_720.png\" width=30 align=left><div class=\"alert alert-block alert-danger\">**Ex4.1 - La sucre syntaxique**   \n",
    "Effectuez les mêmes opérations en utilisant les opérateurs `-=` et `/=`.</div>"
   ]
  },
  {
   "cell_type": "code",
   "execution_count": null,
   "metadata": {},
   "outputs": [
    {
     "name": "stdout",
     "output_type": "stream",
     "text": [
      "48.0\n"
     ]
    }
   ],
   "source": [
    "a=100\n",
    "a-=4\n",
    "a/=2\n",
    "print(a)"
   ]
  },
  {
   "cell_type": "markdown",
   "metadata": {},
   "source": [
    "<img src=\"https://cdn.pixabay.com/photo/2016/10/18/19/40/anatomy-1751201_960_720.png\" width=\"30\" align=left><div class=\"alert alert-block alert-info\">**IMPORTANT :**  l'opérateur `+=` permet de remplacer `...`</div>"
   ]
  },
  {
   "cell_type": "markdown",
   "metadata": {},
   "source": [
    "## 5 - Opérateurs de comparaison et opérateurs logiques\n",
    "Les **opérateurs de comparaison** sont : `==, <, <=, >=, >, !=`.  \n",
    "\n",
    "Associés à des **expressions** (comme `2*a+1` ou ` 5.2`), ils permettent d'obtenir **une valeur de vérité** (`True` ou `False`). Par exemple:"
   ]
  },
  {
   "cell_type": "code",
   "execution_count": null,
   "metadata": {},
   "outputs": [
    {
     "name": "stdout",
     "output_type": "stream",
     "text": [
      "False\n"
     ]
    }
   ],
   "source": [
    "a=18\n",
    "print(a==12)"
   ]
  },
  {
   "cell_type": "markdown",
   "metadata": {},
   "source": [
    "<img src=\"https://cdn.pixabay.com/photo/2016/10/18/19/40/anatomy-1751201_960_720.png\" width=\"30\" align=left><div class=\"alert alert-block alert-info\">**IMPORTANT :**  l'opérateur `==` effectue ...  \n",
    "alors que  \n",
    "l'opérateur `=` effectue ...</div>"
   ]
  },
  {
   "cell_type": "markdown",
   "metadata": {},
   "source": [
    "'=' pour une affectation de valeur\n",
    "'==' pour une verification de valeur"
   ]
  },
  {
   "cell_type": "markdown",
   "metadata": {},
   "source": [
    "Les **opérateurs logiques** usuels sont `and, or, not`.  \n",
    "Ils permettent d'associer une ou plusieurs valeurs de vérité et d'obtenir une valeur de vérité.  \n",
    "Par exemple:"
   ]
  },
  {
   "cell_type": "code",
   "execution_count": null,
   "metadata": {},
   "outputs": [
    {
     "name": "stdout",
     "output_type": "stream",
     "text": [
      "False\n",
      "True\n",
      "False\n",
      "False\n"
     ]
    }
   ],
   "source": [
    "a=12\n",
    "print(a==20 and a==12)\n",
    "print(a==20 or a==12)\n",
    "print(a==20 or not a==12)\n",
    "print(a==20 and not a==12)"
   ]
  },
  {
   "cell_type": "markdown",
   "metadata": {},
   "source": [
    "<img src=\"https://cdn.pixabay.com/photo/2018/01/04/16/53/building-3061124_960_720.png\" width=30 align=left><div class=\"alert alert-block alert-danger\">**Ex5.0 - Minority report**   \n",
    "Ecrivez une expression utilisant opérateurs de comparaison et/ou opérateurs logiques, et permettant d'afficher si `bob` est mineur (`True`) ou majeur (`False`). **Attention, votre programme doit renvoyer `False` en cas de valeur négative**.    \n",
    "**MERCI DE BIEN LIRE CET ENONCE!**  \n",
    "Exemple:  \n",
    "    12 : `True`  \n",
    "    -2 : `False` </div>"
   ]
  },
  {
   "cell_type": "code",
   "execution_count": null,
   "metadata": {},
   "outputs": [
    {
     "name": "stdout",
     "output_type": "stream",
     "text": [
      "True\n"
     ]
    }
   ],
   "source": [
    "bob = 14\n",
    "if (bob < 0 ):\n",
    "    print(False)\n",
    "elif (bob >= 18):\n",
    "    print(False)\n",
    "else:\n",
    "    print(True)"
   ]
  },
  {
   "cell_type": "markdown",
   "metadata": {},
   "source": [
    "<img src=\"https://cdn.pixabay.com/photo/2018/01/04/16/53/building-3061124_960_720.png\" width=30 align=left><div class=\"alert alert-block alert-danger\">**Ex5.1 - Minority report 2**  \n",
    "Même exercice, mais vous n'avez le droit d'utiliser que des opérateurs de comparaison (pas d'opérateurs logiques).</div>"
   ]
  },
  {
   "cell_type": "code",
   "execution_count": null,
   "metadata": {},
   "outputs": [],
   "source": [
    "bob = 18\n",
    "if (bob < 0 or bob >= 18 ):\n",
    "    print(False)\n",
    "else:\n",
    "    print(True)"
   ]
  },
  {
   "cell_type": "markdown",
   "metadata": {},
   "source": [
    "<img src=\"https://cdn.pixabay.com/photo/2016/10/18/19/40/anatomy-1751201_960_720.png\" width=\"30\" align=left> <div class=\"alert alert-block alert-info\">**IMPORTANT** : en python, on peut écrire des égalités, des inégalités, mais également des ....???</div>"
   ]
  },
  {
   "cell_type": "markdown",
   "metadata": {},
   "source": [
    "<img src=\"https://cdn.pixabay.com/photo/2018/01/04/16/53/building-3061124_960_720.png\" width=30 align=left><div class=\"alert alert-block alert-danger\">**Ex5.2 - nombres pairs à un chiffre**  \n",
    "Ecrivez une expression permettant d'afficher si l'entier `n` est bien un entier pair et compris entre 0 et 9 inclus.  \n",
    "Exemple: 12 est pair mais n'est pas dans l'intervalle donné donc `False` , en revanche pour 4 ça devrait donner `True`. Testez les 4 cas possibles. </div>"
   ]
  },
  {
   "cell_type": "code",
   "execution_count": null,
   "metadata": {},
   "outputs": [
    {
     "name": "stdout",
     "output_type": "stream",
     "text": [
      "True\n"
     ]
    }
   ],
   "source": [
    "n = 6\n",
    "if (n in range(0,9) and n % 2==0 and type(n)==int):\n",
    "    print(True)\n",
    "else:\n",
    "    print(False)"
   ]
  },
  {
   "cell_type": "markdown",
   "metadata": {},
   "source": [
    "<img src=\"https://cdn.pixabay.com/photo/2018/01/04/16/53/building-3061124_960_720.png\" width=30 align=left><div class=\"alert alert-block alert-danger\">**Ex5.3 - Même signe**  \n",
    "Ecrivez une expression permettant d'afficher si `n` et `m` sont bien de même signe.</div>"
   ]
  },
  {
   "cell_type": "code",
   "execution_count": null,
   "metadata": {},
   "outputs": [
    {
     "name": "stdout",
     "output_type": "stream",
     "text": [
      "False\n"
     ]
    }
   ],
   "source": [
    "n = -5\n",
    "m = 1\n",
    "\n",
    "if ((n >= 0 and m >= 0) or (n <= 0 and m <= 0)):\n",
    "    print(True)\n",
    "else:\n",
    "    print(False)"
   ]
  },
  {
   "cell_type": "markdown",
   "metadata": {},
   "source": [
    "<img src=\"https://cdn.pixabay.com/photo/2018/01/04/16/53/building-3061124_960_720.png\" width=30 align=left><div class=\"alert alert-block alert-danger\">**Ex5.4 - Table de vérité du OU**  \n",
    "Complétez l'affichage de la table de vérité (toutes les possibilités d'association de booléens) de l'opérateur OU.</div>"
   ]
  },
  {
   "cell_type": "code",
   "execution_count": null,
   "metadata": {},
   "outputs": [
    {
     "name": "stdout",
     "output_type": "stream",
     "text": [
      "True or True = True\n",
      "True or False = True\n",
      "False or False = False\n"
     ]
    }
   ],
   "source": [
    "print(True,\"or\",True,\"=\",True or True)\n",
    "print(True,\"or\",False,\"=\",True or False)\n",
    "print(False,\"or\",False,\"=\",False or False)\n"
   ]
  },
  {
   "cell_type": "markdown",
   "metadata": {},
   "source": [
    "<img src=\"https://cdn.pixabay.com/photo/2018/01/04/16/53/building-3061124_960_720.png\" width=30 align=left><div class=\"alert alert-block alert-danger\">**Ex5.5 - Petit bilan sur les types et opérateurs vus**  \n",
    "Vous devez maintenant être capables de reconnaître le type obtenu une fois que les expressions suivantes sont finies d'évaluer. Uniquement le type, pas la valeur obtenue ! Essayez de deviner, puis vérifiez.</div>"
   ]
  },
  {
   "cell_type": "code",
   "execution_count": null,
   "metadata": {},
   "outputs": [
    {
     "name": "stdout",
     "output_type": "stream",
     "text": [
      "2\n"
     ]
    }
   ],
   "source": [
    "# 6 - 2 = 4\n",
    "# 6 - 3.2 = 2.8\n",
    "# 6 * 4.3 = 25.8\n",
    "# 5 // 2 = 2\n",
    "# 5 / 2 = 2.5\n",
    "# 6 / 2 = 3\n",
    "# 6 % 2 = 0\n",
    "# \"hello\" + \"ça va ?\" = helloça va\n",
    "# \"hello\" * 3 = hellohellohello\n",
    "# 2 < 4 = True\n",
    "# (2 < 4) or (x == 2) = True\n",
    "# not ( 2<4 and False) = True\n",
    "# 2 <= x < 34  "
   ]
  },
  {
   "cell_type": "markdown",
   "metadata": {},
   "source": [
    "<img src=\"https://cdn.pixabay.com/photo/2021/04/13/09/50/road-6175186_960_720.jpg\" width=350><div class=\"alert alert-block alert-info\">\n",
    "## __BILAN__\n",
    "En python, les **identifiants** doivent ...  \n",
    "La **valeur/objet** associée à un identifiant permet de...  \n",
    "Les **opérateurs** se comportent différemment en fonction de...  \n",
    "Lorsqu'on utilise des opérateurs, il existe un mécanisme de **conversion implicite** qui...  \n",
    "Les principaux **opérateurs numériques** sont `...`.  \n",
    "Parmi ces opérateurs numériques, certains sont un peu particuliers:\n",
    " * `//` qui est ...  \n",
    " * `%` qui est ...  \n",
    " * `**` qui est ...  \n",
    " \n",
    "Les **opérateurs d'affectation** sont `...`.  \n",
    "Les **opérateurs de comparaison** sont `...`.  \n",
    "Les **opérateurs logiques** sont `...`.  \n",
    "Une **expression**, c'est ...\n",
    "</div>"
   ]
  },
  {
   "cell_type": "markdown",
   "metadata": {},
   "source": [
    "'//' pour les divisions arrondie\n",
    "'%' pour les modulo (divisibilité)\n",
    "'**' pour les puissances\n",
    "\n",
    "affection : =\n",
    "comparaisson : ==, <=, >=, !==\n",
    "logique : or, and, not\n",
    "\n",
    "une expression est un if"
   ]
  }
 ],
 "metadata": {
  "kernelspec": {
   "display_name": "Python 3 (ipykernel)",
   "language": "python",
   "name": "python3"
  },
  "language_info": {
   "codemirror_mode": {
    "name": "ipython",
    "version": 3
   },
   "file_extension": ".py",
   "mimetype": "text/x-python",
   "name": "python",
   "nbconvert_exporter": "python",
   "pygments_lexer": "ipython3",
   "version": "3.12.5"
  },
  "toc": {
   "base_numbering": 1,
   "nav_menu": {},
   "number_sections": true,
   "sideBar": true,
   "skip_h1_title": false,
   "title_cell": "Table of Contents",
   "title_sidebar": "Contents",
   "toc_cell": false,
   "toc_position": {},
   "toc_section_display": true,
   "toc_window_display": false
  }
 },
 "nbformat": 4,
 "nbformat_minor": 2
}
