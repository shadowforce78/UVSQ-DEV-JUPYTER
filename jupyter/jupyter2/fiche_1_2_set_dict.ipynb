{
 "cells": [
  {
   "cell_type": "markdown",
   "metadata": {
    "id": "cjDU4EhlsPk6"
   },
   "source": [
    " <img src=\"https://cdn.pixabay.com/photo/2016/02/20/23/59/walnuts-1213008_960_720.jpg\" align=right width=\"400\">  \n",
    " \n",
    "# Ensembles et dictionnaires: les types `set` et `dict`"
   ]
  },
  {
   "cell_type": "markdown",
   "metadata": {
    "id": "SfsYYjdPsa5y"
   },
   "source": [
    "Les types `dict`et `set` sont des **types conteneurs** au même titre que le type `list` mais ce ne sont pas des **types séquentiels**.  \n",
    "On peut imaginer ces types comme un grand sac dans lequel des éléments sont rangés, mais il sont rangés **sans ordre précis**, contrairement aux listes."
   ]
  },
  {
   "cell_type": "markdown",
   "metadata": {
    "id": "_X9mT53cs_5b"
   },
   "source": [
    "## Le type `set` : les ensembles\n",
    "Le type `set` ou ensemble est utilisé pour stocker des éléments de la même façon qu'un ensemble en mathématiques. Il est conçu pour pouvoir rapidement vérifier si un élément est dans l'ensemble ou pas, et pour appliquer des opérations ensemblistes : union, intersection, etc."
   ]
  },
  {
   "cell_type": "code",
   "execution_count": 3,
   "metadata": {
    "colab": {
     "base_uri": "https://localhost:8080/"
    },
    "id": "SgWiQXEIsZPh",
    "outputId": "88df7b8e-5632-46a4-adb7-50b587e68fa5"
   },
   "outputs": [
    {
     "name": "stdout",
     "output_type": "stream",
     "text": [
      "{2, -5.0, 'banane', 'fraise'}\n"
     ]
    }
   ],
   "source": [
    "# création d'un ensemble\n",
    "ensb0 = {2, -5.0, \"banane\", \"fraise\"}\n",
    "print(ensb0)"
   ]
  },
  {
   "cell_type": "markdown",
   "metadata": {
    "id": "vHPIPFTpvKLB"
   },
   "source": [
    "Remarquez que l'ordre des éléments a (probablement) changé. Vous n'avez aucun contrôle sur la façon dont les éléments sont stockés dans l'ensemble, et donc ils peuvent s'afficher dans un ordre différent.  \n",
    "On peut mettre dans un ensemble toutes sortes d'éléments de types différents. La seule contrainte est que ces éléments appartiennent à un **type hashable**. C'est une notion un peu avancée mais pour l'instant on peut retenir que :  \n",
    "* les **types mutables** comme `list` ne peuvent pas être mis dans un ensemble -- comme les objets peuvent muter, les ranger définitivement quelque part pose problème\n",
    "* les **types non mutables** comme `int, float, bool, str` sont hashables et peuvent être mis dans un ensemble (une fois rangés, ils ne bougent pas !)"
   ]
  },
  {
   "cell_type": "markdown",
   "metadata": {},
   "source": [
    "<img src=\"https://cdn.pixabay.com/photo/2018/01/04/16/53/building-3061124_960_720.png\" width=30 align=left><div class=\"alert alert-block alert-danger\">**Exo 2.0 - Hache ta liste**  \n",
    "    Créez une liste `l` d'entiers de 2 à 15 inclus à l'aide de `range` (révision).  \n",
    "    Créez un ensemble `s` contenant l'entier `5` et la liste `l`. "
   ]
  },
  {
   "cell_type": "code",
   "execution_count": 2,
   "metadata": {
    "id": "AbprG3TwvB5D"
   },
   "outputs": [
    {
     "ename": "TypeError",
     "evalue": "unhashable type: 'list'",
     "output_type": "error",
     "traceback": [
      "\u001b[1;31m---------------------------------------------------------------------------\u001b[0m",
      "\u001b[1;31mTypeError\u001b[0m                                 Traceback (most recent call last)",
      "Cell \u001b[1;32mIn[2], line 2\u001b[0m\n\u001b[0;32m      1\u001b[0m l\u001b[38;5;241m=\u001b[39m[]\n\u001b[1;32m----> 2\u001b[0m s\u001b[38;5;241m=\u001b[39m{\u001b[38;5;241m5\u001b[39m, l}\n\u001b[0;32m      3\u001b[0m \u001b[38;5;28;01mfor\u001b[39;00m i \u001b[38;5;129;01min\u001b[39;00m \u001b[38;5;28mrange\u001b[39m(\u001b[38;5;241m2\u001b[39m,\u001b[38;5;241m16\u001b[39m):\n\u001b[0;32m      4\u001b[0m     l\u001b[38;5;241m.\u001b[39mappend(i)\n",
      "\u001b[1;31mTypeError\u001b[0m: unhashable type: 'list'"
     ]
    }
   ],
   "source": [
    "l=[]\n",
    "s={5, l}\n",
    "for i in range(2,16):\n",
    "    l.append(i)\n",
    "\n",
    "print(l)\n",
    "print(s)\n"
   ]
  },
  {
   "cell_type": "markdown",
   "metadata": {},
   "source": [
    "<img src=\"https://cdn.pixabay.com/photo/2016/10/18/19/40/anatomy-1751201_960_720.png\" width=\"30\" align=left><div class=\"alert alert-block alert-info\">**Qu2.0** Un ensemble ne peut pas contenir de liste car...  \n",
    "</div>"
   ]
  },
  {
   "cell_type": "markdown",
   "metadata": {},
   "source": [
    "car une liste n'est pas un type hashable."
   ]
  },
  {
   "cell_type": "markdown",
   "metadata": {},
   "source": [
    "<img src=\"https://cdn.pixabay.com/photo/2018/01/04/16/53/building-3061124_960_720.png\" width=30 align=left><div class=\"alert alert-block alert-danger\">**Exo 2.1 - Le zéroième**  \n",
    "    Créez un ensemble `s` contenant plusieurs objets de votre choix, puis extrayez le premier élément de cet ensemble avec `s[0]`.\n",
    " "
   ]
  },
  {
   "cell_type": "code",
   "execution_count": 4,
   "metadata": {
    "id": "AbprG3TwvB5D"
   },
   "outputs": [
    {
     "ename": "TypeError",
     "evalue": "'set' object is not subscriptable",
     "output_type": "error",
     "traceback": [
      "\u001b[1;31m---------------------------------------------------------------------------\u001b[0m",
      "\u001b[1;31mTypeError\u001b[0m                                 Traceback (most recent call last)",
      "Cell \u001b[1;32mIn[4], line 2\u001b[0m\n\u001b[0;32m      1\u001b[0m s \u001b[38;5;241m=\u001b[39m {\u001b[38;5;241m5\u001b[39m,\u001b[38;5;241m2\u001b[39m,\u001b[38;5;241m68\u001b[39m,\u001b[38;5;124m'\u001b[39m\u001b[38;5;124mhello\u001b[39m\u001b[38;5;124m'\u001b[39m,\u001b[38;5;124m'\u001b[39m\u001b[38;5;124mworld\u001b[39m\u001b[38;5;124m'\u001b[39m}\n\u001b[1;32m----> 2\u001b[0m \u001b[43ms\u001b[49m\u001b[43m[\u001b[49m\u001b[38;5;241;43m0\u001b[39;49m\u001b[43m]\u001b[49m\n",
      "\u001b[1;31mTypeError\u001b[0m: 'set' object is not subscriptable"
     ]
    }
   ],
   "source": [
    "s = {5,2,68,'hello','world'}\n",
    "s[0]"
   ]
  },
  {
   "cell_type": "markdown",
   "metadata": {},
   "source": [
    "<img src=\"https://cdn.pixabay.com/photo/2016/10/18/19/40/anatomy-1751201_960_720.png\" width=\"30\" align=left><div class=\"alert alert-block alert-info\">**Qu2.1** Un ensemble n'est pas une structure qui permet de maintenir un...  \n",
    "    On ne peut donc pas...\n",
    "</div>"
   ]
  },
  {
   "cell_type": "markdown",
   "metadata": {},
   "source": [
    "un ensemble ne peut pas être indexé donc on ne peut pas faire s[0] pour obtenir le premier élément."
   ]
  },
  {
   "cell_type": "markdown",
   "metadata": {},
   "source": [
    "<img src=\"https://cdn.pixabay.com/photo/2018/01/04/16/53/building-3061124_960_720.png\" width=30 align=left><div class=\"alert alert-block alert-danger\">**Exo 2.2 - The one and only**  \n",
    "    Créez un ensemble `s` contenant `2`,`pouet`,`4.3`.  \n",
    "    Affichez l'ensemble.  \n",
    "    Ajoutez à nouveau `2` à l'ensemble (**comment faire? RTFM:** [le type set](https://docs.python.org/fr/3/library/stdtypes.html#set) )  \n",
    "    Affichez à nouveau l'ensemble. Que constatez-vous?\n",
    " "
   ]
  },
  {
   "cell_type": "code",
   "execution_count": 7,
   "metadata": {
    "id": "AbprG3TwvB5D"
   },
   "outputs": [
    {
     "name": "stdout",
     "output_type": "stream",
     "text": [
      "{'poulet', 2, 3, 4}\n",
      "{'poulet', 2, 3, 4}\n"
     ]
    }
   ],
   "source": [
    "s = {2,'poulet',4,3}\n",
    "print(s)\n",
    "s.add(2)\n",
    "print(s)"
   ]
  },
  {
   "cell_type": "markdown",
   "metadata": {},
   "source": [
    "<img src=\"https://cdn.pixabay.com/photo/2016/10/18/19/40/anatomy-1751201_960_720.png\" width=\"30\" align=left><div class=\"alert alert-block alert-info\">**Qu2.2** Dans un ensemble, les éléments sont...\n",
    "</div>"
   ]
  },
  {
   "cell_type": "markdown",
   "metadata": {},
   "source": [
    "les éléments sont unique"
   ]
  },
  {
   "cell_type": "markdown",
   "metadata": {
    "id": "064M4LMP17KP"
   },
   "source": [
    "### Exercices sur les `set`\n",
    "Lisez bien la documentation sur les ensembles [ici](https://docs.python.org/fr/3/library/stdtypes.html#set) avant de faire les exercices qui suivent.  \n"
   ]
  },
  {
   "cell_type": "markdown",
   "metadata": {},
   "source": [
    "<img src=\"https://cdn.pixabay.com/photo/2018/01/04/16/53/building-3061124_960_720.png\" width=30 align=left><div class=\"alert alert-block alert-danger\">**Exo 2.3 - Union**  \n",
    "    Créez l'ensemble `s`contenant tous les entiers de 0 à 14 inclus, l'ensemble `t` contenant tous les entiers pairs de 6 à 20 inclus.  \n",
    "    Fusionnez `s` et `t` dans un nouvel ensemble `u` .  \n",
    "    (cette opération s'appelle une *union* dans le langage mathématique)"
   ]
  },
  {
   "cell_type": "code",
   "execution_count": 12,
   "metadata": {
    "id": "AbprG3TwvB5D"
   },
   "outputs": [
    {
     "name": "stdout",
     "output_type": "stream",
     "text": [
      "{0, 1, 2, 3, 4, 5, 6, 7, 8, 9, 10, 11, 12, 13, 14}\n",
      "{6, 8, 10, 12, 14, 16, 18, 20}\n",
      "{0, 1, 2, 3, 4, 5, 6, 7, 8, 9, 10, 11, 12, 13, 14, 16, 18, 20}\n"
     ]
    }
   ],
   "source": [
    "s = {0, 1, 2, 3, 4, 5, 6, 7, 8, 9, 10, 11, 12, 13, 14}\n",
    "t = {6, 8, 10, 12, 14, 16, 18, 20}\n",
    "print(s)\n",
    "print(t)\n",
    "u = s.union(t)\n",
    "print(u)"
   ]
  },
  {
   "cell_type": "markdown",
   "metadata": {},
   "source": [
    "<img src=\"https://cdn.pixabay.com/photo/2018/01/04/16/53/building-3061124_960_720.png\" width=30 align=left><div class=\"alert alert-block alert-danger\">**Exo 2.3 - Intersection**  \n",
    "    Créez un ensemble `v` qui contiennent les éléments présents dans `s` et `t` .  \n",
    "    (cette opération s'appelle une *intersection* dans le langage mathématique)\n",
    " "
   ]
  },
  {
   "cell_type": "code",
   "execution_count": 13,
   "metadata": {
    "id": "AbprG3TwvB5D"
   },
   "outputs": [
    {
     "name": "stdout",
     "output_type": "stream",
     "text": [
      "{6, 8, 10, 12, 14}\n"
     ]
    }
   ],
   "source": [
    "v = s.intersection(t)\n",
    "print(v)"
   ]
  },
  {
   "cell_type": "markdown",
   "metadata": {},
   "source": [
    "<img src=\"https://cdn.pixabay.com/photo/2018/01/04/16/53/building-3061124_960_720.png\" width=30 align=left><div class=\"alert alert-block alert-danger\">**Exo 2.4 - Différence**  \n",
    "    Créez un ensemble `w` qui contiennent les éléments de `s` qui ne sont pas présents dans `t` .  \n",
    "    (cette opération s'appelle une *différence* dans le langage mathématique)\n",
    " "
   ]
  },
  {
   "cell_type": "code",
   "execution_count": 30,
   "metadata": {
    "id": "AbprG3TwvB5D"
   },
   "outputs": [
    {
     "name": "stdout",
     "output_type": "stream",
     "text": [
      "{0, 1, 2, 3, 4, 5, 7, 9, 11, 12, 13, 14}\n"
     ]
    }
   ],
   "source": [
    "w = s.difference(t)\n",
    "print(w)"
   ]
  },
  {
   "cell_type": "markdown",
   "metadata": {},
   "source": [
    "<img src=\"https://cdn.pixabay.com/photo/2018/01/04/16/53/building-3061124_960_720.png\" width=30 align=left><div class=\"alert alert-block alert-danger\">**Exo 2.5 - On retire**  \n",
    "    Retirez `12` et `14` de `t` .  \n",
    "    Trouvez ensuite la méthode permettant de calculer si `t` est un sous-ensemble de `s` (c'est à dire que tous les éléments de `t` sont aussi dans `s`)."
   ]
  },
  {
   "cell_type": "code",
   "execution_count": 32,
   "metadata": {},
   "outputs": [
    {
     "name": "stdout",
     "output_type": "stream",
     "text": [
      "t n'est pas dans s\n"
     ]
    }
   ],
   "source": [
    "# t.remove(12)\n",
    "# t.remove(14)\n",
    "\n",
    "if s.intersection(t) == s:\n",
    "    print('t est dans s')\n",
    "else:\n",
    "    print('t n\\'est pas dans s')\n"
   ]
  },
  {
   "cell_type": "markdown",
   "metadata": {},
   "source": [
    "<img src=\"https://cdn.pixabay.com/photo/2018/01/04/16/53/building-3061124_960_720.png\" width=30 align=left><div class=\"alert alert-block alert-danger\">**Exo 2.6 - Pop**  \n",
    "    Que fait `pop` sur l'ensemble `w`?"
   ]
  },
  {
   "cell_type": "code",
   "execution_count": 29,
   "metadata": {},
   "outputs": [
    {
     "name": "stdout",
     "output_type": "stream",
     "text": [
      "{11, 13}\n"
     ]
    }
   ],
   "source": [
    "w.pop()\n",
    "print(w)\n",
    "\n",
    "# ça retire le premier élément de l'ensemble"
   ]
  },
  {
   "cell_type": "markdown",
   "metadata": {},
   "source": [
    "<img src=\"https://cdn.pixabay.com/photo/2018/01/04/16/53/building-3061124_960_720.png\" width=30 align=left><div class=\"alert alert-block alert-danger\">**Exo 2.7 - Parcours**  \n",
    "    Créez une boucle qui parcourt `w` et affiche les carrés de ses éléments."
   ]
  },
  {
   "cell_type": "code",
   "execution_count": 34,
   "metadata": {},
   "outputs": [
    {
     "name": "stdout",
     "output_type": "stream",
     "text": [
      "{0, 1, 2, 3, 4, 5, 7, 9, 11, 12, 13, 14}\n",
      "0\n",
      "1\n",
      "4\n",
      "9\n",
      "16\n",
      "25\n",
      "49\n",
      "81\n",
      "121\n",
      "144\n",
      "169\n",
      "196\n"
     ]
    }
   ],
   "source": [
    "print(w)\n",
    "for i in w:\n",
    "    print(i*i)"
   ]
  },
  {
   "cell_type": "markdown",
   "metadata": {},
   "source": [
    "<img src=\"https://cdn.pixabay.com/photo/2018/01/04/16/53/building-3061124_960_720.png\" width=30 align=left><div class=\"alert alert-block alert-danger\">**Exo 2.8 - Ma diffèrence à moi**  \n",
    "    Vous allez reconstruire la méthode `difference` vue au 2.4:  créez une boucle qui parcourt `s`, et qui ajoute dans un nouvel ensemble `x` chaque élément de `s` qui n'appartient pas à `t` .  \n",
    "    (vous devez  utiliser les opérateurs `in` et `not in`) "
   ]
  },
  {
   "cell_type": "code",
   "execution_count": null,
   "metadata": {},
   "outputs": [],
   "source": []
  },
  {
   "cell_type": "markdown",
   "metadata": {},
   "source": [
    "## Le type `dict`\n",
    "Le type `dict` est un type conteneur, non séquentiel, basé (comme `set`) sur le principe très efficace du [hachage](https://fr.wikipedia.org/wiki/Fonction_de_hachage) que vous découvrirez l'année prochaine. Son principe est le suivant: **il stocke des associations de clés uniques et de valeurs**.  \n",
    "*(Une liste stocke des associations d'indices et de valeurs)*  \n",
    "Les clés doivent appartenir à un type hashable (donc non mutable), comme c'est le cas pour les ensembles, et à part ça le type peut être quelconque : on peut donc avoir en clé des `int, float, str, tuple`, mais pas des `list`, des `dict` ou des `sets`. Les valeurs, elles, peuvent être d'un type quelconque.\n",
    "Leur construction est similaire à celle des ensembles, à la différence qu'on stocke donc des associations:"
   ]
  },
  {
   "cell_type": "code",
   "execution_count": 12,
   "metadata": {},
   "outputs": [
    {
     "name": "stdout",
     "output_type": "stream",
     "text": [
      "<class 'dict'>\n",
      "{'Paris': 2175601, 'Marseille': 868277, 'Lyon': 518635, 'Toulouse': 486828}\n"
     ]
    }
   ],
   "source": [
    "# dictionnaire des 4 plus grandes villes françaises et de leur population\n",
    "topPop = {\"Paris\":2175601,  \"Marseille\":868277, \"Lyon\":518635 , \"Toulouse\":486828}\n",
    "print(type(topPop))\n",
    "print(topPop)"
   ]
  },
  {
   "cell_type": "markdown",
   "metadata": {},
   "source": [
    "Nous verrons quand vous serez devenus très forts que la recherche d'une clé dans un dictionnaire est beaucoup plus rapide qu'une simple recherche dans une liste. A ce titre, l'utilisation de l'opérateur `in` est beaucoup moins coûteuse dans les ensembles ou les dictionnaires que dans les listes (mais on ne peut pas s'en rendre compte pour le moment)."
   ]
  },
  {
   "cell_type": "code",
   "execution_count": 13,
   "metadata": {},
   "outputs": [
    {
     "name": "stdout",
     "output_type": "stream",
     "text": [
      "True\n",
      "False\n",
      "False\n"
     ]
    }
   ],
   "source": [
    "print(\"Paris\" in topPop)\n",
    "print(\"Maubeuge\" in topPop)\n",
    "print(518635 in topPop)"
   ]
  },
  {
   "cell_type": "markdown",
   "metadata": {},
   "source": [
    "<img src=\"https://cdn.pixabay.com/photo/2016/10/18/19/40/anatomy-1751201_960_720.png\" width=\"30\" align=left><div class=\"alert alert-block alert-info\">**Qu2.3** Dans un dictionnaire, on peut effectuer une recherche sur les .... mais pas sur les ...\n",
    "</div>"
   ]
  },
  {
   "cell_type": "markdown",
   "metadata": {},
   "source": [
    "<img src=\"https://cdn.pixabay.com/photo/2018/01/04/16/53/building-3061124_960_720.png\" width=30 align=left><div class=\"alert alert-block alert-danger\">**Exo 2.9 - Listes de clés et valeurs**  \n",
    "    Les méthodes `keys` et `values` permettent de construire les listes des clés et des valeurs d'un dictionnaire. Testez les."
   ]
  },
  {
   "cell_type": "code",
   "execution_count": null,
   "metadata": {},
   "outputs": [],
   "source": []
  },
  {
   "cell_type": "markdown",
   "metadata": {},
   "source": [
    "Pour ajouter des couples clé/valeur à un dictionnaire, il suffit de définir ce couple à l'aide d'une syntaxe similaire à celle des listes: `topPop[\"Maubeuge\"]=30100`. "
   ]
  },
  {
   "cell_type": "markdown",
   "metadata": {},
   "source": [
    "<img src=\"https://cdn.pixabay.com/photo/2018/01/04/16/53/building-3061124_960_720.png\" width=30 align=left><div class=\"alert alert-block alert-danger\">**Exo 2.10 - Maubeuge rulz**  \n",
    "    Ajoutez Maubeuge au dictionnaire, puis tentez de supprimer Toulouse.  \n",
    "    Si vous n'y parvenez pas, la documentation est [ici](https://docs.python.org/fr/3/library/stdtypes.html#mapping-types-dict)."
   ]
  },
  {
   "cell_type": "code",
   "execution_count": null,
   "metadata": {},
   "outputs": [],
   "source": []
  },
  {
   "cell_type": "markdown",
   "metadata": {},
   "source": [
    "<img src=\"https://cdn.pixabay.com/photo/2018/01/04/16/53/building-3061124_960_720.png\" width=30 align=left><div class=\"alert alert-block alert-danger\">**Exo 2.11 - Présentation du dictionnaire**  \n",
    "    Ecrivez un programme qui liste le contenu du dictionnaire sous la forme  \n",
    "    `Paris a une population de...`,  \n",
    "    `Marseille a une population de...`  \n",
    "    ..."
   ]
  },
  {
   "cell_type": "code",
   "execution_count": null,
   "metadata": {},
   "outputs": [],
   "source": []
  },
  {
   "cell_type": "markdown",
   "metadata": {},
   "source": [
    "<img src=\"https://cdn.pixabay.com/photo/2018/01/04/16/53/building-3061124_960_720.png\" width=30 align=left><div class=\"alert alert-block alert-danger\">**Exo 2.12 - PII: Programme Intelligent Interactif**  \n",
    "* Ecrivez un programme qui demande à l'utilisateur un nom de ville, le recherche dans le dictionnaire et affiche sa population si il est présent.  \n",
    "* Augmentez ce programme de façon à ce que, si un nom de ville inconnue est entré, votre programme demande sa population et l'ajoute dans le dictionnaire."
   ]
  },
  {
   "cell_type": "code",
   "execution_count": null,
   "metadata": {},
   "outputs": [],
   "source": []
  }
 ],
 "metadata": {
  "colab": {
   "name": "Untitled0.ipynb",
   "provenance": []
  },
  "kernelspec": {
   "display_name": "Python 3 (ipykernel)",
   "language": "python",
   "name": "python3"
  },
  "language_info": {
   "codemirror_mode": {
    "name": "ipython",
    "version": 3
   },
   "file_extension": ".py",
   "mimetype": "text/x-python",
   "name": "python",
   "nbconvert_exporter": "python",
   "pygments_lexer": "ipython3",
   "version": "3.12.5"
  }
 },
 "nbformat": 4,
 "nbformat_minor": 1
}
