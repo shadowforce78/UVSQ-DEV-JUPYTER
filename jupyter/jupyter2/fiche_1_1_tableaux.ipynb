{
 "cells": [
  {
   "cell_type": "markdown",
   "metadata": {},
   "source": [
    "<img src=\"https://cdn.pixabay.com/photo/2017/10/13/05/26/silk-tie-2846862_960_720.jpg\" width=40% >\n",
    "\n",
    "# Séquence 1- Fiche 1 : algorithmique des tableaux"
   ]
  },
  {
   "cell_type": "markdown",
   "metadata": {},
   "source": [
    "Le type `list`est la version python d'une structure de données assez générale dans les langages de programmation et qui s'appelle un **tableau**.   \n",
    "\n",
    "Dans les exercices ci-dessous, **le but est d'effectuer ce qui est demandé uniquement en utilisant des boucles, des variables, et les indices des listes. Il est interdit d'utiliser une méthode**.  \n",
    "\n",
    "-> Le but est de comprendre *comment* sont implémentées les méthodes.\n",
    "\n",
    "Dans la mesure du possible, on évite ainsi également de trop modifier la structure des tableaux : ne pas insérer ou supprimer des \"cases\", qui sont des opérations coûteuses en temps de calcul.\n",
    "\n",
    "Bien entendu, la plupart des exercices sont fournis avec un exemple à traiter, mais votre programme devrait fonctionner pour tous les exemples du même type, quelle que soit leur taille."
   ]
  },
  {
   "cell_type": "markdown",
   "metadata": {},
   "source": [
    "<img src=\"https://cdn.pixabay.com/photo/2018/01/04/16/53/building-3061124_960_720.png\" width=30 align=left><div class=\"alert alert-block alert-danger\">  \n",
    "**Exo 1.0 -- première sommation** Calculez la somme S des éléments du tableau avec une boucle. Vérifiez avec la fonction native `sum`."
   ]
  },
  {
   "cell_type": "code",
   "execution_count": 14,
   "metadata": {},
   "outputs": [],
   "source": [
    "l = [3,5,3,-1,6,4,9]\n",
    "\n",
    "\n",
    "#print(S)"
   ]
  },
  {
   "cell_type": "markdown",
   "metadata": {},
   "source": [
    "<img src=\"https://cdn.pixabay.com/photo/2018/01/04/16/53/building-3061124_960_720.png\" width=30 align=left><div class=\"alert alert-block alert-danger\">  \n",
    "**Exo 1.1 -- who's the best ?** Calculez le maximum `maxi` des éléments du tableau avec une boucle. Vérifiez avec la fonction native `max`."
   ]
  },
  {
   "cell_type": "code",
   "execution_count": 15,
   "metadata": {},
   "outputs": [],
   "source": [
    "l = [3,5,3,-1,6,4,9]\n",
    "\n",
    "\n",
    "#print(maxi)"
   ]
  },
  {
   "cell_type": "markdown",
   "metadata": {},
   "source": [
    "<img src=\"https://cdn.pixabay.com/photo/2018/01/04/16/53/building-3061124_960_720.png\" width=30 align=left><div class=\"alert alert-block alert-danger\">  \n",
    "**Exo 1.2 -- donnez-moi un indice.** Maintenant, vous devez calculer l'indice où se trouve le maximum du tableau ! Testez avec les différents exemples. Si le maximum apparaît plusieurs fois, donnez le premier indice possible. Vérifiez en utilisant les bonnes méthodes ;)  \n",
    "N'hésitez pas à tester d'autres exemples plus longs ou plus courts !"
   ]
  },
  {
   "cell_type": "code",
   "execution_count": 17,
   "metadata": {},
   "outputs": [],
   "source": [
    "l = [3,4,5,3,6,4,3,4]\n",
    "# l = [3,6,5,3,6,4,3,4]\n",
    "\n",
    "\n",
    "# print(indice_maxi)"
   ]
  },
  {
   "cell_type": "markdown",
   "metadata": {},
   "source": [
    "<img src=\"https://cdn.pixabay.com/photo/2018/01/04/16/53/building-3061124_960_720.png\" width=30 align=left><div class=\"alert alert-block alert-danger\">  \n",
    "**Exo 1.3 -- nan finalement, tous les indices.** Même exercice mais vous devez construire une nouvelle liste qui contient tous les indices des maximums.  \n",
    "Et ceci en un seul passage dans le tableau !! Vous avez le droit à la méthode `append` pour construire la liste des indices cherchés."
   ]
  },
  {
   "cell_type": "code",
   "execution_count": 18,
   "metadata": {},
   "outputs": [],
   "source": [
    "l = [3,4,5,3,6,4,3,4]  # réponse attendue [4]\n",
    "# l = [3,6,5,3,6,4,3,4] # réponse attendue [1,4]\n",
    "# l = [1,1,0,1,1] # réponse attendue [0,1,3,4]\n",
    "\n",
    "\n",
    "\n",
    "#print(indices_maxi)"
   ]
  },
  {
   "cell_type": "markdown",
   "metadata": {},
   "source": [
    "<img src=\"https://cdn.pixabay.com/photo/2018/01/04/16/53/building-3061124_960_720.png\" width=30 align=left><div class=\"alert alert-block alert-danger\">  \n",
    "**Exo 1.4 -- miroir mon beau miroir.**\n",
    "Testez en calculant un booléen si une chaîne de caractère est un palindrome, comme par exemple\n",
    "”elu par cette crapule”, c’est-à-dire une chaı̂ne de caractères qui peut se lire de la même manière\n",
    "dans les deux sens, si on ne tient pas compte des espaces. On pourra supposer dans un premier\n",
    "temps que la chaı̂ne ne contient pas d’espaces (par exemple ”eluparcettecrapule”).\n",
    "    \n",
    "Dans un deuxième temps, vous pouvez faire la version qui vérifie si la chaîne est bien un palindrome en faisant abstraction des espaces."
   ]
  },
  {
   "cell_type": "code",
   "execution_count": 19,
   "metadata": {},
   "outputs": [],
   "source": [
    "s = \"eluparcettecrapule\"  #reponse attendue True\n",
    "# s = \"bonjour\" # reponse attendue False\n",
    "# s = ... à vous d'en tester d'autres !!\n",
    "\n",
    "\n",
    "\n",
    "#print(est_un_palindrome)"
   ]
  },
  {
   "cell_type": "markdown",
   "metadata": {},
   "source": [
    "<img src=\"https://cdn.pixabay.com/photo/2018/01/04/16/53/building-3061124_960_720.png\" width=30 align=left><div class=\"alert alert-block alert-danger\">  \n",
    "**Exo 1.5 -- faire l'inverse.** On donne une liste et on demande de l'inverser. Par exemple [1,2,3,4] devient [4,3,2,1]. Et ceci toujours **sans utiliser** de méthode qui fait tout le boulot (quelle méthode, d'ailleurs ?).  \n",
    "Testez avec des tableaux de longueur paire, impaire, un tableau vide ou de longueur 1 !"
   ]
  },
  {
   "cell_type": "code",
   "execution_count": 20,
   "metadata": {},
   "outputs": [
    {
     "name": "stdout",
     "output_type": "stream",
     "text": [
      "[0, 1, 2, 3, 4, 5, 6, 7, 8, 9, 10, 11, 12, 13, 14, 15, 16, 17, 18, 19]\n"
     ]
    }
   ],
   "source": [
    "l = list(range(20))\n",
    "\n",
    "\n",
    "\n",
    "print(l) #devrait avoir été inversée.."
   ]
  },
  {
   "cell_type": "markdown",
   "metadata": {},
   "source": [
    "<img src=\"https://cdn.pixabay.com/photo/2018/01/04/16/53/building-3061124_960_720.png\" width=30 align=left><div class=\"alert alert-block alert-danger\">  \n",
    "**Exo 1.6 -- le péhelpécé.** Maintenant on donne deux chaînes de caractères et on veut calculer leur *plus long préfixe commun*. Mais qu'est-ce que le plus long préfixe commun me direz vous ? Bah justement j'allais vous le dire.  \n",
    "C'est la plus longue chaîne de caractères qu'on puisse écrire et qui soit le début de chaque mot. Par exemple, le PLPC de \"banane\" et \"banjo\" est \"ban\". Celui de \"banane\" et \"fraise\" est \"\"."
   ]
  },
  {
   "cell_type": "code",
   "execution_count": 21,
   "metadata": {},
   "outputs": [],
   "source": [
    "s1 = \"banane\"\n",
    "s2 = \"banjo\"\n",
    "\n",
    "\n",
    "\n",
    "# print(plpc)"
   ]
  },
  {
   "cell_type": "markdown",
   "metadata": {},
   "source": [
    "<img src=\"https://cdn.pixabay.com/photo/2018/01/04/16/53/building-3061124_960_720.png\" width=30 align=left><div class=\"alert alert-block alert-danger\">  \n",
    "**Exo 1.7 -- pour rester positif.** On donne une liste d'entiers. Il faut calculer un booléen qui indique si tous les éléments de la liste sont bien positifs. Testez sur différents exemples. Si vous êtes fort on peut vérifier ça avec des méthodes ou fonctions natives aussi ensuite."
   ]
  },
  {
   "cell_type": "code",
   "execution_count": 23,
   "metadata": {},
   "outputs": [],
   "source": [
    "l1 = list(range(20)) #reponse attendue True\n",
    "l2 = [0,1,-2,4,3,-5]   #reponse attendue False\n",
    "\n",
    "\n",
    "\n",
    "# print(resultat)"
   ]
  },
  {
   "cell_type": "markdown",
   "metadata": {},
   "source": [
    "<img src=\"https://cdn.pixabay.com/photo/2018/01/04/16/53/building-3061124_960_720.png\" width=30 align=left><div class=\"alert alert-block alert-danger\">  \n",
    "**Exo 1.8 liste croissante ou liste chocolatine ?** On donne une liste d'entiers. Il faut calculer un booléen qui indique si la liste est en ordre croissant (au sens large) ou non. Testez sur différents exemples !"
   ]
  },
  {
   "cell_type": "code",
   "execution_count": 22,
   "metadata": {},
   "outputs": [],
   "source": [
    "l1 = list(range(20)) #reponse attendue True\n",
    "l2 = [0,1,2,4,3,5]   #reponse attendue False\n",
    "\n",
    "\n",
    "\n",
    "# print(resultat)"
   ]
  },
  {
   "cell_type": "code",
   "execution_count": null,
   "metadata": {},
   "outputs": [],
   "source": []
  },
  {
   "cell_type": "markdown",
   "metadata": {},
   "source": [
    "<img src=\"https://cdn.pixabay.com/photo/2018/01/04/16/53/building-3061124_960_720.png\" width=30 align=left><div class=\"alert alert-block alert-danger\">  \n",
    "**Exo 1.9 -- la fusion, c'est chaud.** On donne maintenant deux listes croissantes et on veut créer la fusion croissante des deux listes (une nouvelle liste). Voir l'exemple. Testez aussi sur d'autres exemples où les listes ont des longueurs différentes."
   ]
  },
  {
   "cell_type": "code",
   "execution_count": 25,
   "metadata": {},
   "outputs": [],
   "source": [
    "l1 = [0,2,4,5]\n",
    "l2 = [1,1,2,3,4,6,7,10]\n",
    "\n",
    "\n",
    "\n",
    "#print(fusion) # reponse attendue [0,1,1,2,2,3,4,4,5,6,7,10]"
   ]
  },
  {
   "cell_type": "code",
   "execution_count": null,
   "metadata": {},
   "outputs": [],
   "source": []
  }
 ],
 "metadata": {
  "kernelspec": {
   "display_name": "Python 3",
   "language": "python",
   "name": "python3"
  },
  "language_info": {
   "codemirror_mode": {
    "name": "ipython",
    "version": 3
   },
   "file_extension": ".py",
   "mimetype": "text/x-python",
   "name": "python",
   "nbconvert_exporter": "python",
   "pygments_lexer": "ipython3",
   "version": "3.8.10"
  },
  "toc": {
   "base_numbering": 1,
   "nav_menu": {},
   "number_sections": false,
   "sideBar": true,
   "skip_h1_title": false,
   "title_cell": "Table of Contents",
   "title_sidebar": "Contents",
   "toc_cell": false,
   "toc_position": {},
   "toc_section_display": true,
   "toc_window_display": false
  }
 },
 "nbformat": 4,
 "nbformat_minor": 4
}
