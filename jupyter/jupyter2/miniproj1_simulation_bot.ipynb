{
 "cells": [
  {
   "attachments": {},
   "cell_type": "markdown",
   "metadata": {},
   "source": [
    "<img src=\"https://cdn.pixabay.com/photo/2017/08/30/16/16/robot-2697683_960_720.png\" width=350 align=right>\n",
    "\n",
    "# Séquence 1 : simulation d'un bot et analyse statistique\n",
    "\n",
    "On considère un batiment constitué de 6 pièces agencées sous la forme  \n",
    "\n",
    "\n",
    "## A B C  \n",
    "## D E F  \n",
    "\n",
    "\n",
    "Chaque pièce contient des passages dans chacune des pièces adjacentes, dans les quatre directions. Par exemple, on peut aller de B en A, E ou C. Il peut d'agir d'un bâtiment réel ou virtuel (par exemple, dans un jeu vidéo). \n",
    "\n",
    "Un bot représentant un personnage non joueur mène la garde dans le bâtiment.  \n",
    "* au temps 0, le bot est en A\n",
    "* à chaque nouveau pas de temps, le bot se déplace au hasard dans une pièce adjacente, avec la même probabilité pour chacune des directions possibles. Le bot ne se déplace pas en diagonale.\n",
    "* lorsque le bot revient *pour la troisième fois* dans la pièce F, alors son mouvement cesse et il reste définitivement en F.\n",
    "\n",
    "On souhaiterait répondre aux questions suivantes :  \n",
    "1) Quel est le temps moyen que prend le processus pour que le bot termine son mouvement ?  \n",
    "2) Quand le mouvement du bot est terminé, combien de fois le bot est-il passé en D en moyenne ? (un joueur se cache en D alors cette quantité est importante et permet de déterminer s'il s'agit d'une bonne cachette)."
   ]
  },
  {
   "cell_type": "markdown",
   "metadata": {},
   "source": [
    "## 1. La biblothèque `random`"
   ]
  },
  {
   "cell_type": "markdown",
   "metadata": {},
   "source": [
    "Comme toutes les biliothèques, elle s'importe en éxecutant :"
   ]
  },
  {
   "cell_type": "code",
   "execution_count": 3,
   "metadata": {},
   "outputs": [],
   "source": [
    "import random"
   ]
  },
  {
   "cell_type": "markdown",
   "metadata": {},
   "source": [
    "Deux fonctions de la bibliothèque peuvent être utiles ici :  \n",
    "* `random.randint`\n",
    "* `random.rand()`\n",
    "A vous de chercher dans la doc comment s'en servir."
   ]
  },
  {
   "cell_type": "markdown",
   "metadata": {},
   "source": [
    "## 2. Estimer une probabilité par simulation"
   ]
  },
  {
   "cell_type": "markdown",
   "metadata": {},
   "source": [
    "Voici un exemple simple : on lance un dé standard à 6 faces un grand nombre de fois, et on veut estimer la probabilité d'obtenir un 6. Bien entendu, la probabilité théorique est de 1/6, mais on va mesurer la fréquence de 6 observée sur un grand nombre de simulations, et utiliser cette fréquence comme une approximation expérimentale de la probabilité."
   ]
  },
  {
   "cell_type": "code",
   "execution_count": 7,
   "metadata": {},
   "outputs": [
    {
     "name": "stdout",
     "output_type": "stream",
     "text": [
      "0.1658\n"
     ]
    }
   ],
   "source": [
    "N = 10000 #nombre de simulations\n",
    "simuls = []\n",
    "for i in range(N):\n",
    "    simuls.append( random.randint(1,6))\n",
    "print(simuls.count(6) / N)"
   ]
  },
  {
   "cell_type": "markdown",
   "metadata": {},
   "source": [
    "On observe une bonne approximation de la valeur \"théorique\""
   ]
  },
  {
   "cell_type": "code",
   "execution_count": 8,
   "metadata": {},
   "outputs": [
    {
     "data": {
      "text/plain": [
       "0.16666666666666666"
      ]
     },
     "execution_count": 8,
     "metadata": {},
     "output_type": "execute_result"
    }
   ],
   "source": [
    "1/6"
   ]
  },
  {
   "cell_type": "markdown",
   "metadata": {},
   "source": [
    "## 3. Faire une simulation du bot\n",
    "En revenant au problème initial, il faut parvenir à faire une simulation du déplacement du bot aléatoire du bot dans les pièces jusqu'à ce qu'il arrive en F pour la troisième fois. Une fois cette simulation finie, on peut calculer le temps qu'il a mis pour terminer le mouvement, et le nombre de passages en D.  \n",
    "On peut ensuite répéter cette simulation un grand nombre de fois pour observer le temps moyen que prend le processus pour se terminer, et le nombre de passages moyen en D."
   ]
  },
  {
   "cell_type": "code",
   "execution_count": null,
   "metadata": {},
   "outputs": [],
   "source": []
  }
 ],
 "metadata": {
  "kernelspec": {
   "display_name": "Python 3",
   "language": "python",
   "name": "python3"
  },
  "language_info": {
   "codemirror_mode": {
    "name": "ipython",
    "version": 3
   },
   "file_extension": ".py",
   "mimetype": "text/x-python",
   "name": "python",
   "nbconvert_exporter": "python",
   "pygments_lexer": "ipython3",
   "version": "3.5.2"
  },
  "toc": {
   "base_numbering": 1,
   "nav_menu": {},
   "number_sections": false,
   "sideBar": true,
   "skip_h1_title": false,
   "title_cell": "Table of Contents",
   "title_sidebar": "Contents",
   "toc_cell": false,
   "toc_position": {},
   "toc_section_display": true,
   "toc_window_display": false
  }
 },
 "nbformat": 4,
 "nbformat_minor": 4
}
