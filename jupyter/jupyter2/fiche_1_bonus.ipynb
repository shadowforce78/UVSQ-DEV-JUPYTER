{
 "cells": [
  {
   "cell_type": "markdown",
   "metadata": {
    "id": "cjDU4EhlsPk6"
   },
   "source": [
    " <img src=\"https://cdn.pixabay.com/photo/2017/05/11/13/15/slot-machine-2304135_960_720.png\" align=right width=\"250\">   \n",
    "# Bonus \n",
    "**A faire si et seulement si toute la séquence 1 est terminée.**"
   ]
  },
  {
   "cell_type": "markdown",
   "metadata": {},
   "source": [
    "<img src=\"https://cdn.pixabay.com/photo/2018/01/04/16/53/building-3061124_960_720.png\" width=30 align=left><div class=\"alert alert-block alert-danger\">**Exo B.0 - Plus longue suite de zéros**  \n",
    "    Ecrire un programme qui, pour une liste d'entiers, calcule la longueur de la plus longue suite de zéros consécutifs."
   ]
  },
  {
   "cell_type": "code",
   "execution_count": null,
   "metadata": {
    "id": "AbprG3TwvB5D"
   },
   "outputs": [],
   "source": []
  },
  {
   "cell_type": "markdown",
   "metadata": {},
   "source": [
    "<img src=\"https://cdn.pixabay.com/photo/2018/01/04/16/53/building-3061124_960_720.png\" width=30 align=left><div class=\"alert alert-block alert-danger\">**Exo B.1 - Plus long sous-tableau croissant**  \n",
    "    Ecrire un programme qui, pour une liste d'entiers, calcule la longueur de la plus longue suite croissante d'entiers de la liste."
   ]
  },
  {
   "cell_type": "code",
   "execution_count": null,
   "metadata": {
    "id": "AbprG3TwvB5D"
   },
   "outputs": [],
   "source": []
  },
  {
   "cell_type": "markdown",
   "metadata": {},
   "source": [
    "<img src=\"https://cdn.pixabay.com/photo/2018/01/04/16/53/building-3061124_960_720.png\" width=30 align=left><div class=\"alert alert-block alert-danger\">**Exo B.2 - Del repeat**  \n",
    "    Ecrire un programme  qui, pour une liste d'entiers, supprime les répétitions consécutives **dans cette même liste** (sans créer de nouvelle liste). On n'utilisera pas de méthode des listes, trop coûteuses, mais on procèdera en décalant efficacement les valeurs. La fin de la liste sera complétée avec des `None`.  \n",
    "    *Exemple:* `[1,1,7,3,3,3,4]` devient `[1,7,3,4,None,None,None]`"
   ]
  },
  {
   "cell_type": "code",
   "execution_count": null,
   "metadata": {
    "id": "AbprG3TwvB5D"
   },
   "outputs": [],
   "source": []
  },
  {
   "cell_type": "markdown",
   "metadata": {},
   "source": [
    "<img src=\"https://cdn.pixabay.com/photo/2018/01/04/16/53/building-3061124_960_720.png\" width=30 align=left><div class=\"alert alert-block alert-danger\">**Exo B.3 - Tri bicolore**  \n",
    "    Considérons une liste de 10 éléments ayant  deux valeurs possibles: `'h'` ou `'f'`.  \n",
    "    *Exemple:* `['h','h','f','h','h','f','f','f','f','h']`  \n",
    "    On souhaite ordonner cette liste de façon à placer tous les `'h'` en début de liste et tous les `'f'` à la fin.  \n",
    "    Vous devez trouver un algorithme efficace qui réalise ce tri en un seul passage."
   ]
  },
  {
   "cell_type": "code",
   "execution_count": null,
   "metadata": {
    "id": "AbprG3TwvB5D"
   },
   "outputs": [],
   "source": []
  },
  {
   "cell_type": "markdown",
   "metadata": {},
   "source": [
    "<img src=\"https://cdn.pixabay.com/photo/2018/01/04/16/53/building-3061124_960_720.png\" width=30 align=left><div class=\"alert alert-block alert-danger\">**Exo B.4 - Tri tricolore**  \n",
    "    Même exercice...avec trois valeurs possibles: `'h'`, `'f'` ou `'n'`.  "
   ]
  },
  {
   "cell_type": "code",
   "execution_count": null,
   "metadata": {
    "id": "AbprG3TwvB5D"
   },
   "outputs": [],
   "source": []
  },
  {
   "cell_type": "markdown",
   "metadata": {},
   "source": [
    "<img src=\"https://cdn.pixabay.com/photo/2018/01/04/16/53/building-3061124_960_720.png\" width=30 align=left><div class=\"alert alert-block alert-danger\">**Exo B.5 - Dichotomie**  \n",
    "    On dispose d'une liste `l` de 20 entiers triés. On souhaite rechercher un élément `n` dans cette liste. La méthode dichotomique permet de rechercher bien plus efficacement que la méthode classique.  \n",
    "**Principe**: comparer la valeur `n` recherchée avec la valeur `m` se trouvant au milieu de la liste.  \n",
    " * si `n==m`, c'est gagné \n",
    " * si la valeur recherchée est plus petite que `m`, c'est qu'il faut chercher `n` dans la moitié gauche du tableau\n",
    " * sinon, dans la partie droite\n",
    " * puis réitérer la recherche dans la sous-partie sélectionnée\n",
    " "
   ]
  },
  {
   "cell_type": "code",
   "execution_count": null,
   "metadata": {
    "id": "AbprG3TwvB5D"
   },
   "outputs": [],
   "source": []
  },
  {
   "cell_type": "markdown",
   "metadata": {},
   "source": [
    "<img src=\"https://cdn.pixabay.com/photo/2018/01/04/16/53/building-3061124_960_720.png\" width=30 align=left><div class=\"alert alert-block alert-danger\">**Exo B.6 - Combi**  \n",
    "    On dispose d'une liste `l` de 10 entiers quelconques.  \n",
    "    Construire et afficher toutes les listes possibles de 3 entiers issus de cette liste `l`.\n",
    " "
   ]
  },
  {
   "cell_type": "code",
   "execution_count": null,
   "metadata": {
    "id": "AbprG3TwvB5D"
   },
   "outputs": [],
   "source": []
  }
 ],
 "metadata": {
  "colab": {
   "name": "Untitled0.ipynb",
   "provenance": []
  },
  "kernelspec": {
   "display_name": "Python 3",
   "language": "python",
   "name": "python3"
  },
  "language_info": {
   "codemirror_mode": {
    "name": "ipython",
    "version": 3
   },
   "file_extension": ".py",
   "mimetype": "text/x-python",
   "name": "python",
   "nbconvert_exporter": "python",
   "pygments_lexer": "ipython3",
   "version": "3.8.10"
  }
 },
 "nbformat": 4,
 "nbformat_minor": 1
}
